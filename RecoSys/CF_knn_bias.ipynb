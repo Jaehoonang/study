{
  "nbformat": 4,
  "nbformat_minor": 0,
  "metadata": {
    "colab": {
      "provenance": [],
      "mount_file_id": "1it4XR4nClXDufglFbzcB_pgcX0zIbEl6",
      "authorship_tag": "ABX9TyP5LZl7zC+X9tISBb/JSvfd"
    },
    "kernelspec": {
      "name": "python3",
      "display_name": "Python 3"
    },
    "language_info": {
      "name": "python"
    }
  },
  "cells": [
    {
      "cell_type": "code",
      "execution_count": 8,
      "metadata": {
        "id": "WerBW9rNXBmv"
      },
      "outputs": [],
      "source": [
        "import os\n",
        "import pandas as pd\n",
        "import numpy as np\n",
        "from sklearn.model_selection import train_test_split\n",
        "from sklearn.metrics.pairwise import cosine_similarity\n",
        "\n",
        "base_src = 'drive/MyDrive/RecoSys/Data'\n",
        "u_user_src = os.path.join(base_src, 'u.user')\n",
        "u_cols = ['user_id', 'age', 'sex', 'occupation', 'zip_code']\n",
        "users = pd.read_csv(u_user_src,\n",
        "                    sep='|',\n",
        "                    names = u_cols,\n",
        "                    encoding = 'latin-1')\n",
        "users = users.set_index('user_id')\n",
        "\n",
        "u_item_src = os.path.join(base_src, 'u.item')\n",
        "i_cols = ['movie_id', 'title', 'relase_date', 'video release data',\n",
        "          'IMDB URL', 'unknown', 'Action', 'Adventure', 'Animation',\n",
        "          'Children\\'s', 'Comedy','Crime', 'Documentary', 'Drama', 'Fantasy',\n",
        "          'Film-Noir', 'Horror', 'Musical', 'Mystery', 'Romance', 'Sci-Fi', 'Thriller', 'War', 'Western']\n",
        "movies = pd.read_csv(u_item_src,\n",
        "                     sep='|',\n",
        "                     names= i_cols,\n",
        "                     encoding = 'latin-1')\n",
        "movies = movies.set_index('movie_id')\n",
        "\n",
        "u_data_src = os.path.join(base_src, 'u.data')\n",
        "r_cols = ['user_id', 'movie_id', 'rating', 'timestamp']\n",
        "ratings = pd.read_csv(u_data_src,\n",
        "                      sep='\\t',\n",
        "                      names=r_cols,\n",
        "                      encoding='latin-1')"
      ]
    },
    {
      "cell_type": "code",
      "source": [
        "def RMSE(y_true, y_pred):\n",
        "  return np.sqrt(np.mean((np.array(y_true) - np.array(y_pred))**2))\n",
        "\n",
        "def score(model, neighbor_size=0):\n",
        "  id_pairs = zip(x_test['user_id'], x_test['movie_id'])\n",
        "  y_pred = np.array([model(user, movie, neighbor_size) for (user, movie) in id_pairs])\n",
        "\n",
        "  y_true = np.array(x_test['rating'])\n",
        "  return RMSE(y_true, y_pred)\n",
        "\n",
        "x = ratings.copy()\n",
        "y = ratings['user_id']\n",
        "x_train, x_test, y_train, y_test = train_test_split(x, y, test_size=0.25, stratify=y)\n",
        "rating_matrix = x_train.pivot(index='user_id', columns='movie_id', values='rating')\n",
        "\n",
        "matrix_dummy = rating_matrix.copy().fillna(0)\n",
        "user_similarity = cosine_similarity(matrix_dummy, matrix_dummy)\n",
        "user_similarity = pd.DataFrame(user_similarity,\n",
        "                               index = rating_matrix.index,\n",
        "                               columns = rating_matrix.index)"
      ],
      "metadata": {
        "id": "IDcJ4jmjcyfE"
      },
      "execution_count": 9,
      "outputs": []
    },
    {
      "cell_type": "code",
      "source": [
        "rating_mean = rating_matrix.mean(axis=1)\n",
        "rating_bias = (rating_matrix.T - rating_mean).T\n",
        "\n",
        "def CF_knn_bias(user_id, movie_id, neighbor_size=0):\n",
        "  if movie_id in rating_bias.columns:\n",
        "    sim_scores = user_similarity[user_id].copy()\n",
        "    movie_ratings = rating_bias[movie_id].copy()\n",
        "    none_rating_idx = movie_ratings[movie_ratings.isnull()].index\n",
        "    movie_ratings = movie_ratings.drop(none_rating_idx)\n",
        "    sim_scores = sim_scores.drop(none_rating_idx)\n",
        "\n",
        "    if neighbor_size == 0:\n",
        "      prediction = np.dot(sim_scores, movie_ratings) / sim_scores.sum()\n",
        "      prediction = prediction + rating_mean[user_id]\n",
        "\n",
        "    else:\n",
        "      if len(sim_scores) > 1:\n",
        "        neighbor_size = min(neighbor_size, len(sim_scores))\n",
        "        sim_scores = np.array(sim_scores)\n",
        "        movie_ratings = np.array(movie_ratings)\n",
        "        user_idx = np.argsort(sim_scores)\n",
        "        sim_scores = sim_scores[user_idx][-neighbor_size:]\n",
        "        movie_ratings = movie_ratings[user_idx][-neighbor_size:]\n",
        "        prediction = np.dot(sim_scores, movie_ratings) / sim_scores.sum()\n",
        "        prediction = prediction + rating_mean[user_id]\n",
        "\n",
        "      else:\n",
        "        prediction = rating_mean[user_id]\n",
        "  else:\n",
        "    prediction = rating_mean[user_id]\n",
        "\n",
        "  return prediction\n",
        "\n",
        "score(CF_knn_bias, 30)"
      ],
      "metadata": {
        "colab": {
          "base_uri": "https://localhost:8080/"
        },
        "id": "0wIOi4jsdAD4",
        "outputId": "b5e01ab6-0827-4ef4-d986-47a3e213f8b9"
      },
      "execution_count": 15,
      "outputs": [
        {
          "output_type": "execute_result",
          "data": {
            "text/plain": [
              "0.9395009759715227"
            ]
          },
          "metadata": {},
          "execution_count": 15
        }
      ]
    }
  ]
}
