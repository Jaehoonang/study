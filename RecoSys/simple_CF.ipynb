{
  "nbformat": 4,
  "nbformat_minor": 0,
  "metadata": {
    "colab": {
      "provenance": [],
      "mount_file_id": "1Qm89OBcuCC8bjZ29WIjATu0cXLBmkGnz",
      "authorship_tag": "ABX9TyNT1O83taNYxg9o2Qnk3hrj",
      "include_colab_link": true
    },
    "kernelspec": {
      "name": "python3",
      "display_name": "Python 3"
    },
    "language_info": {
      "name": "python"
    }
  },
  "cells": [
    {
      "cell_type": "markdown",
      "metadata": {
        "id": "view-in-github",
        "colab_type": "text"
      },
      "source": [
        "<a href=\"https://colab.research.google.com/github/Jaehoonang/study/blob/main/CF.ipynb\" target=\"_parent\"><img src=\"https://colab.research.google.com/assets/colab-badge.svg\" alt=\"Open In Colab\"/></a>"
      ]
    },
    {
      "cell_type": "code",
      "execution_count": 4,
      "metadata": {
        "id": "zyS5PBPnz8Ui"
      },
      "outputs": [],
      "source": [
        "import os\n",
        "import pandas as pd\n",
        "import numpy as np\n",
        "from sklearn.model_selection import train_test_split\n",
        "\n",
        "base_src = 'drive/MyDrive/RecoSys/Data'\n",
        "u_user_src = os.path.join(base_src, 'u.user')\n",
        "u_cols = ['user_id', 'age', 'sex', 'occupation', 'zip_code']\n",
        "users = pd.read_csv(u_user_src,\n",
        "                    sep='|',\n",
        "                    names = u_cols,\n",
        "                    encoding = 'latin-1')\n",
        "users = users.set_index('user_id')\n",
        "\n",
        "u_item_src = os.path.join(base_src, 'u.item')\n",
        "i_cols = ['movie_id', 'title', 'relase_date', 'video release data',\n",
        "          'IMDB URL', 'unknown', 'Action', 'Adventure', 'Animation',\n",
        "          'Children\\'s', 'Comedy','Crime', 'Documentary', 'Drama', 'Fantasy',\n",
        "          'Film-Noir', 'Horror', 'Musical', 'Mystery', 'Romance', 'Sci-Fi', 'Thriller', 'War', 'Western']\n",
        "movies = pd.read_csv(u_item_src,\n",
        "                     sep='|',\n",
        "                     names= i_cols,\n",
        "                     encoding = 'latin-1')\n",
        "movies = movies.set_index('movie_id')\n",
        "\n",
        "u_data_src = os.path.join(base_src, 'u.data')\n",
        "r_cols = ['user_id', 'movie_id', 'rating', 'timestamp']\n",
        "ratings = pd.read_csv(u_data_src,\n",
        "                      sep='\\t',\n",
        "                      names=r_cols,\n",
        "                      encoding='latin-1')"
      ]
    },
    {
      "cell_type": "code",
      "source": [
        "def RMSE(y_true, y_pred):\n",
        "  return np.sqrt(np.mean((np.array(y_true) - np.array(y_pred))**2))\n",
        "\n",
        "def score(model):\n",
        "  # 테스트 데이터의 user_id와 movie_id 간 쌍을 맞춰 튜플형 원소 리스트 데이터를 만듬\n",
        "  id_pairs = zip(x_test['user_id'], x_test['movie_id'])\n",
        "  # 모든 사용자-영화 쌍에 대해서 주어진 예측모델에 의해 예측값 계산 및 리스트형 데이터 생성\n",
        "  y_pred = np.array([model(user, movie) for (user, movie) in id_pairs])\n",
        "  # 평점값\n",
        "  y_true = np.array(x_test['rating'])\n",
        "  return RMSE(y_true, y_pred)"
      ],
      "metadata": {
        "id": "50-XNDbV7uWR"
      },
      "execution_count": 16,
      "outputs": []
    },
    {
      "cell_type": "code",
      "source": [
        "# 데이터 셋\n",
        "x = ratings.copy()\n",
        "y = ratings['user_id']\n",
        "\n",
        "x_train, x_test, y_train, y_test = train_test_split(x, y ,test_size=0.25, stratify=y)\n",
        "\n",
        "ratings_matrix = x_train.pivot(index='user_id', columns = 'movie_id', values='rating')\n",
        "\n",
        "# 코사인 유사도\n",
        "from sklearn.metrics.pairwise import cosine_similarity\n",
        "matrix_dummy = ratings_matrix.copy().fillna(0)\n",
        "user_similarity = cosine_similarity(matrix_dummy, matrix_dummy)\n",
        "user_similarity = pd.DataFrame(user_similarity,\n",
        "                               index = ratings_matrix.index,\n",
        "                               columns = ratings_matrix.index)\n",
        "# print(pd.DataFrame(user_similarity))\n",
        "\n",
        "# 주어진 영화의 가중평균 rating을 구하는 함수\n",
        "def CF_simple(user_id, movie_id):\n",
        "  if movie_id in ratings_matrix.columns:\n",
        "    sim_scores = user_similarity[user_id].copy()\n",
        "    movie_ratings = ratings_matrix[movie_id].copy()\n",
        "    none_ratings_idx = movie_ratings[movie_ratings.isnull()].index\n",
        "    movie_ratings = movie_ratings.dropna()\n",
        "    sim_scores = sim_scores.drop(none_ratings_idx)\n",
        "    mean_rating = np.dot(sim_scores, movie_ratings) / sim_scores.sum()\n",
        "\n",
        "  else:\n",
        "    mean_rating = 3.0\n",
        "  return mean_rating\n",
        "\n",
        "score(CF_simple)"
      ],
      "metadata": {
        "colab": {
          "base_uri": "https://localhost:8080/"
        },
        "id": "YIkESXEF8fCK",
        "outputId": "5e41e2ab-8acf-4159-c5d6-b0fd171d4dc1"
      },
      "execution_count": 18,
      "outputs": [
        {
          "output_type": "execute_result",
          "data": {
            "text/plain": [
              "1.0224244479630678"
            ]
          },
          "metadata": {},
          "execution_count": 18
        }
      ]
    }
  ]
}
