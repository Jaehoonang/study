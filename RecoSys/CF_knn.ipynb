{
  "nbformat": 4,
  "nbformat_minor": 0,
  "metadata": {
    "colab": {
      "provenance": [],
      "mount_file_id": "1WbvO_P0JJqRDZk2KLtnPdHBBAymDzTif",
      "authorship_tag": "ABX9TyM9vdzOxStfJhFiahX0ovXi"
    },
    "kernelspec": {
      "name": "python3",
      "display_name": "Python 3"
    },
    "language_info": {
      "name": "python"
    }
  },
  "cells": [
    {
      "cell_type": "code",
      "execution_count": 2,
      "metadata": {
        "id": "7fUfP1BVPllS"
      },
      "outputs": [],
      "source": [
        "import os\n",
        "import pandas as pd\n",
        "import numpy as np\n",
        "from sklearn.model_selection import train_test_split\n",
        "\n",
        "base_src = 'drive/MyDrive/RecoSys/Data'\n",
        "u_user_src = os.path.join(base_src, 'u.user')\n",
        "u_cols = ['user_id', 'age', 'sex', 'occupation', 'zip_code']\n",
        "users = pd.read_csv(u_user_src,\n",
        "                    sep='|',\n",
        "                    names = u_cols,\n",
        "                    encoding = 'latin-1')\n",
        "users = users.set_index('user_id')\n",
        "\n",
        "u_item_src = os.path.join(base_src, 'u.item')\n",
        "i_cols = ['movie_id', 'title', 'relase_date', 'video release data',\n",
        "          'IMDB URL', 'unknown', 'Action', 'Adventure', 'Animation',\n",
        "          'Children\\'s', 'Comedy','Crime', 'Documentary', 'Drama', 'Fantasy',\n",
        "          'Film-Noir', 'Horror', 'Musical', 'Mystery', 'Romance', 'Sci-Fi', 'Thriller', 'War', 'Western']\n",
        "movies = pd.read_csv(u_item_src,\n",
        "                     sep='|',\n",
        "                     names= i_cols,\n",
        "                     encoding = 'latin-1')\n",
        "movies = movies.set_index('movie_id')\n",
        "\n",
        "u_data_src = os.path.join(base_src, 'u.data')\n",
        "r_cols = ['user_id', 'movie_id', 'rating', 'timestamp']\n",
        "ratings = pd.read_csv(u_data_src,\n",
        "                      sep='\\t',\n",
        "                      names=r_cols,\n",
        "                      encoding='latin-1')"
      ]
    },
    {
      "cell_type": "code",
      "source": [
        "def RMSE(y_true, y_pred):\n",
        "  return np.sqrt(np.mean((np.array(y_true) - np.array(y_pred))**2))"
      ],
      "metadata": {
        "id": "EIv78OGPSAqH"
      },
      "execution_count": 3,
      "outputs": []
    },
    {
      "cell_type": "code",
      "source": [
        "def score(model, neighbor_size=0):\n",
        "  id_pairs = zip(x_test['user_id'], x_test['movie_id'])\n",
        "  y_pred = np.array([model(user, movie, neighbor_size) for (user, movie) in id_pairs])\n",
        "\n",
        "  y_true = np.array(x_test['rating'])\n",
        "  return RMSE(y_true, y_pred)"
      ],
      "metadata": {
        "id": "Exk7O9A1SlmO"
      },
      "execution_count": 4,
      "outputs": []
    },
    {
      "cell_type": "code",
      "source": [
        "x = ratings.copy()\n",
        "y = ratings['user_id']\n",
        "x_train, x_test, y_train, y_test = train_test_split(x, y, test_size=0.25, stratify=y)\n",
        "rating_matrix = x_train.pivot(index='user_id', columns='movie_id', values='rating')"
      ],
      "metadata": {
        "id": "YouPrliZTYAW"
      },
      "execution_count": 12,
      "outputs": []
    },
    {
      "cell_type": "code",
      "source": [
        "from sklearn.metrics.pairwise import cosine_similarity\n",
        "matrix_dummy = rating_matrix.copy().fillna(0)\n",
        "user_similarity = cosine_similarity(matrix_dummy, matrix_dummy)\n",
        "user_similarity = pd.DataFrame(user_similarity,\n",
        "                               index = rating_matrix.index,\n",
        "                               columns = rating_matrix.index)"
      ],
      "metadata": {
        "id": "qJvmuzwRUZm0"
      },
      "execution_count": 14,
      "outputs": []
    },
    {
      "cell_type": "code",
      "source": [
        "def CF_knn(user_id, movie_id, neighbor_size=0):\n",
        "  if movie_id in rating_matrix.columns:\n",
        "    sim_scores = user_similarity[user_id].copy()\n",
        "    movie_ratings = rating_matrix[movie_id].copy()\n",
        "    none_rating_idx = movie_ratings[movie_ratings.isnull()].index\n",
        "    movie_ratings = movie_ratings.dropna()\n",
        "    sim_scores = sim_scores.drop(none_rating_idx)\n",
        "\n",
        "    if neighbor_size == 0:\n",
        "      mean_rating = np.dot(sim_scores, movie_ratings) / sim_scores.sum()\n",
        "\n",
        "    else:\n",
        "      if len(sim_scores) > 1:\n",
        "        neighbor_size = min(neighbor_size, len(sim_scores))\n",
        "        sim_scores = np.array(sim_scores)\n",
        "        movie_ratings = np.array(movie_ratings)\n",
        "        user_idx = np.argsort(sim_scores)\n",
        "        sim_scores = sim_scores[user_idx][-neighbor_size:]\n",
        "        movie_ratings = movie_ratings[user_idx][-neighbor_size:]\n",
        "        mean_rating = np.dot(sim_scores, movie_ratings) / sim_scores.sum()\n",
        "      else:\n",
        "        mean_rating = 3.0\n",
        "  else:\n",
        "    mean_rating = 3.0\n",
        "\n",
        "  return mean_rating"
      ],
      "metadata": {
        "id": "vUre50E2VCXB"
      },
      "execution_count": 15,
      "outputs": []
    },
    {
      "cell_type": "code",
      "source": [
        "score(CF_knn, neighbor_size=30)"
      ],
      "metadata": {
        "colab": {
          "base_uri": "https://localhost:8080/"
        },
        "id": "9VBYo4b5XHu_",
        "outputId": "a8d2af9d-3bc9-47fd-9ed3-1dfa07f9ed90"
      },
      "execution_count": 16,
      "outputs": [
        {
          "output_type": "execute_result",
          "data": {
            "text/plain": [
              "1.0058497527938033"
            ]
          },
          "metadata": {},
          "execution_count": 16
        }
      ]
    },
    {
      "cell_type": "code",
      "source": [
        "rating_matrix = x_train.pivot(index='user_id', columns='movie_id', values='rating')\n",
        "\n",
        "matrix_dummy = rating_matrix.copy().fillna(0)\n",
        "user_similarity = cosine_similarity(matrix_dummy, matrix_dummy)\n",
        "user_similarity = pd.DataFrame(user_similarity,\n",
        "                               index = rating_matrix.index,\n",
        "                               columns = rating_matrix.index)\n",
        "\n",
        "def recom_movie(user_id, n_items, neighbor_size=30):\n",
        "  user_movie = rating_matrix.loc[user_id].copy()\n",
        "\n",
        "  for movie in rating_matrix.columns:\n",
        "    if pd.notnull(user_movie.loc[movie]):\n",
        "      user_movie.loc[movie] = 0\n",
        "    else:\n",
        "      user_movie.loc[movie] = CF_knn(user_id, movie, neighbor_size)\n",
        "\n",
        "  movie_sort = user_movie.sort_values(ascending=False)[:n_items]\n",
        "  recom_movies = movies.loc[movie_sort.index]\n",
        "  recommendations = recom_movies['title']\n",
        "  return recommendations"
      ],
      "metadata": {
        "id": "40l5m91Dg3CH"
      },
      "execution_count": 21,
      "outputs": []
    },
    {
      "cell_type": "code",
      "source": [
        "recom_movie(user_id=808, n_items=5, neighbor_size=30)"
      ],
      "metadata": {
        "colab": {
          "base_uri": "https://localhost:8080/"
        },
        "id": "NBItiBWKiMzh",
        "outputId": "715a6e0a-594e-40bf-b1f7-94f70a6b19b9"
      },
      "execution_count": 22,
      "outputs": [
        {
          "output_type": "execute_result",
          "data": {
            "text/plain": [
              "movie_id\n",
              "1189                      Prefontaine (1997)\n",
              "1138                         Best Men (1997)\n",
              "1367                            Faust (1994)\n",
              "1467    Saint of Fort Washington, The (1993)\n",
              "1466                Margaret's Museum (1995)\n",
              "Name: title, dtype: object"
            ]
          },
          "metadata": {},
          "execution_count": 22
        }
      ]
    }
  ]
}
