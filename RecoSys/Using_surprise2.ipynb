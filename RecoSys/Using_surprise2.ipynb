{
  "nbformat": 4,
  "nbformat_minor": 0,
  "metadata": {
    "colab": {
      "provenance": [],
      "authorship_tag": "ABX9TyPUrtTIMZjgms5tiKisr5E0",
      "include_colab_link": true
    },
    "kernelspec": {
      "name": "python3",
      "display_name": "Python 3"
    },
    "language_info": {
      "name": "python"
    }
  },
  "cells": [
    {
      "cell_type": "markdown",
      "metadata": {
        "id": "view-in-github",
        "colab_type": "text"
      },
      "source": [
        "<a href=\"https://colab.research.google.com/github/Jaehoonang/study/blob/main/Using_surprise2.ipynb\" target=\"_parent\"><img src=\"https://colab.research.google.com/assets/colab-badge.svg\" alt=\"Open In Colab\"/></a>"
      ]
    },
    {
      "cell_type": "code",
      "source": [
        "pip install scikit-surprise"
      ],
      "metadata": {
        "colab": {
          "base_uri": "https://localhost:8080/"
        },
        "id": "9DKkf7fOA3W_",
        "outputId": "317982e4-ef6e-4866-c1fb-c6b1da1dea87"
      },
      "execution_count": null,
      "outputs": [
        {
          "output_type": "stream",
          "name": "stdout",
          "text": [
            "Collecting scikit-surprise\n",
            "  Downloading scikit-surprise-1.1.3.tar.gz (771 kB)\n",
            "\u001b[2K     \u001b[90m━━━━━━━━━━━━━━━━━━━━━━━━━━━━━━━━━━━━━━━━\u001b[0m \u001b[32m772.0/772.0 kB\u001b[0m \u001b[31m9.1 MB/s\u001b[0m eta \u001b[36m0:00:00\u001b[0m\n",
            "\u001b[?25h  Preparing metadata (setup.py) ... \u001b[?25l\u001b[?25hdone\n",
            "Requirement already satisfied: joblib>=1.0.0 in /usr/local/lib/python3.10/dist-packages (from scikit-surprise) (1.3.2)\n",
            "Requirement already satisfied: numpy>=1.17.3 in /usr/local/lib/python3.10/dist-packages (from scikit-surprise) (1.23.5)\n",
            "Requirement already satisfied: scipy>=1.3.2 in /usr/local/lib/python3.10/dist-packages (from scikit-surprise) (1.11.3)\n",
            "Building wheels for collected packages: scikit-surprise\n",
            "  Building wheel for scikit-surprise (setup.py) ... \u001b[?25l\u001b[?25hdone\n",
            "  Created wheel for scikit-surprise: filename=scikit_surprise-1.1.3-cp310-cp310-linux_x86_64.whl size=3163480 sha256=7f4f1dc79f3bed11a6043b758f2be2da9e10366b0a2fa441dcfa775f5d4fee9a\n",
            "  Stored in directory: /root/.cache/pip/wheels/a5/ca/a8/4e28def53797fdc4363ca4af740db15a9c2f1595ebc51fb445\n",
            "Successfully built scikit-surprise\n",
            "Installing collected packages: scikit-surprise\n",
            "Successfully installed scikit-surprise-1.1.3\n"
          ]
        }
      ]
    },
    {
      "cell_type": "code",
      "execution_count": null,
      "metadata": {
        "id": "YytXxt2ZAqfo"
      },
      "outputs": [],
      "source": [
        "from surprise import KNNWithMeans, Dataset, accuracy\n",
        "from surprise.model_selection import train_test_split\n",
        "data = Dataset.load_builtin(name=u'ml-100k')\n",
        "trainset, testset = train_test_split(data, test_size=0.25)"
      ]
    },
    {
      "cell_type": "code",
      "source": [
        "result = []\n",
        "for neighbor_size in (10,20,30,40,50,60):\n",
        "  algo = KNNWithMeans(k=neighbor_size,\n",
        "                      sim_option = {'name' : 'pearson_baseline',\n",
        "                                    'user_based': True})\n",
        "  algo.fit(trainset)\n",
        "  predictions = algo.test(testset)\n",
        "  result.append([neighbor_size, accuracy.rmse(predictions)])\n",
        "\n",
        "result"
      ],
      "metadata": {
        "colab": {
          "base_uri": "https://localhost:8080/"
        },
        "id": "wyXRuhCvDmVA",
        "outputId": "51859fb3-6a5f-4769-9b1c-fb318ecba2d1"
      },
      "execution_count": null,
      "outputs": [
        {
          "output_type": "stream",
          "name": "stdout",
          "text": [
            "Computing the msd similarity matrix...\n",
            "Done computing similarity matrix.\n",
            "RMSE: 0.9755\n",
            "Computing the msd similarity matrix...\n",
            "Done computing similarity matrix.\n",
            "RMSE: 0.9579\n",
            "Computing the msd similarity matrix...\n",
            "Done computing similarity matrix.\n",
            "RMSE: 0.9530\n",
            "Computing the msd similarity matrix...\n",
            "Done computing similarity matrix.\n",
            "RMSE: 0.9519\n",
            "Computing the msd similarity matrix...\n",
            "Done computing similarity matrix.\n",
            "RMSE: 0.9512\n",
            "Computing the msd similarity matrix...\n",
            "Done computing similarity matrix.\n",
            "RMSE: 0.9507\n"
          ]
        },
        {
          "output_type": "execute_result",
          "data": {
            "text/plain": [
              "[[10, 0.9755459302358198],\n",
              " [20, 0.9578505470533972],\n",
              " [30, 0.9530222737055202],\n",
              " [40, 0.9518866479391125],\n",
              " [50, 0.951208443408102],\n",
              " [60, 0.9506776097215927]]"
            ]
          },
          "metadata": {},
          "execution_count": 4
        }
      ]
    },
    {
      "cell_type": "code",
      "source": [
        "from surprise.model_selection import GridSearchCV\n",
        "\n",
        "param_grid = {\n",
        "    'k':[5,10,15,25],\n",
        "    'sim_options':{\n",
        "        'names':['pearson_baseline', 'cosine'],\n",
        "        'user_based':[True,False]\n",
        "    }\n",
        "}\n",
        "\n",
        "gs = GridSearchCV(KNNWithMeans,\n",
        "                  param_grid,\n",
        "                  measures = ['rmse'],\n",
        "                  cv=4)\n",
        "\n",
        "gs.fit(data)\n"
      ],
      "metadata": {
        "colab": {
          "base_uri": "https://localhost:8080/"
        },
        "id": "45aGfjcfFXsv",
        "outputId": "f6071dcf-3457-4a3e-b620-df1eaf8c36ff"
      },
      "execution_count": null,
      "outputs": [
        {
          "output_type": "stream",
          "name": "stdout",
          "text": [
            "Computing the msd similarity matrix...\n",
            "Done computing similarity matrix.\n",
            "Computing the msd similarity matrix...\n",
            "Done computing similarity matrix.\n",
            "Computing the msd similarity matrix...\n",
            "Done computing similarity matrix.\n",
            "Computing the msd similarity matrix...\n",
            "Done computing similarity matrix.\n",
            "Computing the msd similarity matrix...\n",
            "Done computing similarity matrix.\n",
            "Computing the msd similarity matrix...\n",
            "Done computing similarity matrix.\n",
            "Computing the msd similarity matrix...\n",
            "Done computing similarity matrix.\n",
            "Computing the msd similarity matrix...\n",
            "Done computing similarity matrix.\n",
            "Computing the msd similarity matrix...\n",
            "Done computing similarity matrix.\n",
            "Computing the msd similarity matrix...\n",
            "Done computing similarity matrix.\n",
            "Computing the msd similarity matrix...\n",
            "Done computing similarity matrix.\n",
            "Computing the msd similarity matrix...\n",
            "Done computing similarity matrix.\n",
            "Computing the msd similarity matrix...\n",
            "Done computing similarity matrix.\n"
          ]
        }
      ]
    },
    {
      "cell_type": "code",
      "source": [
        "# 최적 RMSE 출력\n",
        "print(gs.best_score['rmse'])\n",
        "print(gs.best_params['rmse'])"
      ],
      "metadata": {
        "colab": {
          "base_uri": "https://localhost:8080/"
        },
        "id": "0XqMEQsnGQkj",
        "outputId": "a3dab47f-977b-4f96-96a1-41269fdfc219"
      },
      "execution_count": null,
      "outputs": [
        {
          "output_type": "stream",
          "name": "stdout",
          "text": [
            "0.9418858624532964\n",
            "{'k': 25, 'sim_options': {'names': 'pearson_baseline', 'user_based': False}}\n"
          ]
        }
      ]
    },
    {
      "cell_type": "code",
      "source": [
        "from surprise import SVD\n",
        "\n",
        "param_grid = {\n",
        "    'n_epochs':[70,80,90],\n",
        "    'lr_all':[0.005,0.006,0.007],\n",
        "    'reg_all':[0.05, 0.07, 0.1]\n",
        "}\n",
        "\n",
        "gs = GridSearchCV(algo_class = SVD,\n",
        "                  param_grid = param_grid,\n",
        "                  measures = ['rmse'],\n",
        "                  cv=4)\n",
        "gs.fit(data)\n",
        "\n",
        "print(gs.best_score['rmse'])\n",
        "print(gs.best_params['rmse'])\n"
      ],
      "metadata": {
        "colab": {
          "base_uri": "https://localhost:8080/"
        },
        "id": "Q1ePWiJoHOM-",
        "outputId": "bb766fc2-2b99-4c0a-e700-08e142e0ca2d"
      },
      "execution_count": null,
      "outputs": [
        {
          "output_type": "stream",
          "name": "stdout",
          "text": [
            "0.9118245034294254\n",
            "{'n_epochs': 90, 'lr_all': 0.005, 'reg_all': 0.1}\n"
          ]
        }
      ]
    }
  ]
}
