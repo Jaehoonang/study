{
 "cells": [
  {
   "cell_type": "code",
   "execution_count": 1,
   "id": "145c3f78",
   "metadata": {},
   "outputs": [
    {
     "data": {
      "text/plain": [
       "True"
      ]
     },
     "execution_count": 1,
     "metadata": {},
     "output_type": "execute_result"
    }
   ],
   "source": [
    "from dotenv import load_dotenv\n",
    "load_dotenv()"
   ]
  },
  {
   "cell_type": "code",
   "execution_count": 2,
   "id": "a6fe3305",
   "metadata": {},
   "outputs": [],
   "source": [
    "import re\n",
    "import os, json\n",
    "\n",
    "from textwrap import dedent\n",
    "from pprint import pprint\n",
    "\n",
    "import warnings\n",
    "warnings.filterwarnings(\"ignore\")"
   ]
  },
  {
   "cell_type": "code",
   "execution_count": 3,
   "id": "15b4cef9",
   "metadata": {},
   "outputs": [
    {
     "name": "stdout",
     "output_type": "stream",
     "text": [
      "{'url': 'https://m.blog.naver.com/wineislikeacat/223096696241', 'content': '등심 스테이크, 채끝 스테이크와 어울리는 와인 품종은? 카베르네 소비뇽, 시라 등!\\n\\n등심은 소의 등뼈를 둘러싸고 있는 부위입니다.\\n육질이 연하고 지방이 많아서 두꺼운 스테이크 구이용으로 최적이죠.\\n채끝은 등뼈에서 허리를 감싸는 뼈로 내려오는 쪽의 살인데요,\\n마블링 러버들의 선택을 쉽사리 받는 부위입니다.\\n\\u200b\\n등심과 채끝 스테이크는 모두 풍미가 진하고 지방맛이 강하게 느껴지기에,\\n중간에서 높음 사이의 적당한 탄닌과 산도를 가진 와인을 선택하면\\n씹는 맛의 긴 여운 속 느끼함을 잡아줄 수 있습니다.\\n\\u200b\\n이에 맞는 레드와인으로는\\n카베르네 소비뇽(Carbernet Sauvignon), 시라(Syrah) 품종을 추천드려요!\\n\\u200b\\n\\n안심 스테이크와 어울리는 와인\\n\\n안심 스테이크와 어울리는 와인 품종은? 산지오베제! [...] 우리동네내와인의 소고기 스테이크 부위별 레드와인 추천!\\n안녕하세요, 우리동네내와인입니다!\\n\\u200b\\n흔히 육류 스테이크 하면 레드와인이라고 알려져있죠?\\n이번 시간에는 이 공식을 조금 더 자세히 살펴보려 합니다.\\n특정 부위에 더 잘 어울리는 와인을 소개하는 방식으로요 :)\\n\\u200b\\n오늘 글을 읽으시다가 모르는 레드와인 종류가 나오면\\n아래 글도 한번 참고해보시길 바랍니다.\\n\\u200b\\n말벡? 쉬라즈? 그게 뭐야? 레드와인 포도 품종 알아보기! - 1편안녕하세요, 우리동네내와인입니다 :) 오늘 가져온 와인 상식은 바로 레드와인의 원료가 되는 포도 품종입... blog.naver.com\\n피노 누아? 네비올로? 그게 뭐야? 레드와인 포도 품종 알아보기! - 2편안녕하세요, 우리동네내와인입니다 :) 지난 시간엔 레드와인 포도 품종 4가지에 대해 알아보았는데요. 카베... blog.naver.com\\n\\u200b\\n\\n등심 & 채끝 스테이크와 어울리는 와인'}\n",
      "----------------------------------------------------------------------------------------------------\n",
      "{'url': 'https://mashija.com/%EC%8A%A4%ED%85%8C%EC%9D%B4%ED%81%AC%EC%99%80-%EC%96%B4%EC%9A%B8%EB%A6%AC%EB%8A%94-%EC%B5%9C%EA%B3%A0%EC%9D%98-%EC%99%80%EC%9D%B8-%EB%AC%B4%EC%97%87%EC%9D%84-%EA%B3%A0%EB%A5%BC-%EA%B2%83%EC%9D%B8/', 'content': 'Bora Kim 2022년 1월 27일\\n카베르네 소비뇽(Cabernet Sauvignon) 및 말벡(Malbec)과 같은 전형적인 선택부터 더 가벼운 레드 와인, 심지어 화이트 와인과 맛있는 스테이크를 페어링하는 방법까지, 우리의 아카이브에서 가져온 최고의 조언과 최근 디캔터 전문가가 추천한 와인을 소개한다. [...] <스테이크를 곁들인 레드 와인을 위한 5가지 전형적인 선택>\\n• 카베르네 소비뇽(Cabernet Sauvignon)\\n• 말벡(Malbec)\\n• 그르나슈/쉬라즈 블렌드(Grenache / Shiraz blends)\\n• 시라/쉬라즈(Syrah / Shiraz)\\n• 산지오베제(Sangiovese)\\n육즙이 풍부한 스테이크와 맛있는 와인이 있는 저녁 식사는 적어도 고기 애호가들에게 인생의 큰 즐거움일 것이다.\\n와인과 음식 페어링에서 새로운 시도를 하는 것은 항상 재미있지만, 특별한 스테이크 저녁 식사를 준비할 때 고려해야 할 몇 가지 스타일과 주의사항이 있다.\\n<스테이크에 곁들이는 레드 와인>\\n이 포도 품종을 세계 와인 무대에 재등장시키고 고품질 쇠고기에 대한 국가의 명성을 가진 아르헨티나 덕분에, 말벡 레드 와인은 스테이크와 함께 고전적인 매칭이 되었다. [...] 와인 전문가 카렌 맥닐(Karen MacNeil)은 음식과 와인 페어링에 대한 10가지 규칙에서 ‘구운(grilled) 스테이크를 곁들인 파워풀한 캘리포니아 카베르네 소비뇽은 이길 수 없다’라고 언급했다.\\n– 스테이크와 레드 와인에 대한 추가 옵션 –\\n2018년 디캔터와의 인터뷰에서 피터 리차즈(Peter Richards MW)는 “사람들이 스테이크와 함께 곁들일 와인으로 말벡이나 카베르네 소비뇽의 전통적인 조합을 뛰어넘어 볼 것을 강조한다.”라고 하였다.\\n‘멋지고 생동감 넘치는 카베르네 프랑(Cabernet Franc)은 어떤가? 아니면 카리냥(Carignan), 쌩소(Cinsault) 또는 서늘한 기후에서 생산한 시라(Syrah)는 어떨까? DWWA 칠레 지역 의장이자 Decanter Retailer Awards 회장인 리차즈는 “풀바디하지만 우아한 로제(rosé)도 따뜻한 날에는 잘 어울린다.”라고 말했다.'}\n",
      "----------------------------------------------------------------------------------------------------\n"
     ]
    }
   ],
   "source": [
    "from langchain_community.tools import TavilySearchResults\n",
    "\n",
    "query = \"스테이크와 어울리는 와인을 추천해주세요\"\n",
    "web_search = TavilySearchResults(max_results=2)\n",
    "search_results = web_search.invoke(query)\n",
    "\n",
    "for result in search_results:\n",
    "    print(result)\n",
    "    print(\"-\" * 100)"
   ]
  },
  {
   "cell_type": "code",
   "execution_count": 4,
   "id": "54bdc091",
   "metadata": {},
   "outputs": [],
   "source": [
    "from langchain_openai import ChatOpenAI\n",
    "\n",
    "llm = ChatOpenAI(model=\"gpt-4o-mini\")\n",
    "llm_with_tools = llm.bind_tools(tools=[web_search])"
   ]
  },
  {
   "cell_type": "code",
   "execution_count": null,
   "id": "c65d8138",
   "metadata": {},
   "outputs": [
    {
     "name": "stdout",
     "output_type": "stream",
     "text": [
      "AIMessage(content='안녕하세요! 어떻게 도와드릴까요?', additional_kwargs={'refusal': None}, response_metadata={'token_usage': {'completion_tokens': 11, 'prompt_tokens': 81, 'total_tokens': 92, 'completion_tokens_details': {'accepted_prediction_tokens': 0, 'audio_tokens': 0, 'reasoning_tokens': 0, 'rejected_prediction_tokens': 0}, 'prompt_tokens_details': {'audio_tokens': 0, 'cached_tokens': 0}}, 'model_name': 'gpt-4o-mini-2024-07-18', 'system_fingerprint': 'fp_54eb4bd693', 'finish_reason': 'stop', 'logprobs': None}, id='run--7b9f1d51-ecfe-4b0f-9651-2f9d57f61a3f-0', usage_metadata={'input_tokens': 81, 'output_tokens': 11, 'total_tokens': 92})\n",
      "----------------------------------------------------------------------------------------------------\n",
      "'안녕하세요! 어떻게 도와드릴까요?'\n",
      "----------------------------------------------------------------------------------------------------\n",
      "[]\n",
      "----------------------------------------------------------------------------------------------------\n"
     ]
    }
   ],
   "source": [
    "query = \"안녕하세요\"\n",
    "ai_msg = llm_with_tools.invoke(query)\n",
    "\n",
    "pprint(ai_msg)\n",
    "print(\"-\" * 100)\n",
    "\n",
    "pprint(ai_msg.content)\n",
    "print(\"-\" * 100)\n",
    "\n",
    "pprint(ai_msg.tool_calls) # 사용할 tools 정보를 보여주는데 여기서는 query가 단순해서 빈리스트가 나옴\n",
    "print(\"-\" * 100)\n"
   ]
  },
  {
   "cell_type": "code",
   "execution_count": null,
   "id": "7197a8f8",
   "metadata": {},
   "outputs": [
    {
     "name": "stdout",
     "output_type": "stream",
     "text": [
      "AIMessage(content='', additional_kwargs={'tool_calls': [{'id': 'call_RfnbOkLDmVTlkqs0jVuW009S', 'function': {'arguments': '{\"query\":\"스테이크 와인 추천\"}', 'name': 'tavily_search_results_json'}, 'type': 'function'}], 'refusal': None}, response_metadata={'token_usage': {'completion_tokens': 23, 'prompt_tokens': 90, 'total_tokens': 113, 'completion_tokens_details': {'accepted_prediction_tokens': 0, 'audio_tokens': 0, 'reasoning_tokens': 0, 'rejected_prediction_tokens': 0}, 'prompt_tokens_details': {'audio_tokens': 0, 'cached_tokens': 0}}, 'model_name': 'gpt-4o-mini-2024-07-18', 'system_fingerprint': 'fp_54eb4bd693', 'finish_reason': 'tool_calls', 'logprobs': None}, id='run--2457ed96-442a-414c-9e67-f74a3c4973b9-0', tool_calls=[{'name': 'tavily_search_results_json', 'args': {'query': '스테이크 와인 추천'}, 'id': 'call_RfnbOkLDmVTlkqs0jVuW009S', 'type': 'tool_call'}], usage_metadata={'input_tokens': 90, 'output_tokens': 23, 'total_tokens': 113})\n",
      "----------------------------------------------------------------------------------------------------\n",
      "''\n",
      "----------------------------------------------------------------------------------------------------\n",
      "[{'args': {'query': '스테이크 와인 추천'},\n",
      "  'id': 'call_RfnbOkLDmVTlkqs0jVuW009S',\n",
      "  'name': 'tavily_search_results_json',\n",
      "  'type': 'tool_call'}]\n",
      "----------------------------------------------------------------------------------------------------\n"
     ]
    }
   ],
   "source": [
    "query = \"스테이크와 어울리는 와인을 추천해주세요\"\n",
    "ai_msg = llm_with_tools.invoke(query)\n",
    "\n",
    "pprint(ai_msg)\n",
    "print(\"-\" * 100)\n",
    "\n",
    "pprint(ai_msg.content)\n",
    "print(\"-\" * 100)\n",
    "\n",
    "pprint(ai_msg.tool_calls) \n",
    "print(\"-\" * 100)\n"
   ]
  },
  {
   "cell_type": "code",
   "execution_count": 9,
   "id": "7ba787d8",
   "metadata": {},
   "outputs": [
    {
     "data": {
      "text/plain": [
       "{'name': 'tavily_search_results_json',\n",
       " 'args': {'query': '스테이크 와인 추천'},\n",
       " 'id': 'call_RfnbOkLDmVTlkqs0jVuW009S',\n",
       " 'type': 'tool_call'}"
      ]
     },
     "execution_count": 9,
     "metadata": {},
     "output_type": "execute_result"
    }
   ],
   "source": [
    "tool_call = ai_msg.tool_calls[0]\n",
    "tool_call"
   ]
  }
 ],
 "metadata": {
  "kernelspec": {
   "display_name": "langgraph-agent-_8d1f7Cp-py3.12",
   "language": "python",
   "name": "python3"
  },
  "language_info": {
   "codemirror_mode": {
    "name": "ipython",
    "version": 3
   },
   "file_extension": ".py",
   "mimetype": "text/x-python",
   "name": "python",
   "nbconvert_exporter": "python",
   "pygments_lexer": "ipython3",
   "version": "3.12.4"
  }
 },
 "nbformat": 4,
 "nbformat_minor": 5
}
