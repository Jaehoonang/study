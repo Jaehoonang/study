{
 "cells": [
  {
   "cell_type": "code",
   "execution_count": 1,
   "id": "145c3f78",
   "metadata": {},
   "outputs": [
    {
     "data": {
      "text/plain": [
       "True"
      ]
     },
     "execution_count": 1,
     "metadata": {},
     "output_type": "execute_result"
    }
   ],
   "source": [
    "from dotenv import load_dotenv\n",
    "load_dotenv()"
   ]
  },
  {
   "cell_type": "code",
   "execution_count": 2,
   "id": "a6fe3305",
   "metadata": {},
   "outputs": [],
   "source": [
    "import re\n",
    "import os, json\n",
    "\n",
    "from textwrap import dedent\n",
    "from pprint import pprint\n",
    "\n",
    "import warnings\n",
    "warnings.filterwarnings(\"ignore\")"
   ]
  },
  {
   "cell_type": "code",
   "execution_count": 3,
   "id": "15b4cef9",
   "metadata": {},
   "outputs": [
    {
     "name": "stdout",
     "output_type": "stream",
     "text": [
      "{'url': 'https://m.blog.naver.com/wineislikeacat/223096696241', 'content': '등심 스테이크, 채끝 스테이크와 어울리는 와인 품종은? 카베르네 소비뇽, 시라 등!\\n\\n등심은 소의 등뼈를 둘러싸고 있는 부위입니다.\\n육질이 연하고 지방이 많아서 두꺼운 스테이크 구이용으로 최적이죠.\\n채끝은 등뼈에서 허리를 감싸는 뼈로 내려오는 쪽의 살인데요,\\n마블링 러버들의 선택을 쉽사리 받는 부위입니다.\\n\\u200b\\n등심과 채끝 스테이크는 모두 풍미가 진하고 지방맛이 강하게 느껴지기에,\\n중간에서 높음 사이의 적당한 탄닌과 산도를 가진 와인을 선택하면\\n씹는 맛의 긴 여운 속 느끼함을 잡아줄 수 있습니다.\\n\\u200b\\n이에 맞는 레드와인으로는\\n카베르네 소비뇽(Carbernet Sauvignon), 시라(Syrah) 품종을 추천드려요!\\n\\u200b\\n\\n안심 스테이크와 어울리는 와인\\n\\n안심 스테이크와 어울리는 와인 품종은? 산지오베제! [...] 우리동네내와인의 소고기 스테이크 부위별 레드와인 추천!\\n안녕하세요, 우리동네내와인입니다!\\n\\u200b\\n흔히 육류 스테이크 하면 레드와인이라고 알려져있죠?\\n이번 시간에는 이 공식을 조금 더 자세히 살펴보려 합니다.\\n특정 부위에 더 잘 어울리는 와인을 소개하는 방식으로요 :)\\n\\u200b\\n오늘 글을 읽으시다가 모르는 레드와인 종류가 나오면\\n아래 글도 한번 참고해보시길 바랍니다.\\n\\u200b\\n말벡? 쉬라즈? 그게 뭐야? 레드와인 포도 품종 알아보기! - 1편안녕하세요, 우리동네내와인입니다 :) 오늘 가져온 와인 상식은 바로 레드와인의 원료가 되는 포도 품종입... blog.naver.com\\n피노 누아? 네비올로? 그게 뭐야? 레드와인 포도 품종 알아보기! - 2편안녕하세요, 우리동네내와인입니다 :) 지난 시간엔 레드와인 포도 품종 4가지에 대해 알아보았는데요. 카베... blog.naver.com\\n\\u200b\\n\\n등심 & 채끝 스테이크와 어울리는 와인'}\n",
      "----------------------------------------------------------------------------------------------------\n",
      "{'url': 'https://mashija.com/%EC%8A%A4%ED%85%8C%EC%9D%B4%ED%81%AC%EC%99%80-%EC%96%B4%EC%9A%B8%EB%A6%AC%EB%8A%94-%EC%B5%9C%EA%B3%A0%EC%9D%98-%EC%99%80%EC%9D%B8-%EB%AC%B4%EC%97%87%EC%9D%84-%EA%B3%A0%EB%A5%BC-%EA%B2%83%EC%9D%B8/', 'content': 'Bora Kim 2022년 1월 27일\\n카베르네 소비뇽(Cabernet Sauvignon) 및 말벡(Malbec)과 같은 전형적인 선택부터 더 가벼운 레드 와인, 심지어 화이트 와인과 맛있는 스테이크를 페어링하는 방법까지, 우리의 아카이브에서 가져온 최고의 조언과 최근 디캔터 전문가가 추천한 와인을 소개한다. [...] <스테이크를 곁들인 레드 와인을 위한 5가지 전형적인 선택>\\n• 카베르네 소비뇽(Cabernet Sauvignon)\\n• 말벡(Malbec)\\n• 그르나슈/쉬라즈 블렌드(Grenache / Shiraz blends)\\n• 시라/쉬라즈(Syrah / Shiraz)\\n• 산지오베제(Sangiovese)\\n육즙이 풍부한 스테이크와 맛있는 와인이 있는 저녁 식사는 적어도 고기 애호가들에게 인생의 큰 즐거움일 것이다.\\n와인과 음식 페어링에서 새로운 시도를 하는 것은 항상 재미있지만, 특별한 스테이크 저녁 식사를 준비할 때 고려해야 할 몇 가지 스타일과 주의사항이 있다.\\n<스테이크에 곁들이는 레드 와인>\\n이 포도 품종을 세계 와인 무대에 재등장시키고 고품질 쇠고기에 대한 국가의 명성을 가진 아르헨티나 덕분에, 말벡 레드 와인은 스테이크와 함께 고전적인 매칭이 되었다. [...] 와인 전문가 카렌 맥닐(Karen MacNeil)은 음식과 와인 페어링에 대한 10가지 규칙에서 ‘구운(grilled) 스테이크를 곁들인 파워풀한 캘리포니아 카베르네 소비뇽은 이길 수 없다’라고 언급했다.\\n– 스테이크와 레드 와인에 대한 추가 옵션 –\\n2018년 디캔터와의 인터뷰에서 피터 리차즈(Peter Richards MW)는 “사람들이 스테이크와 함께 곁들일 와인으로 말벡이나 카베르네 소비뇽의 전통적인 조합을 뛰어넘어 볼 것을 강조한다.”라고 하였다.\\n‘멋지고 생동감 넘치는 카베르네 프랑(Cabernet Franc)은 어떤가? 아니면 카리냥(Carignan), 쌩소(Cinsault) 또는 서늘한 기후에서 생산한 시라(Syrah)는 어떨까? DWWA 칠레 지역 의장이자 Decanter Retailer Awards 회장인 리차즈는 “풀바디하지만 우아한 로제(rosé)도 따뜻한 날에는 잘 어울린다.”라고 말했다.'}\n",
      "----------------------------------------------------------------------------------------------------\n"
     ]
    }
   ],
   "source": [
    "from langchain_community.tools import TavilySearchResults\n",
    "\n",
    "query = \"스테이크와 어울리는 와인을 추천해주세요\"\n",
    "web_search = TavilySearchResults(max_results=2)\n",
    "search_results = web_search.invoke(query)\n",
    "\n",
    "for result in search_results:\n",
    "    print(result)\n",
    "    print(\"-\" * 100)"
   ]
  },
  {
   "cell_type": "code",
   "execution_count": 4,
   "id": "54bdc091",
   "metadata": {},
   "outputs": [],
   "source": [
    "from langchain_openai import ChatOpenAI\n",
    "\n",
    "llm = ChatOpenAI(model=\"gpt-4o-mini\")\n",
    "llm_with_tools = llm.bind_tools(tools=[web_search])"
   ]
  },
  {
   "cell_type": "code",
   "execution_count": 5,
   "id": "c65d8138",
   "metadata": {},
   "outputs": [
    {
     "name": "stdout",
     "output_type": "stream",
     "text": [
      "AIMessage(content='안녕하세요! 어떻게 도와드릴까요?', additional_kwargs={'refusal': None}, response_metadata={'token_usage': {'completion_tokens': 11, 'prompt_tokens': 81, 'total_tokens': 92, 'completion_tokens_details': {'accepted_prediction_tokens': 0, 'audio_tokens': 0, 'reasoning_tokens': 0, 'rejected_prediction_tokens': 0}, 'prompt_tokens_details': {'audio_tokens': 0, 'cached_tokens': 0}}, 'model_name': 'gpt-4o-mini-2024-07-18', 'system_fingerprint': 'fp_34a54ae93c', 'finish_reason': 'stop', 'logprobs': None}, id='run--f2ef72f3-0aa1-4073-9e8c-4b63a5de2e69-0', usage_metadata={'input_tokens': 81, 'output_tokens': 11, 'total_tokens': 92})\n",
      "----------------------------------------------------------------------------------------------------\n",
      "'안녕하세요! 어떻게 도와드릴까요?'\n",
      "----------------------------------------------------------------------------------------------------\n",
      "[]\n",
      "----------------------------------------------------------------------------------------------------\n"
     ]
    }
   ],
   "source": [
    "query = \"안녕하세요\"\n",
    "ai_msg = llm_with_tools.invoke(query)\n",
    "\n",
    "pprint(ai_msg)\n",
    "print(\"-\" * 100)\n",
    "\n",
    "pprint(ai_msg.content)\n",
    "print(\"-\" * 100)\n",
    "\n",
    "pprint(ai_msg.tool_calls) # 사용할 tools 정보를 보여주는데 여기서는 query가 단순해서 빈리스트가 나옴\n",
    "print(\"-\" * 100)\n"
   ]
  },
  {
   "cell_type": "code",
   "execution_count": 6,
   "id": "7197a8f8",
   "metadata": {},
   "outputs": [
    {
     "name": "stdout",
     "output_type": "stream",
     "text": [
      "AIMessage(content='', additional_kwargs={'tool_calls': [{'id': 'call_MJvmae7tffhPCgmgNuNjQemT', 'function': {'arguments': '{\"query\":\"스테이크와 어울리는 와인 추천\"}', 'name': 'tavily_search_results_json'}, 'type': 'function'}], 'refusal': None}, response_metadata={'token_usage': {'completion_tokens': 27, 'prompt_tokens': 90, 'total_tokens': 117, 'completion_tokens_details': {'accepted_prediction_tokens': 0, 'audio_tokens': 0, 'reasoning_tokens': 0, 'rejected_prediction_tokens': 0}, 'prompt_tokens_details': {'audio_tokens': 0, 'cached_tokens': 0}}, 'model_name': 'gpt-4o-mini-2024-07-18', 'system_fingerprint': 'fp_34a54ae93c', 'finish_reason': 'tool_calls', 'logprobs': None}, id='run--9fa02acc-cc6b-4a9f-8d8f-5e5d4a7a5127-0', tool_calls=[{'name': 'tavily_search_results_json', 'args': {'query': '스테이크와 어울리는 와인 추천'}, 'id': 'call_MJvmae7tffhPCgmgNuNjQemT', 'type': 'tool_call'}], usage_metadata={'input_tokens': 90, 'output_tokens': 27, 'total_tokens': 117})\n",
      "----------------------------------------------------------------------------------------------------\n",
      "''\n",
      "----------------------------------------------------------------------------------------------------\n",
      "[{'args': {'query': '스테이크와 어울리는 와인 추천'},\n",
      "  'id': 'call_MJvmae7tffhPCgmgNuNjQemT',\n",
      "  'name': 'tavily_search_results_json',\n",
      "  'type': 'tool_call'}]\n",
      "----------------------------------------------------------------------------------------------------\n"
     ]
    }
   ],
   "source": [
    "query = \"스테이크와 어울리는 와인을 추천해주세요\"\n",
    "ai_msg = llm_with_tools.invoke(query)\n",
    "\n",
    "pprint(ai_msg)\n",
    "print(\"-\" * 100)\n",
    "\n",
    "pprint(ai_msg.content)\n",
    "print(\"-\" * 100)\n",
    "\n",
    "pprint(ai_msg.tool_calls) \n",
    "print(\"-\" * 100)\n"
   ]
  },
  {
   "cell_type": "code",
   "execution_count": 7,
   "id": "7ba787d8",
   "metadata": {},
   "outputs": [
    {
     "data": {
      "text/plain": [
       "{'name': 'tavily_search_results_json',\n",
       " 'args': {'query': '스테이크와 어울리는 와인 추천'},\n",
       " 'id': 'call_MJvmae7tffhPCgmgNuNjQemT',\n",
       " 'type': 'tool_call'}"
      ]
     },
     "execution_count": 7,
     "metadata": {},
     "output_type": "execute_result"
    }
   ],
   "source": [
    "tool_call = ai_msg.tool_calls[0]\n",
    "tool_call"
   ]
  },
  {
   "cell_type": "code",
   "execution_count": 8,
   "id": "b2f56e68",
   "metadata": {},
   "outputs": [
    {
     "name": "stdout",
     "output_type": "stream",
     "text": [
      "tavily_search_results_json 호출결과:\n",
      "----------------------------------------------------------------------------------------------------\n",
      "[{'url': 'https://alcohol.hobby-tech.com/entry/%EC%8A%A4%ED%85%8C%EC%9D%B4%ED%81%AC%EC%99%80-%EC%B0%B0%EB%96%A1%EA%B6%81%ED%95%A9-%EC%8A%A4%ED%85%8C%EC%9D%B4%ED%81%AC%EC%97%90-%EC%96%B4%EC%9A%B8%EB%A6%AC%EB%8A%94-%EC%99%80%EC%9D%B8-5%EA%B0%80%EC%A7%80', 'content': '추천 이유:\\n카베르네 소비뇽은 강한 탄닌과 풍부한 바디감이 특징인 레드 와인입니다. 이는 스테이크의 기름진 육즙과 균형을 이루며, 고기의 감칠맛을 더욱 살려줍니다.\\n어울리는 스테이크:\\n\\n리브아이 스테이크\\n뉴욕 스트립\\n티본 스테이크\\n\\n추천 와인:\\n\\n나파 밸리 카베르네 소비뇽\\n샤또 마고 (Château Margaux)\\n\\n카베르네 소비뇽은 특히 마블링이 많은 소고기 스테이크와 환상적인 조화를 이룹니다.\\n\\n2. 시라/쉬라즈 (Syrah/Shiraz) – 스파이시한 풍미가 매력적인 와인\\n\\n추천 이유:\\n시라는 과일향이 강하면서도 스파이시한 풍미가 있어, 풍부한 육즙을 가진 스테이크와 잘 어울립니다. 특히 숯불에 구운 스테이크와 궁합이 좋습니다.\\n어울리는 스테이크:\\n\\n바비큐 스테이크\\n페퍼크러스트 스테이크\\n\\n추천 와인:\\n\\n프랑스 론 밸리 시라\\n호주 쉬라즈 (펜폴즈 그랜지)\\n\\n시라는 그릴 자국이 남은 스모키한 스테이크와 환상적인 페어링을 보여줍니다. [...] 반응형\\n• 1. 카베르네 소비뇽 (Cabernet Sauvignon) – 스테이크 와인의 대표주자\\n• 2. 시라/쉬라즈 (Syrah/Shiraz) – 스파이시한 풍미가 매력적인 와인\\n• 3. 말벡 (Malbec) – 풍부한 과일 향과 부드러운 탄닌\\n• 4. 메를로 (Merlot) – 부드럽고 균형 잡힌 와인\\n• 5. 진판델 (Zinfandel) – 달콤한 향과 강한 바디감\\n• 어떤 와인을 선택해야 할까?\\n스테이크를 제대로 즐기려면 와인 선택이 중요합니다. 고기의 종류와 조리법에 따라 어울리는 와인이 달라지는데요. 어떤 와인을 선택해야 풍미를 극대화할 수 있을까요? 오늘은 스테이크와 가장 잘 어울리는 와인 5가지를 소개합니다.\\n\\n1. 카베르네 소비뇽 (Cabernet Sauvignon) – 스테이크 와인의 대표주자 [...] 3. 말벡 (Malbec) – 풍부한 과일 향과 부드러운 탄닌\\n\\n추천 이유:\\n말벡은 블랙베리와 자두 같은 과일향이 강하면서도 탄닌이 부드러운 레드 와인입니다. 고기와 함께 마시면 풍미가 더욱 살아나면서 균형 잡힌 조화를 이룹니다.\\n어울리는 스테이크:\\n\\n안심 스테이크 (필레 미뇽)\\n티본 스테이크\\n\\n추천 와인:\\n\\n아르헨티나 멘도사 말벡\\n카호르 말벡 (프랑스)\\n\\n특히 부드러운 안심 스테이크와 함께 즐기면 와인의 깊은 과일향과 육즙이 환상적인 조화를 이룹니다.\\n\\n4. 메를로 (Merlot) – 부드럽고 균형 잡힌 와인\\n\\n추천 이유:\\n메를로는 탄닌이 상대적으로 적고 부드러운 질감을 가지고 있어 고기의 풍미를 자연스럽게 살려주는 와인입니다. 무겁지 않으면서도 적절한 바디감을 가지고 있어 누구나 부담 없이 즐길 수 있습니다.\\n어울리는 스테이크:\\n\\n등심 스테이크\\n미디엄 레어 스테이크\\n\\n추천 와인:\\n\\n보르도 우안 (생테밀리옹, 뽀므롤)\\n캘리포니아 메를로'}, {'url': 'https://m.blog.naver.com/wineislikeacat/223096696241', 'content': '등심 스테이크, 채끝 스테이크와 어울리는 와인 품종은? 카베르네 소비뇽, 시라 등!\\n\\n등심은 소의 등뼈를 둘러싸고 있는 부위입니다.\\n육질이 연하고 지방이 많아서 두꺼운 스테이크 구이용으로 최적이죠.\\n채끝은 등뼈에서 허리를 감싸는 뼈로 내려오는 쪽의 살인데요,\\n마블링 러버들의 선택을 쉽사리 받는 부위입니다.\\n\\u200b\\n등심과 채끝 스테이크는 모두 풍미가 진하고 지방맛이 강하게 느껴지기에,\\n중간에서 높음 사이의 적당한 탄닌과 산도를 가진 와인을 선택하면\\n씹는 맛의 긴 여운 속 느끼함을 잡아줄 수 있습니다.\\n\\u200b\\n이에 맞는 레드와인으로는\\n카베르네 소비뇽(Carbernet Sauvignon), 시라(Syrah) 품종을 추천드려요!\\n\\u200b\\n\\n안심 스테이크와 어울리는 와인\\n\\n안심 스테이크와 어울리는 와인 품종은? 산지오베제!'}]\n"
     ]
    }
   ],
   "source": [
    "tool_output = web_search.invoke(tool_call[\"args\"])\n",
    "print(f\"{tool_call['name']} 호출결과:\")\n",
    "print(\"-\" * 100)\n",
    "print(tool_output)"
   ]
  },
  {
   "cell_type": "code",
   "execution_count": 9,
   "id": "c353a314",
   "metadata": {},
   "outputs": [
    {
     "name": "stdout",
     "output_type": "stream",
     "text": [
      "content=[{'url': 'https://alcohol.hobby-tech.com/entry/%EC%8A%A4%ED%85%8C%EC%9D%B4%ED%81%AC%EC%99%80-%EC%B0%B0%EB%96%A1%EA%B6%81%ED%95%A9-%EC%8A%A4%ED%85%8C%EC%9D%B4%ED%81%AC%EC%97%90-%EC%96%B4%EC%9A%B8%EB%A6%AC%EB%8A%94-%EC%99%80%EC%9D%B8-5%EA%B0%80%EC%A7%80', 'content': '추천 이유:\\n카베르네 소비뇽은 강한 탄닌과 풍부한 바디감이 특징인 레드 와인입니다. 이는 스테이크의 기름진 육즙과 균형을 이루며, 고기의 감칠맛을 더욱 살려줍니다.\\n어울리는 스테이크:\\n\\n리브아이 스테이크\\n뉴욕 스트립\\n티본 스테이크\\n\\n추천 와인:\\n\\n나파 밸리 카베르네 소비뇽\\n샤또 마고 (Château Margaux)\\n\\n카베르네 소비뇽은 특히 마블링이 많은 소고기 스테이크와 환상적인 조화를 이룹니다.\\n\\n2. 시라/쉬라즈 (Syrah/Shiraz) – 스파이시한 풍미가 매력적인 와인\\n\\n추천 이유:\\n시라는 과일향이 강하면서도 스파이시한 풍미가 있어, 풍부한 육즙을 가진 스테이크와 잘 어울립니다. 특히 숯불에 구운 스테이크와 궁합이 좋습니다.\\n어울리는 스테이크:\\n\\n바비큐 스테이크\\n페퍼크러스트 스테이크\\n\\n추천 와인:\\n\\n프랑스 론 밸리 시라\\n호주 쉬라즈 (펜폴즈 그랜지)\\n\\n시라는 그릴 자국이 남은 스모키한 스테이크와 환상적인 페어링을 보여줍니다. [...] 반응형\\n• 1. 카베르네 소비뇽 (Cabernet Sauvignon) – 스테이크 와인의 대표주자\\n• 2. 시라/쉬라즈 (Syrah/Shiraz) – 스파이시한 풍미가 매력적인 와인\\n• 3. 말벡 (Malbec) – 풍부한 과일 향과 부드러운 탄닌\\n• 4. 메를로 (Merlot) – 부드럽고 균형 잡힌 와인\\n• 5. 진판델 (Zinfandel) – 달콤한 향과 강한 바디감\\n• 어떤 와인을 선택해야 할까?\\n스테이크를 제대로 즐기려면 와인 선택이 중요합니다. 고기의 종류와 조리법에 따라 어울리는 와인이 달라지는데요. 어떤 와인을 선택해야 풍미를 극대화할 수 있을까요? 오늘은 스테이크와 가장 잘 어울리는 와인 5가지를 소개합니다.\\n\\n1. 카베르네 소비뇽 (Cabernet Sauvignon) – 스테이크 와인의 대표주자 [...] 3. 말벡 (Malbec) – 풍부한 과일 향과 부드러운 탄닌\\n\\n추천 이유:\\n말벡은 블랙베리와 자두 같은 과일향이 강하면서도 탄닌이 부드러운 레드 와인입니다. 고기와 함께 마시면 풍미가 더욱 살아나면서 균형 잡힌 조화를 이룹니다.\\n어울리는 스테이크:\\n\\n안심 스테이크 (필레 미뇽)\\n티본 스테이크\\n\\n추천 와인:\\n\\n아르헨티나 멘도사 말벡\\n카호르 말벡 (프랑스)\\n\\n특히 부드러운 안심 스테이크와 함께 즐기면 와인의 깊은 과일향과 육즙이 환상적인 조화를 이룹니다.\\n\\n4. 메를로 (Merlot) – 부드럽고 균형 잡힌 와인\\n\\n추천 이유:\\n메를로는 탄닌이 상대적으로 적고 부드러운 질감을 가지고 있어 고기의 풍미를 자연스럽게 살려주는 와인입니다. 무겁지 않으면서도 적절한 바디감을 가지고 있어 누구나 부담 없이 즐길 수 있습니다.\\n어울리는 스테이크:\\n\\n등심 스테이크\\n미디엄 레어 스테이크\\n\\n추천 와인:\\n\\n보르도 우안 (생테밀리옹, 뽀므롤)\\n캘리포니아 메를로'}, {'url': 'https://m.blog.naver.com/wineislikeacat/223096696241', 'content': '등심 스테이크, 채끝 스테이크와 어울리는 와인 품종은? 카베르네 소비뇽, 시라 등!\\n\\n등심은 소의 등뼈를 둘러싸고 있는 부위입니다.\\n육질이 연하고 지방이 많아서 두꺼운 스테이크 구이용으로 최적이죠.\\n채끝은 등뼈에서 허리를 감싸는 뼈로 내려오는 쪽의 살인데요,\\n마블링 러버들의 선택을 쉽사리 받는 부위입니다.\\n\\u200b\\n등심과 채끝 스테이크는 모두 풍미가 진하고 지방맛이 강하게 느껴지기에,\\n중간에서 높음 사이의 적당한 탄닌과 산도를 가진 와인을 선택하면\\n씹는 맛의 긴 여운 속 느끼함을 잡아줄 수 있습니다.\\n\\u200b\\n이에 맞는 레드와인으로는\\n카베르네 소비뇽(Carbernet Sauvignon), 시라(Syrah) 품종을 추천드려요!\\n\\u200b\\n\\n안심 스테이크와 어울리는 와인\\n\\n안심 스테이크와 어울리는 와인 품종은? 산지오베제!'}] name='tavily_search_results_json' tool_call_id='call_MJvmae7tffhPCgmgNuNjQemT'\n"
     ]
    }
   ],
   "source": [
    "from langchain_core.messages import ToolMessage\n",
    "tool_message = ToolMessage(\n",
    "    content=tool_output,\n",
    "    tool_call_id=tool_call[\"id\"],\n",
    "    name=tool_call[\"name\"]\n",
    ")\n",
    "\n",
    "print(tool_message)"
   ]
  },
  {
   "cell_type": "code",
   "execution_count": 10,
   "id": "e930bfaa",
   "metadata": {},
   "outputs": [
    {
     "name": "stdout",
     "output_type": "stream",
     "text": [
      "content='[{\"url\": \"https://alcohol.hobby-tech.com/entry/%EC%8A%A4%ED%85%8C%EC%9D%B4%ED%81%AC%EC%99%80-%EC%B0%B0%EB%96%A1%EA%B6%81%ED%95%A9-%EC%8A%A4%ED%85%8C%EC%9D%B4%ED%81%AC%EC%97%90-%EC%96%B4%EC%9A%B8%EB%A6%AC%EB%8A%94-%EC%99%80%EC%9D%B8-5%EA%B0%80%EC%A7%80\", \"content\": \"추천 이유:\\\\n카베르네 소비뇽은 강한 탄닌과 풍부한 바디감이 특징인 레드 와인입니다. 이는 스테이크의 기름진 육즙과 균형을 이루며, 고기의 감칠맛을 더욱 살려줍니다.\\\\n어울리는 스테이크:\\\\n\\\\n리브아이 스테이크\\\\n뉴욕 스트립\\\\n티본 스테이크\\\\n\\\\n추천 와인:\\\\n\\\\n나파 밸리 카베르네 소비뇽\\\\n샤또 마고 (Château Margaux)\\\\n\\\\n카베르네 소비뇽은 특히 마블링이 많은 소고기 스테이크와 환상적인 조화를 이룹니다.\\\\n\\\\n2. 시라/쉬라즈 (Syrah/Shiraz) – 스파이시한 풍미가 매력적인 와인\\\\n\\\\n추천 이유:\\\\n시라는 과일향이 강하면서도 스파이시한 풍미가 있어, 풍부한 육즙을 가진 스테이크와 잘 어울립니다. 특히 숯불에 구운 스테이크와 궁합이 좋습니다.\\\\n어울리는 스테이크:\\\\n\\\\n바비큐 스테이크\\\\n페퍼크러스트 스테이크\\\\n\\\\n추천 와인:\\\\n\\\\n프랑스 론 밸리 시라\\\\n호주 쉬라즈 (펜폴즈 그랜지)\\\\n\\\\n시라는 그릴 자국이 남은 스모키한 스테이크와 환상적인 페어링을 보여줍니다. [...] 반응형\\\\n• 1. 카베르네 소비뇽 (Cabernet Sauvignon) – 스테이크 와인의 대표주자\\\\n• 2. 시라/쉬라즈 (Syrah/Shiraz) – 스파이시한 풍미가 매력적인 와인\\\\n• 3. 말벡 (Malbec) – 풍부한 과일 향과 부드러운 탄닌\\\\n• 4. 메를로 (Merlot) – 부드럽고 균형 잡힌 와인\\\\n• 5. 진판델 (Zinfandel) – 달콤한 향과 강한 바디감\\\\n• 어떤 와인을 선택해야 할까?\\\\n스테이크를 제대로 즐기려면 와인 선택이 중요합니다. 고기의 종류와 조리법에 따라 어울리는 와인이 달라지는데요. 어떤 와인을 선택해야 풍미를 극대화할 수 있을까요? 오늘은 스테이크와 가장 잘 어울리는 와인 5가지를 소개합니다.\\\\n\\\\n1. 카베르네 소비뇽 (Cabernet Sauvignon) – 스테이크 와인의 대표주자 [...] 3. 말벡 (Malbec) – 풍부한 과일 향과 부드러운 탄닌\\\\n\\\\n추천 이유:\\\\n말벡은 블랙베리와 자두 같은 과일향이 강하면서도 탄닌이 부드러운 레드 와인입니다. 고기와 함께 마시면 풍미가 더욱 살아나면서 균형 잡힌 조화를 이룹니다.\\\\n어울리는 스테이크:\\\\n\\\\n안심 스테이크 (필레 미뇽)\\\\n티본 스테이크\\\\n\\\\n추천 와인:\\\\n\\\\n아르헨티나 멘도사 말벡\\\\n카호르 말벡 (프랑스)\\\\n\\\\n특히 부드러운 안심 스테이크와 함께 즐기면 와인의 깊은 과일향과 육즙이 환상적인 조화를 이룹니다.\\\\n\\\\n4. 메를로 (Merlot) – 부드럽고 균형 잡힌 와인\\\\n\\\\n추천 이유:\\\\n메를로는 탄닌이 상대적으로 적고 부드러운 질감을 가지고 있어 고기의 풍미를 자연스럽게 살려주는 와인입니다. 무겁지 않으면서도 적절한 바디감을 가지고 있어 누구나 부담 없이 즐길 수 있습니다.\\\\n어울리는 스테이크:\\\\n\\\\n등심 스테이크\\\\n미디엄 레어 스테이크\\\\n\\\\n추천 와인:\\\\n\\\\n보르도 우안 (생테밀리옹, 뽀므롤)\\\\n캘리포니아 메를로\"}, {\"url\": \"https://m.blog.naver.com/wineislikeacat/223096696241\", \"content\": \"등심 스테이크, 채끝 스테이크와 어울리는 와인 품종은? 카베르네 소비뇽, 시라 등!\\\\n\\\\n등심은 소의 등뼈를 둘러싸고 있는 부위입니다.\\\\n육질이 연하고 지방이 많아서 두꺼운 스테이크 구이용으로 최적이죠.\\\\n채끝은 등뼈에서 허리를 감싸는 뼈로 내려오는 쪽의 살인데요,\\\\n마블링 러버들의 선택을 쉽사리 받는 부위입니다.\\\\n\\u200b\\\\n등심과 채끝 스테이크는 모두 풍미가 진하고 지방맛이 강하게 느껴지기에,\\\\n중간에서 높음 사이의 적당한 탄닌과 산도를 가진 와인을 선택하면\\\\n씹는 맛의 긴 여운 속 느끼함을 잡아줄 수 있습니다.\\\\n\\u200b\\\\n이에 맞는 레드와인으로는\\\\n카베르네 소비뇽(Carbernet Sauvignon), 시라(Syrah) 품종을 추천드려요!\\\\n\\u200b\\\\n\\\\n안심 스테이크와 어울리는 와인\\\\n\\\\n안심 스테이크와 어울리는 와인 품종은? 산지오베제!\"}]' name='tavily_search_results_json' tool_call_id='call_MJvmae7tffhPCgmgNuNjQemT' artifact={'query': '스테이크와 어울리는 와인 추천', 'follow_up_questions': None, 'answer': None, 'images': [], 'results': [{'url': 'https://alcohol.hobby-tech.com/entry/%EC%8A%A4%ED%85%8C%EC%9D%B4%ED%81%AC%EC%99%80-%EC%B0%B0%EB%96%A1%EA%B6%81%ED%95%A9-%EC%8A%A4%ED%85%8C%EC%9D%B4%ED%81%AC%EC%97%90-%EC%96%B4%EC%9A%B8%EB%A6%AC%EB%8A%94-%EC%99%80%EC%9D%B8-5%EA%B0%80%EC%A7%80', 'title': '스테이크와 찰떡궁합! 스테이크에 어울리는 와인 5가지 - 술의 모든 것', 'content': '추천 이유:\\n카베르네 소비뇽은 강한 탄닌과 풍부한 바디감이 특징인 레드 와인입니다. 이는 스테이크의 기름진 육즙과 균형을 이루며, 고기의 감칠맛을 더욱 살려줍니다.\\n어울리는 스테이크:\\n\\n리브아이 스테이크\\n뉴욕 스트립\\n티본 스테이크\\n\\n추천 와인:\\n\\n나파 밸리 카베르네 소비뇽\\n샤또 마고 (Château Margaux)\\n\\n카베르네 소비뇽은 특히 마블링이 많은 소고기 스테이크와 환상적인 조화를 이룹니다.\\n\\n2. 시라/쉬라즈 (Syrah/Shiraz) – 스파이시한 풍미가 매력적인 와인\\n\\n추천 이유:\\n시라는 과일향이 강하면서도 스파이시한 풍미가 있어, 풍부한 육즙을 가진 스테이크와 잘 어울립니다. 특히 숯불에 구운 스테이크와 궁합이 좋습니다.\\n어울리는 스테이크:\\n\\n바비큐 스테이크\\n페퍼크러스트 스테이크\\n\\n추천 와인:\\n\\n프랑스 론 밸리 시라\\n호주 쉬라즈 (펜폴즈 그랜지)\\n\\n시라는 그릴 자국이 남은 스모키한 스테이크와 환상적인 페어링을 보여줍니다. [...] 반응형\\n• 1. 카베르네 소비뇽 (Cabernet Sauvignon) – 스테이크 와인의 대표주자\\n• 2. 시라/쉬라즈 (Syrah/Shiraz) – 스파이시한 풍미가 매력적인 와인\\n• 3. 말벡 (Malbec) – 풍부한 과일 향과 부드러운 탄닌\\n• 4. 메를로 (Merlot) – 부드럽고 균형 잡힌 와인\\n• 5. 진판델 (Zinfandel) – 달콤한 향과 강한 바디감\\n• 어떤 와인을 선택해야 할까?\\n스테이크를 제대로 즐기려면 와인 선택이 중요합니다. 고기의 종류와 조리법에 따라 어울리는 와인이 달라지는데요. 어떤 와인을 선택해야 풍미를 극대화할 수 있을까요? 오늘은 스테이크와 가장 잘 어울리는 와인 5가지를 소개합니다.\\n\\n1. 카베르네 소비뇽 (Cabernet Sauvignon) – 스테이크 와인의 대표주자 [...] 3. 말벡 (Malbec) – 풍부한 과일 향과 부드러운 탄닌\\n\\n추천 이유:\\n말벡은 블랙베리와 자두 같은 과일향이 강하면서도 탄닌이 부드러운 레드 와인입니다. 고기와 함께 마시면 풍미가 더욱 살아나면서 균형 잡힌 조화를 이룹니다.\\n어울리는 스테이크:\\n\\n안심 스테이크 (필레 미뇽)\\n티본 스테이크\\n\\n추천 와인:\\n\\n아르헨티나 멘도사 말벡\\n카호르 말벡 (프랑스)\\n\\n특히 부드러운 안심 스테이크와 함께 즐기면 와인의 깊은 과일향과 육즙이 환상적인 조화를 이룹니다.\\n\\n4. 메를로 (Merlot) – 부드럽고 균형 잡힌 와인\\n\\n추천 이유:\\n메를로는 탄닌이 상대적으로 적고 부드러운 질감을 가지고 있어 고기의 풍미를 자연스럽게 살려주는 와인입니다. 무겁지 않으면서도 적절한 바디감을 가지고 있어 누구나 부담 없이 즐길 수 있습니다.\\n어울리는 스테이크:\\n\\n등심 스테이크\\n미디엄 레어 스테이크\\n\\n추천 와인:\\n\\n보르도 우안 (생테밀리옹, 뽀므롤)\\n캘리포니아 메를로', 'score': 0.926683, 'raw_content': None}, {'url': 'https://m.blog.naver.com/wineislikeacat/223096696241', 'title': '등심 스테이크에는 이 와인 드셔보세요! 소고기 부위별 레드와인 추천 ...', 'content': '등심 스테이크, 채끝 스테이크와 어울리는 와인 품종은? 카베르네 소비뇽, 시라 등!\\n\\n등심은 소의 등뼈를 둘러싸고 있는 부위입니다.\\n육질이 연하고 지방이 많아서 두꺼운 스테이크 구이용으로 최적이죠.\\n채끝은 등뼈에서 허리를 감싸는 뼈로 내려오는 쪽의 살인데요,\\n마블링 러버들의 선택을 쉽사리 받는 부위입니다.\\n\\u200b\\n등심과 채끝 스테이크는 모두 풍미가 진하고 지방맛이 강하게 느껴지기에,\\n중간에서 높음 사이의 적당한 탄닌과 산도를 가진 와인을 선택하면\\n씹는 맛의 긴 여운 속 느끼함을 잡아줄 수 있습니다.\\n\\u200b\\n이에 맞는 레드와인으로는\\n카베르네 소비뇽(Carbernet Sauvignon), 시라(Syrah) 품종을 추천드려요!\\n\\u200b\\n\\n안심 스테이크와 어울리는 와인\\n\\n안심 스테이크와 어울리는 와인 품종은? 산지오베제!', 'score': 0.90771407, 'raw_content': None}], 'response_time': 1.47}\n"
     ]
    }
   ],
   "source": [
    "tool_message = web_search.invoke(tool_call)\n",
    "print(tool_message)"
   ]
  },
  {
   "cell_type": "code",
   "execution_count": 11,
   "id": "07c534ea",
   "metadata": {},
   "outputs": [
    {
     "name": "stdout",
     "output_type": "stream",
     "text": [
      "('[{\"url\": '\n",
      " '\"https://alcohol.hobby-tech.com/entry/%EC%8A%A4%ED%85%8C%EC%9D%B4%ED%81%AC%EC%99%80-%EC%B0%B0%EB%96%A1%EA%B6%81%ED%95%A9-%EC%8A%A4%ED%85%8C%EC%9D%B4%ED%81%AC%EC%97%90-%EC%96%B4%EC%9A%B8%EB%A6%AC%EB%8A%94-%EC%99%80%EC%9D%B8-5%EA%B0%80%EC%A7%80\", '\n",
      " '\"content\": \"추천 이유:\\\\n카베르네 소비뇽은 강한 탄닌과 풍부한 바디감이 특징인 레드 와인입니다. 이는 스테이크의 기름진 '\n",
      " '육즙과 균형을 이루며, 고기의 감칠맛을 더욱 살려줍니다.\\\\n어울리는 스테이크:\\\\n\\\\n리브아이 스테이크\\\\n뉴욕 스트립\\\\n티본 '\n",
      " '스테이크\\\\n\\\\n추천 와인:\\\\n\\\\n나파 밸리 카베르네 소비뇽\\\\n샤또 마고 (Château Margaux)\\\\n\\\\n카베르네 '\n",
      " '소비뇽은 특히 마블링이 많은 소고기 스테이크와 환상적인 조화를 이룹니다.\\\\n\\\\n2. 시라/쉬라즈 (Syrah/Shiraz) – '\n",
      " '스파이시한 풍미가 매력적인 와인\\\\n\\\\n추천 이유:\\\\n시라는 과일향이 강하면서도 스파이시한 풍미가 있어, 풍부한 육즙을 가진 '\n",
      " '스테이크와 잘 어울립니다. 특히 숯불에 구운 스테이크와 궁합이 좋습니다.\\\\n어울리는 스테이크:\\\\n\\\\n바비큐 스테이크\\\\n페퍼크러스트 '\n",
      " '스테이크\\\\n\\\\n추천 와인:\\\\n\\\\n프랑스 론 밸리 시라\\\\n호주 쉬라즈 (펜폴즈 그랜지)\\\\n\\\\n시라는 그릴 자국이 남은 스모키한 '\n",
      " '스테이크와 환상적인 페어링을 보여줍니다. [...] 반응형\\\\n• 1. 카베르네 소비뇽 (Cabernet Sauvignon) – 스테이크 '\n",
      " '와인의 대표주자\\\\n• 2. 시라/쉬라즈 (Syrah/Shiraz) – 스파이시한 풍미가 매력적인 와인\\\\n• 3. 말벡 (Malbec) '\n",
      " '– 풍부한 과일 향과 부드러운 탄닌\\\\n• 4. 메를로 (Merlot) – 부드럽고 균형 잡힌 와인\\\\n• 5. 진판델 '\n",
      " '(Zinfandel) – 달콤한 향과 강한 바디감\\\\n• 어떤 와인을 선택해야 할까?\\\\n스테이크를 제대로 즐기려면 와인 선택이 '\n",
      " '중요합니다. 고기의 종류와 조리법에 따라 어울리는 와인이 달라지는데요. 어떤 와인을 선택해야 풍미를 극대화할 수 있을까요? 오늘은 '\n",
      " '스테이크와 가장 잘 어울리는 와인 5가지를 소개합니다.\\\\n\\\\n1. 카베르네 소비뇽 (Cabernet Sauvignon) – 스테이크 '\n",
      " '와인의 대표주자 [...] 3. 말벡 (Malbec) – 풍부한 과일 향과 부드러운 탄닌\\\\n\\\\n추천 이유:\\\\n말벡은 블랙베리와 자두 '\n",
      " '같은 과일향이 강하면서도 탄닌이 부드러운 레드 와인입니다. 고기와 함께 마시면 풍미가 더욱 살아나면서 균형 잡힌 조화를 '\n",
      " '이룹니다.\\\\n어울리는 스테이크:\\\\n\\\\n안심 스테이크 (필레 미뇽)\\\\n티본 스테이크\\\\n\\\\n추천 와인:\\\\n\\\\n아르헨티나 멘도사 '\n",
      " '말벡\\\\n카호르 말벡 (프랑스)\\\\n\\\\n특히 부드러운 안심 스테이크와 함께 즐기면 와인의 깊은 과일향과 육즙이 환상적인 조화를 '\n",
      " '이룹니다.\\\\n\\\\n4. 메를로 (Merlot) – 부드럽고 균형 잡힌 와인\\\\n\\\\n추천 이유:\\\\n메를로는 탄닌이 상대적으로 적고 '\n",
      " '부드러운 질감을 가지고 있어 고기의 풍미를 자연스럽게 살려주는 와인입니다. 무겁지 않으면서도 적절한 바디감을 가지고 있어 누구나 부담 '\n",
      " '없이 즐길 수 있습니다.\\\\n어울리는 스테이크:\\\\n\\\\n등심 스테이크\\\\n미디엄 레어 스테이크\\\\n\\\\n추천 와인:\\\\n\\\\n보르도 '\n",
      " '우안 (생테밀리옹, 뽀므롤)\\\\n캘리포니아 메를로\"}, {\"url\": '\n",
      " '\"https://m.blog.naver.com/wineislikeacat/223096696241\", \"content\": \"등심 스테이크, '\n",
      " '채끝 스테이크와 어울리는 와인 품종은? 카베르네 소비뇽, 시라 등!\\\\n\\\\n등심은 소의 등뼈를 둘러싸고 있는 부위입니다.\\\\n육질이 '\n",
      " '연하고 지방이 많아서 두꺼운 스테이크 구이용으로 최적이죠.\\\\n채끝은 등뼈에서 허리를 감싸는 뼈로 내려오는 쪽의 살인데요,\\\\n마블링 '\n",
      " '러버들의 선택을 쉽사리 받는 부위입니다.\\\\n\\u200b\\\\n등심과 채끝 스테이크는 모두 풍미가 진하고 지방맛이 강하게 '\n",
      " '느껴지기에,\\\\n중간에서 높음 사이의 적당한 탄닌과 산도를 가진 와인을 선택하면\\\\n씹는 맛의 긴 여운 속 느끼함을 잡아줄 수 '\n",
      " '있습니다.\\\\n\\u200b\\\\n이에 맞는 레드와인으로는\\\\n카베르네 소비뇽(Carbernet Sauvignon), 시라(Syrah) '\n",
      " '품종을 추천드려요!\\\\n\\u200b\\\\n\\\\n안심 스테이크와 어울리는 와인\\\\n\\\\n안심 스테이크와 어울리는 와인 품종은? '\n",
      " '산지오베제!\"}]')\n"
     ]
    }
   ],
   "source": [
    "pprint(tool_message.content)"
   ]
  },
  {
   "cell_type": "code",
   "execution_count": 12,
   "id": "d71b5051",
   "metadata": {},
   "outputs": [
    {
     "name": "stdout",
     "output_type": "stream",
     "text": [
      "[ToolMessage(content='[{\"url\": \"https://alcohol.hobby-tech.com/entry/%EC%8A%A4%ED%85%8C%EC%9D%B4%ED%81%AC%EC%99%80-%EC%B0%B0%EB%96%A1%EA%B6%81%ED%95%A9-%EC%8A%A4%ED%85%8C%EC%9D%B4%ED%81%AC%EC%97%90-%EC%96%B4%EC%9A%B8%EB%A6%AC%EB%8A%94-%EC%99%80%EC%9D%B8-5%EA%B0%80%EC%A7%80\", \"content\": \"추천 이유:\\\\n카베르네 소비뇽은 강한 탄닌과 풍부한 바디감이 특징인 레드 와인입니다. 이는 스테이크의 기름진 육즙과 균형을 이루며, 고기의 감칠맛을 더욱 살려줍니다.\\\\n어울리는 스테이크:\\\\n\\\\n리브아이 스테이크\\\\n뉴욕 스트립\\\\n티본 스테이크\\\\n\\\\n추천 와인:\\\\n\\\\n나파 밸리 카베르네 소비뇽\\\\n샤또 마고 (Château Margaux)\\\\n\\\\n카베르네 소비뇽은 특히 마블링이 많은 소고기 스테이크와 환상적인 조화를 이룹니다.\\\\n\\\\n2. 시라/쉬라즈 (Syrah/Shiraz) – 스파이시한 풍미가 매력적인 와인\\\\n\\\\n추천 이유:\\\\n시라는 과일향이 강하면서도 스파이시한 풍미가 있어, 풍부한 육즙을 가진 스테이크와 잘 어울립니다. 특히 숯불에 구운 스테이크와 궁합이 좋습니다.\\\\n어울리는 스테이크:\\\\n\\\\n바비큐 스테이크\\\\n페퍼크러스트 스테이크\\\\n\\\\n추천 와인:\\\\n\\\\n프랑스 론 밸리 시라\\\\n호주 쉬라즈 (펜폴즈 그랜지)\\\\n\\\\n시라는 그릴 자국이 남은 스모키한 스테이크와 환상적인 페어링을 보여줍니다. [...] 반응형\\\\n• 1. 카베르네 소비뇽 (Cabernet Sauvignon) – 스테이크 와인의 대표주자\\\\n• 2. 시라/쉬라즈 (Syrah/Shiraz) – 스파이시한 풍미가 매력적인 와인\\\\n• 3. 말벡 (Malbec) – 풍부한 과일 향과 부드러운 탄닌\\\\n• 4. 메를로 (Merlot) – 부드럽고 균형 잡힌 와인\\\\n• 5. 진판델 (Zinfandel) – 달콤한 향과 강한 바디감\\\\n• 어떤 와인을 선택해야 할까?\\\\n스테이크를 제대로 즐기려면 와인 선택이 중요합니다. 고기의 종류와 조리법에 따라 어울리는 와인이 달라지는데요. 어떤 와인을 선택해야 풍미를 극대화할 수 있을까요? 오늘은 스테이크와 가장 잘 어울리는 와인 5가지를 소개합니다.\\\\n\\\\n1. 카베르네 소비뇽 (Cabernet Sauvignon) – 스테이크 와인의 대표주자 [...] 3. 말벡 (Malbec) – 풍부한 과일 향과 부드러운 탄닌\\\\n\\\\n추천 이유:\\\\n말벡은 블랙베리와 자두 같은 과일향이 강하면서도 탄닌이 부드러운 레드 와인입니다. 고기와 함께 마시면 풍미가 더욱 살아나면서 균형 잡힌 조화를 이룹니다.\\\\n어울리는 스테이크:\\\\n\\\\n안심 스테이크 (필레 미뇽)\\\\n티본 스테이크\\\\n\\\\n추천 와인:\\\\n\\\\n아르헨티나 멘도사 말벡\\\\n카호르 말벡 (프랑스)\\\\n\\\\n특히 부드러운 안심 스테이크와 함께 즐기면 와인의 깊은 과일향과 육즙이 환상적인 조화를 이룹니다.\\\\n\\\\n4. 메를로 (Merlot) – 부드럽고 균형 잡힌 와인\\\\n\\\\n추천 이유:\\\\n메를로는 탄닌이 상대적으로 적고 부드러운 질감을 가지고 있어 고기의 풍미를 자연스럽게 살려주는 와인입니다. 무겁지 않으면서도 적절한 바디감을 가지고 있어 누구나 부담 없이 즐길 수 있습니다.\\\\n어울리는 스테이크:\\\\n\\\\n등심 스테이크\\\\n미디엄 레어 스테이크\\\\n\\\\n추천 와인:\\\\n\\\\n보르도 우안 (생테밀리옹, 뽀므롤)\\\\n캘리포니아 메를로\"}, {\"url\": \"https://m.blog.naver.com/wineislikeacat/223096696241\", \"content\": \"등심 스테이크, 채끝 스테이크와 어울리는 와인 품종은? 카베르네 소비뇽, 시라 등!\\\\n\\\\n등심은 소의 등뼈를 둘러싸고 있는 부위입니다.\\\\n육질이 연하고 지방이 많아서 두꺼운 스테이크 구이용으로 최적이죠.\\\\n채끝은 등뼈에서 허리를 감싸는 뼈로 내려오는 쪽의 살인데요,\\\\n마블링 러버들의 선택을 쉽사리 받는 부위입니다.\\\\n\\u200b\\\\n등심과 채끝 스테이크는 모두 풍미가 진하고 지방맛이 강하게 느껴지기에,\\\\n중간에서 높음 사이의 적당한 탄닌과 산도를 가진 와인을 선택하면\\\\n씹는 맛의 긴 여운 속 느끼함을 잡아줄 수 있습니다.\\\\n\\u200b\\\\n이에 맞는 레드와인으로는\\\\n카베르네 소비뇽(Carbernet Sauvignon), 시라(Syrah) 품종을 추천드려요!\\\\n\\u200b\\\\n\\\\n안심 스테이크와 어울리는 와인\\\\n\\\\n안심 스테이크와 어울리는 와인 품종은? 산지오베제!\"}]', name='tavily_search_results_json', tool_call_id='call_MJvmae7tffhPCgmgNuNjQemT', artifact={'query': '스테이크와 어울리는 와인 추천', 'follow_up_questions': None, 'answer': None, 'images': [], 'results': [{'url': 'https://alcohol.hobby-tech.com/entry/%EC%8A%A4%ED%85%8C%EC%9D%B4%ED%81%AC%EC%99%80-%EC%B0%B0%EB%96%A1%EA%B6%81%ED%95%A9-%EC%8A%A4%ED%85%8C%EC%9D%B4%ED%81%AC%EC%97%90-%EC%96%B4%EC%9A%B8%EB%A6%AC%EB%8A%94-%EC%99%80%EC%9D%B8-5%EA%B0%80%EC%A7%80', 'title': '스테이크와 찰떡궁합! 스테이크에 어울리는 와인 5가지 - 술의 모든 것', 'content': '추천 이유:\\n카베르네 소비뇽은 강한 탄닌과 풍부한 바디감이 특징인 레드 와인입니다. 이는 스테이크의 기름진 육즙과 균형을 이루며, 고기의 감칠맛을 더욱 살려줍니다.\\n어울리는 스테이크:\\n\\n리브아이 스테이크\\n뉴욕 스트립\\n티본 스테이크\\n\\n추천 와인:\\n\\n나파 밸리 카베르네 소비뇽\\n샤또 마고 (Château Margaux)\\n\\n카베르네 소비뇽은 특히 마블링이 많은 소고기 스테이크와 환상적인 조화를 이룹니다.\\n\\n2. 시라/쉬라즈 (Syrah/Shiraz) – 스파이시한 풍미가 매력적인 와인\\n\\n추천 이유:\\n시라는 과일향이 강하면서도 스파이시한 풍미가 있어, 풍부한 육즙을 가진 스테이크와 잘 어울립니다. 특히 숯불에 구운 스테이크와 궁합이 좋습니다.\\n어울리는 스테이크:\\n\\n바비큐 스테이크\\n페퍼크러스트 스테이크\\n\\n추천 와인:\\n\\n프랑스 론 밸리 시라\\n호주 쉬라즈 (펜폴즈 그랜지)\\n\\n시라는 그릴 자국이 남은 스모키한 스테이크와 환상적인 페어링을 보여줍니다. [...] 반응형\\n• 1. 카베르네 소비뇽 (Cabernet Sauvignon) – 스테이크 와인의 대표주자\\n• 2. 시라/쉬라즈 (Syrah/Shiraz) – 스파이시한 풍미가 매력적인 와인\\n• 3. 말벡 (Malbec) – 풍부한 과일 향과 부드러운 탄닌\\n• 4. 메를로 (Merlot) – 부드럽고 균형 잡힌 와인\\n• 5. 진판델 (Zinfandel) – 달콤한 향과 강한 바디감\\n• 어떤 와인을 선택해야 할까?\\n스테이크를 제대로 즐기려면 와인 선택이 중요합니다. 고기의 종류와 조리법에 따라 어울리는 와인이 달라지는데요. 어떤 와인을 선택해야 풍미를 극대화할 수 있을까요? 오늘은 스테이크와 가장 잘 어울리는 와인 5가지를 소개합니다.\\n\\n1. 카베르네 소비뇽 (Cabernet Sauvignon) – 스테이크 와인의 대표주자 [...] 3. 말벡 (Malbec) – 풍부한 과일 향과 부드러운 탄닌\\n\\n추천 이유:\\n말벡은 블랙베리와 자두 같은 과일향이 강하면서도 탄닌이 부드러운 레드 와인입니다. 고기와 함께 마시면 풍미가 더욱 살아나면서 균형 잡힌 조화를 이룹니다.\\n어울리는 스테이크:\\n\\n안심 스테이크 (필레 미뇽)\\n티본 스테이크\\n\\n추천 와인:\\n\\n아르헨티나 멘도사 말벡\\n카호르 말벡 (프랑스)\\n\\n특히 부드러운 안심 스테이크와 함께 즐기면 와인의 깊은 과일향과 육즙이 환상적인 조화를 이룹니다.\\n\\n4. 메를로 (Merlot) – 부드럽고 균형 잡힌 와인\\n\\n추천 이유:\\n메를로는 탄닌이 상대적으로 적고 부드러운 질감을 가지고 있어 고기의 풍미를 자연스럽게 살려주는 와인입니다. 무겁지 않으면서도 적절한 바디감을 가지고 있어 누구나 부담 없이 즐길 수 있습니다.\\n어울리는 스테이크:\\n\\n등심 스테이크\\n미디엄 레어 스테이크\\n\\n추천 와인:\\n\\n보르도 우안 (생테밀리옹, 뽀므롤)\\n캘리포니아 메를로', 'score': 0.926683, 'raw_content': None}, {'url': 'https://m.blog.naver.com/wineislikeacat/223096696241', 'title': '등심 스테이크에는 이 와인 드셔보세요! 소고기 부위별 레드와인 추천 ...', 'content': '등심 스테이크, 채끝 스테이크와 어울리는 와인 품종은? 카베르네 소비뇽, 시라 등!\\n\\n등심은 소의 등뼈를 둘러싸고 있는 부위입니다.\\n육질이 연하고 지방이 많아서 두꺼운 스테이크 구이용으로 최적이죠.\\n채끝은 등뼈에서 허리를 감싸는 뼈로 내려오는 쪽의 살인데요,\\n마블링 러버들의 선택을 쉽사리 받는 부위입니다.\\n\\u200b\\n등심과 채끝 스테이크는 모두 풍미가 진하고 지방맛이 강하게 느껴지기에,\\n중간에서 높음 사이의 적당한 탄닌과 산도를 가진 와인을 선택하면\\n씹는 맛의 긴 여운 속 느끼함을 잡아줄 수 있습니다.\\n\\u200b\\n이에 맞는 레드와인으로는\\n카베르네 소비뇽(Carbernet Sauvignon), 시라(Syrah) 품종을 추천드려요!\\n\\u200b\\n\\n안심 스테이크와 어울리는 와인\\n\\n안심 스테이크와 어울리는 와인 품종은? 산지오베제!', 'score': 0.90771407, 'raw_content': None}], 'response_time': 1.58})]\n",
      "----------------------------------------------------------------------------------------------------\n",
      "('[{\"url\": '\n",
      " '\"https://alcohol.hobby-tech.com/entry/%EC%8A%A4%ED%85%8C%EC%9D%B4%ED%81%AC%EC%99%80-%EC%B0%B0%EB%96%A1%EA%B6%81%ED%95%A9-%EC%8A%A4%ED%85%8C%EC%9D%B4%ED%81%AC%EC%97%90-%EC%96%B4%EC%9A%B8%EB%A6%AC%EB%8A%94-%EC%99%80%EC%9D%B8-5%EA%B0%80%EC%A7%80\", '\n",
      " '\"content\": \"추천 이유:\\\\n카베르네 소비뇽은 강한 탄닌과 풍부한 바디감이 특징인 레드 와인입니다. 이는 스테이크의 기름진 '\n",
      " '육즙과 균형을 이루며, 고기의 감칠맛을 더욱 살려줍니다.\\\\n어울리는 스테이크:\\\\n\\\\n리브아이 스테이크\\\\n뉴욕 스트립\\\\n티본 '\n",
      " '스테이크\\\\n\\\\n추천 와인:\\\\n\\\\n나파 밸리 카베르네 소비뇽\\\\n샤또 마고 (Château Margaux)\\\\n\\\\n카베르네 '\n",
      " '소비뇽은 특히 마블링이 많은 소고기 스테이크와 환상적인 조화를 이룹니다.\\\\n\\\\n2. 시라/쉬라즈 (Syrah/Shiraz) – '\n",
      " '스파이시한 풍미가 매력적인 와인\\\\n\\\\n추천 이유:\\\\n시라는 과일향이 강하면서도 스파이시한 풍미가 있어, 풍부한 육즙을 가진 '\n",
      " '스테이크와 잘 어울립니다. 특히 숯불에 구운 스테이크와 궁합이 좋습니다.\\\\n어울리는 스테이크:\\\\n\\\\n바비큐 스테이크\\\\n페퍼크러스트 '\n",
      " '스테이크\\\\n\\\\n추천 와인:\\\\n\\\\n프랑스 론 밸리 시라\\\\n호주 쉬라즈 (펜폴즈 그랜지)\\\\n\\\\n시라는 그릴 자국이 남은 스모키한 '\n",
      " '스테이크와 환상적인 페어링을 보여줍니다. [...] 반응형\\\\n• 1. 카베르네 소비뇽 (Cabernet Sauvignon) – 스테이크 '\n",
      " '와인의 대표주자\\\\n• 2. 시라/쉬라즈 (Syrah/Shiraz) – 스파이시한 풍미가 매력적인 와인\\\\n• 3. 말벡 (Malbec) '\n",
      " '– 풍부한 과일 향과 부드러운 탄닌\\\\n• 4. 메를로 (Merlot) – 부드럽고 균형 잡힌 와인\\\\n• 5. 진판델 '\n",
      " '(Zinfandel) – 달콤한 향과 강한 바디감\\\\n• 어떤 와인을 선택해야 할까?\\\\n스테이크를 제대로 즐기려면 와인 선택이 '\n",
      " '중요합니다. 고기의 종류와 조리법에 따라 어울리는 와인이 달라지는데요. 어떤 와인을 선택해야 풍미를 극대화할 수 있을까요? 오늘은 '\n",
      " '스테이크와 가장 잘 어울리는 와인 5가지를 소개합니다.\\\\n\\\\n1. 카베르네 소비뇽 (Cabernet Sauvignon) – 스테이크 '\n",
      " '와인의 대표주자 [...] 3. 말벡 (Malbec) – 풍부한 과일 향과 부드러운 탄닌\\\\n\\\\n추천 이유:\\\\n말벡은 블랙베리와 자두 '\n",
      " '같은 과일향이 강하면서도 탄닌이 부드러운 레드 와인입니다. 고기와 함께 마시면 풍미가 더욱 살아나면서 균형 잡힌 조화를 '\n",
      " '이룹니다.\\\\n어울리는 스테이크:\\\\n\\\\n안심 스테이크 (필레 미뇽)\\\\n티본 스테이크\\\\n\\\\n추천 와인:\\\\n\\\\n아르헨티나 멘도사 '\n",
      " '말벡\\\\n카호르 말벡 (프랑스)\\\\n\\\\n특히 부드러운 안심 스테이크와 함께 즐기면 와인의 깊은 과일향과 육즙이 환상적인 조화를 '\n",
      " '이룹니다.\\\\n\\\\n4. 메를로 (Merlot) – 부드럽고 균형 잡힌 와인\\\\n\\\\n추천 이유:\\\\n메를로는 탄닌이 상대적으로 적고 '\n",
      " '부드러운 질감을 가지고 있어 고기의 풍미를 자연스럽게 살려주는 와인입니다. 무겁지 않으면서도 적절한 바디감을 가지고 있어 누구나 부담 '\n",
      " '없이 즐길 수 있습니다.\\\\n어울리는 스테이크:\\\\n\\\\n등심 스테이크\\\\n미디엄 레어 스테이크\\\\n\\\\n추천 와인:\\\\n\\\\n보르도 '\n",
      " '우안 (생테밀리옹, 뽀므롤)\\\\n캘리포니아 메를로\"}, {\"url\": '\n",
      " '\"https://m.blog.naver.com/wineislikeacat/223096696241\", \"content\": \"등심 스테이크, '\n",
      " '채끝 스테이크와 어울리는 와인 품종은? 카베르네 소비뇽, 시라 등!\\\\n\\\\n등심은 소의 등뼈를 둘러싸고 있는 부위입니다.\\\\n육질이 '\n",
      " '연하고 지방이 많아서 두꺼운 스테이크 구이용으로 최적이죠.\\\\n채끝은 등뼈에서 허리를 감싸는 뼈로 내려오는 쪽의 살인데요,\\\\n마블링 '\n",
      " '러버들의 선택을 쉽사리 받는 부위입니다.\\\\n\\u200b\\\\n등심과 채끝 스테이크는 모두 풍미가 진하고 지방맛이 강하게 '\n",
      " '느껴지기에,\\\\n중간에서 높음 사이의 적당한 탄닌과 산도를 가진 와인을 선택하면\\\\n씹는 맛의 긴 여운 속 느끼함을 잡아줄 수 '\n",
      " '있습니다.\\\\n\\u200b\\\\n이에 맞는 레드와인으로는\\\\n카베르네 소비뇽(Carbernet Sauvignon), 시라(Syrah) '\n",
      " '품종을 추천드려요!\\\\n\\u200b\\\\n\\\\n안심 스테이크와 어울리는 와인\\\\n\\\\n안심 스테이크와 어울리는 와인 품종은? '\n",
      " '산지오베제!\"}]')\n"
     ]
    }
   ],
   "source": [
    "tool_message = web_search.batch(ai_msg.tool_calls)\n",
    "pprint(tool_message)\n",
    "print(\"-\" * 100)\n",
    "pprint(tool_message[0].content)"
   ]
  },
  {
   "cell_type": "code",
   "execution_count": 13,
   "id": "fcb4b5d7",
   "metadata": {},
   "outputs": [
    {
     "name": "stdout",
     "output_type": "stream",
     "text": [
      "ai_msg: \n",
      " content='' additional_kwargs={'tool_calls': [{'id': 'call_6E9L6RU4GzyJQF7OyC8EDf9T', 'function': {'arguments': '{\"query\":\"Moët & Chandon champagne price May 2025\"}', 'name': 'tavily_search_results_json'}, 'type': 'function'}], 'refusal': None} response_metadata={'token_usage': {'completion_tokens': 28, 'prompt_tokens': 114, 'total_tokens': 142, 'completion_tokens_details': {'accepted_prediction_tokens': 0, 'audio_tokens': 0, 'reasoning_tokens': 0, 'rejected_prediction_tokens': 0}, 'prompt_tokens_details': {'audio_tokens': 0, 'cached_tokens': 0}}, 'model_name': 'gpt-4o-mini-2024-07-18', 'system_fingerprint': 'fp_62a23a81ef', 'finish_reason': 'tool_calls', 'logprobs': None} id='run--6f250b36-be7c-46d3-ac00-96706520695d-0' tool_calls=[{'name': 'tavily_search_results_json', 'args': {'query': 'Moët & Chandon champagne price May 2025'}, 'id': 'call_6E9L6RU4GzyJQF7OyC8EDf9T', 'type': 'tool_call'}] usage_metadata={'input_tokens': 114, 'output_tokens': 28, 'total_tokens': 142}\n",
      "----------------------------------------------------------------------------------------------------\n",
      "tool_msgs: \n",
      " [ToolMessage(content='[{\"url\": \"https://www.wineandchampagnegifts.com/blog/moet-and-chandon-champagne-price-guide/?srsltid=AfmBOopGNF6ViJTE5uxYf6s_tXJgYijgT6aaHa1exXmAsr5lNQEUOSzn\", \"content\": \"So, if you’re considering wrapping your upcoming celebration in the effervescence of Moet & Chandon, you\\'ve got some real knack. However, it is essential to consider your budget and know the Moet champagne cost. On average, the cost of bottle of Moet Chandon is around $50–$60, with more meticulous expressions costing over $100. Surprisingly, one of the most expensive Moet & Chandon champagnes is NV Moet & Chandon Esprit Du Siècle Brut,  fetching around $6,161 per bottle. [...] Moet & Chandon champagnes are generally considered to be relatively expensive, with average Moet bottle price costing around $50 to $60 per bottle. However, for those seeking more meticulous and exclusive expressions that demand additional time and effort in their production, Moet champagne cost can soar to around or even exceed $100. [...] Champagne Style | Quantity (ml/L) | Moet Champagne Cost (USD)\\\\nMoet & Chandon Brut Half-Bottle | 375ml | $30 to $50\\\\nMoet & Chandon Brut Standard | 750ml | $60 to $80\\\\nMoet & Chandon Brut Magnum | 1.5L | $120 to $150\\\\nMoet & Chandon Brut Jeroboam | 3L | $350 to $450\\\\nMoet & Chandon Brut Methuselah | 6L | $1300 to $1400\\\\nMoet & Chandon Rosé  Half-Bottle | 375ml | $40 to $60\\\\nMoet & Chandon Rosé Standard | 750ml | $70 to $120\\\\nMoet & Chandon Rosé Magnum | 1.5L | $160 to $200\"}, {\"url\": \"https://www.marketviewliquor.com/product/moet-amp-chandon-grand-vintage-brut-champagne-750-ml?srsltid=AfmBOooU2oEvrsXJJPVoAxGz1-GwEMWPrdk8SY1_grE74fSOEefpvNej\", \"content\": \"Moet & Chandon Grand Vintage Brut Champagne / 750 ml. France 2015. $109.99 ... May 9, 2025 by Jane E. (United States). “Very east”. Merchant Choice. One of\"}]', name='tavily_search_results_json', tool_call_id='call_6E9L6RU4GzyJQF7OyC8EDf9T', artifact={'query': 'Moët & Chandon champagne price May 2025', 'follow_up_questions': None, 'answer': None, 'images': [], 'results': [{'url': 'https://www.wineandchampagnegifts.com/blog/moet-and-chandon-champagne-price-guide/?srsltid=AfmBOopGNF6ViJTE5uxYf6s_tXJgYijgT6aaHa1exXmAsr5lNQEUOSzn', 'title': 'Moet & Chandon Champagne Price Guide 2025', 'content': \"So, if you’re considering wrapping your upcoming celebration in the effervescence of Moet & Chandon, you've got some real knack. However, it is essential to consider your budget and know the Moet champagne cost. On average, the cost of bottle of Moet Chandon is around $50–$60, with more meticulous expressions costing over $100. Surprisingly, one of the most expensive Moet & Chandon champagnes is NV Moet & Chandon Esprit Du Siècle Brut,  fetching around $6,161 per bottle. [...] Moet & Chandon champagnes are generally considered to be relatively expensive, with average Moet bottle price costing around $50 to $60 per bottle. However, for those seeking more meticulous and exclusive expressions that demand additional time and effort in their production, Moet champagne cost can soar to around or even exceed $100. [...] Champagne Style | Quantity (ml/L) | Moet Champagne Cost (USD)\\nMoet & Chandon Brut Half-Bottle | 375ml | $30 to $50\\nMoet & Chandon Brut Standard | 750ml | $60 to $80\\nMoet & Chandon Brut Magnum | 1.5L | $120 to $150\\nMoet & Chandon Brut Jeroboam | 3L | $350 to $450\\nMoet & Chandon Brut Methuselah | 6L | $1300 to $1400\\nMoet & Chandon Rosé  Half-Bottle | 375ml | $40 to $60\\nMoet & Chandon Rosé Standard | 750ml | $70 to $120\\nMoet & Chandon Rosé Magnum | 1.5L | $160 to $200\", 'score': 0.9067276, 'raw_content': None}, {'url': 'https://www.marketviewliquor.com/product/moet-amp-chandon-grand-vintage-brut-champagne-750-ml?srsltid=AfmBOooU2oEvrsXJJPVoAxGz1-GwEMWPrdk8SY1_grE74fSOEefpvNej', 'title': 'Moet & Chandon Grand Vintage Brut Champagne / 750 ml', 'content': 'Moet & Chandon Grand Vintage Brut Champagne / 750 ml. France 2015. $109.99 ... May 9, 2025 by Jane E. (United States). “Very east”. Merchant Choice. One of', 'score': 0.90102744, 'raw_content': None}], 'response_time': 2.79})]\n",
      "----------------------------------------------------------------------------------------------------\n",
      "('현재 모엣샹동 샴페인의 가격은 다음과 같습니다:\\n'\n",
      " '\\n'\n",
      " '- **모엣샹동 브룻 (750ml)**: 약 $60에서 $80\\n'\n",
      " '- **모엣샹동 로제 (750ml)**: 약 $70에서 $120\\n'\n",
      " '- **모엣샹동 그랑 빈테이지 브룻 (750ml)**: 약 $109.99\\n'\n",
      " '\\n'\n",
      " '가격은 제품의 종류와 판매처에 따라 다를 수 있으니 참고하시기 바랍니다.')\n"
     ]
    }
   ],
   "source": [
    "from datetime import datetime\n",
    "from langchain_core.prompts import ChatPromptTemplate\n",
    "from langchain_core.runnables import RunnableConfig, chain\n",
    "\n",
    "today = datetime.today().strftime(\"%Y-%m-%d\")\n",
    "\n",
    "prompt = ChatPromptTemplate([\n",
    "    (\"system\", f\"You are a helpful AI assistant, Today's date is {today}\"),\n",
    "    (\"human\", \"{user_input}\"),\n",
    "    (\"placeholder\", \"{messages}\"),\n",
    "])\n",
    "\n",
    "llm = ChatOpenAI(model=\"gpt-4o-mini\")\n",
    "llm_with_tools = llm.bind_tools(tools=[web_search])\n",
    "\n",
    "llm_chain = prompt | llm_with_tools\n",
    "\n",
    "@chain\n",
    "def web_search_chain(user_input: str, config: RunnableConfig):\n",
    "    input_ = {\"user_input\": user_input}\n",
    "    ai_msg = llm_chain.invoke(input_, config=config)\n",
    "    print(\"ai_msg: \\n\", ai_msg)\n",
    "    print(\"-\" * 100)\n",
    "    tool_msgs = web_search.batch(ai_msg.tool_calls, config=config)\n",
    "    print(\"tool_msgs: \\n\", tool_msgs)\n",
    "    print(\"-\" * 100)\n",
    "    return llm_chain.invoke({**input_, \"messages\": [ai_msg, *tool_msgs]}, config=config)\n",
    "\n",
    "response = web_search_chain.invoke(\"오늘 모엣샹동 샴페인의 가격은 얼마인가요?\")\n",
    "\n",
    "pprint(response.content)\n"
   ]
  },
  {
   "cell_type": "code",
   "execution_count": 14,
   "id": "e798e667",
   "metadata": {},
   "outputs": [],
   "source": [
    "from langchain_community.tools import TavilySearchResults\n",
    "from langchain_core.tools import tool\n",
    "from typing import List\n",
    "\n",
    "@tool\n",
    "def search_web(query: str) -> List[str]:\n",
    "    \"\"\" tool 용도 기재 \"\"\"\n",
    "    tavily_search = TavilySearchResults(max_results=2)\n",
    "    docs = tavily_search.invoke(query)\n",
    "    formatted_docs = \"\\n---\\n\".join([\n",
    "        f'<Document href=\"{doc[\"url\"]}\"/>\\n{doc[\"content\"]}\\n</Document>'\n",
    "        for doc in docs\n",
    "    ])\n",
    "\n",
    "    if len(formatted_docs) > 0:\n",
    "        return formatted_docs\n",
    "    \n",
    "    return \"관련 정보를 찾을 수 없습니다.\""
   ]
  },
  {
   "cell_type": "code",
   "execution_count": 15,
   "id": "72dd8aa2",
   "metadata": {},
   "outputs": [
    {
     "name": "stdout",
     "output_type": "stream",
     "text": [
      "자료형: \n",
      "<class 'langchain_core.tools.structured.StructuredTool'>\n",
      "----------------------------------------------------------------------------------------------------\n",
      "name: \n",
      "search_web\n",
      "----------------------------------------------------------------------------------------------------\n",
      "description: \n",
      "'tool 용도 기재'\n",
      "----------------------------------------------------------------------------------------------------\n",
      "schema: \n",
      "{'description': 'tool 용도 기재 ',\n",
      " 'properties': {'query': {'title': 'Query', 'type': 'string'}},\n",
      " 'required': ['query'],\n",
      " 'title': 'search_web',\n",
      " 'type': 'object'}\n",
      "----------------------------------------------------------------------------------------------------\n"
     ]
    }
   ],
   "source": [
    "print# 도구 속성\n",
    "print(\"자료형: \")\n",
    "print(type(search_web))\n",
    "print(\"-\"*100)\n",
    "\n",
    "print(\"name: \")\n",
    "print(search_web.name)\n",
    "print(\"-\"*100)\n",
    "\n",
    "print(\"description: \")\n",
    "pprint(search_web.description)\n",
    "print(\"-\"*100)\n",
    "\n",
    "print(\"schema: \")\n",
    "pprint(search_web.args_schema.schema())\n",
    "print(\"-\"*100)"
   ]
  },
  {
   "cell_type": "code",
   "execution_count": 16,
   "id": "1500136d",
   "metadata": {},
   "outputs": [
    {
     "name": "stdout",
     "output_type": "stream",
     "text": [
      "<Document href=\"https://alcohol.hobby-tech.com/entry/%EC%8A%A4%ED%85%8C%EC%9D%B4%ED%81%AC%EC%99%80-%EC%B0%B0%EB%96%A1%EA%B6%81%ED%95%A9-%EC%8A%A4%ED%85%8C%EC%9D%B4%ED%81%AC%EC%97%90-%EC%96%B4%EC%9A%B8%EB%A6%AC%EB%8A%94-%EC%99%80%EC%9D%B8-5%EA%B0%80%EC%A7%80\"/>\n",
      "추천 이유:\n",
      "카베르네 소비뇽은 강한 탄닌과 풍부한 바디감이 특징인 레드 와인입니다. 이는 스테이크의 기름진 육즙과 균형을 이루며, 고기의 감칠맛을 더욱 살려줍니다.\n",
      "어울리는 스테이크:\n",
      "\n",
      "리브아이 스테이크\n",
      "뉴욕 스트립\n",
      "티본 스테이크\n",
      "\n",
      "추천 와인:\n",
      "\n",
      "나파 밸리 카베르네 소비뇽\n",
      "샤또 마고 (Château Margaux)\n",
      "\n",
      "카베르네 소비뇽은 특히 마블링이 많은 소고기 스테이크와 환상적인 조화를 이룹니다.\n",
      "\n",
      "2. 시라/쉬라즈 (Syrah/Shiraz) – 스파이시한 풍미가 매력적인 와인\n",
      "\n",
      "추천 이유:\n",
      "시라는 과일향이 강하면서도 스파이시한 풍미가 있어, 풍부한 육즙을 가진 스테이크와 잘 어울립니다. 특히 숯불에 구운 스테이크와 궁합이 좋습니다.\n",
      "어울리는 스테이크:\n",
      "\n",
      "바비큐 스테이크\n",
      "페퍼크러스트 스테이크\n",
      "\n",
      "추천 와인:\n",
      "\n",
      "프랑스 론 밸리 시라\n",
      "호주 쉬라즈 (펜폴즈 그랜지)\n",
      "\n",
      "시라는 그릴 자국이 남은 스모키한 스테이크와 환상적인 페어링을 보여줍니다. [...] 반응형\n",
      "• 1. 카베르네 소비뇽 (Cabernet Sauvignon) – 스테이크 와인의 대표주자\n",
      "• 2. 시라/쉬라즈 (Syrah/Shiraz) – 스파이시한 풍미가 매력적인 와인\n",
      "• 3. 말벡 (Malbec) – 풍부한 과일 향과 부드러운 탄닌\n",
      "• 4. 메를로 (Merlot) – 부드럽고 균형 잡힌 와인\n",
      "• 5. 진판델 (Zinfandel) – 달콤한 향과 강한 바디감\n",
      "• 어떤 와인을 선택해야 할까?\n",
      "스테이크를 제대로 즐기려면 와인 선택이 중요합니다. 고기의 종류와 조리법에 따라 어울리는 와인이 달라지는데요. 어떤 와인을 선택해야 풍미를 극대화할 수 있을까요? 오늘은 스테이크와 가장 잘 어울리는 와인 5가지를 소개합니다.\n",
      "\n",
      "1. 카베르네 소비뇽 (Cabernet Sauvignon) – 스테이크 와인의 대표주자 [...] 3. 말벡 (Malbec) – 풍부한 과일 향과 부드러운 탄닌\n",
      "\n",
      "추천 이유:\n",
      "말벡은 블랙베리와 자두 같은 과일향이 강하면서도 탄닌이 부드러운 레드 와인입니다. 고기와 함께 마시면 풍미가 더욱 살아나면서 균형 잡힌 조화를 이룹니다.\n",
      "어울리는 스테이크:\n",
      "\n",
      "안심 스테이크 (필레 미뇽)\n",
      "티본 스테이크\n",
      "\n",
      "추천 와인:\n",
      "\n",
      "아르헨티나 멘도사 말벡\n",
      "카호르 말벡 (프랑스)\n",
      "\n",
      "특히 부드러운 안심 스테이크와 함께 즐기면 와인의 깊은 과일향과 육즙이 환상적인 조화를 이룹니다.\n",
      "\n",
      "4. 메를로 (Merlot) – 부드럽고 균형 잡힌 와인\n",
      "\n",
      "추천 이유:\n",
      "메를로는 탄닌이 상대적으로 적고 부드러운 질감을 가지고 있어 고기의 풍미를 자연스럽게 살려주는 와인입니다. 무겁지 않으면서도 적절한 바디감을 가지고 있어 누구나 부담 없이 즐길 수 있습니다.\n",
      "어울리는 스테이크:\n",
      "\n",
      "등심 스테이크\n",
      "미디엄 레어 스테이크\n",
      "\n",
      "추천 와인:\n",
      "\n",
      "보르도 우안 (생테밀리옹, 뽀므롤)\n",
      "캘리포니아 메를로\n",
      "</Document>\n",
      "---\n",
      "<Document href=\"https://m.blog.naver.com/wineislikeacat/223096696241\"/>\n",
      "등심 스테이크, 채끝 스테이크와 어울리는 와인 품종은? 카베르네 소비뇽, 시라 등!\n",
      "\n",
      "등심은 소의 등뼈를 둘러싸고 있는 부위입니다.\n",
      "육질이 연하고 지방이 많아서 두꺼운 스테이크 구이용으로 최적이죠.\n",
      "채끝은 등뼈에서 허리를 감싸는 뼈로 내려오는 쪽의 살인데요,\n",
      "마블링 러버들의 선택을 쉽사리 받는 부위입니다.\n",
      "​\n",
      "등심과 채끝 스테이크는 모두 풍미가 진하고 지방맛이 강하게 느껴지기에,\n",
      "중간에서 높음 사이의 적당한 탄닌과 산도를 가진 와인을 선택하면\n",
      "씹는 맛의 긴 여운 속 느끼함을 잡아줄 수 있습니다.\n",
      "​\n",
      "이에 맞는 레드와인으로는\n",
      "카베르네 소비뇽(Carbernet Sauvignon), 시라(Syrah) 품종을 추천드려요!\n",
      "​\n",
      "\n",
      "안심 스테이크와 어울리는 와인\n",
      "\n",
      "안심 스테이크와 어울리는 와인 품종은? 산지오베제!\n",
      "</Document>\n"
     ]
    }
   ],
   "source": [
    "query = \"스테이크와 어울리는 와인을 추천해주세요.\"\n",
    "search_results = search_web.invoke(query)\n",
    "\n",
    "print(search_results)"
   ]
  },
  {
   "cell_type": "code",
   "execution_count": 17,
   "id": "ef8515c0",
   "metadata": {},
   "outputs": [
    {
     "name": "stdout",
     "output_type": "stream",
     "text": [
      "AIMessage(content='', additional_kwargs={'tool_calls': [{'id': 'call_1I6oSWo8yZvQk9LrpDLWrMWu', 'function': {'arguments': '{\"query\":\"스테이크와 어울리는 와인 추천\"}', 'name': 'search_web'}, 'type': 'function'}], 'refusal': None}, response_metadata={'token_usage': {'completion_tokens': 23, 'prompt_tokens': 55, 'total_tokens': 78, 'completion_tokens_details': {'accepted_prediction_tokens': 0, 'audio_tokens': 0, 'reasoning_tokens': 0, 'rejected_prediction_tokens': 0}, 'prompt_tokens_details': {'audio_tokens': 0, 'cached_tokens': 0}}, 'model_name': 'gpt-4o-mini-2024-07-18', 'system_fingerprint': 'fp_54eb4bd693', 'finish_reason': 'tool_calls', 'logprobs': None}, id='run--200d0565-8448-4317-a57b-1be1a405a54e-0', tool_calls=[{'name': 'search_web', 'args': {'query': '스테이크와 어울리는 와인 추천'}, 'id': 'call_1I6oSWo8yZvQk9LrpDLWrMWu', 'type': 'tool_call'}], usage_metadata={'input_tokens': 55, 'output_tokens': 23, 'total_tokens': 78})\n",
      "----------------------------------------------------------------------------------------------------\n",
      "''\n",
      "----------------------------------------------------------------------------------------------------\n",
      "[{'args': {'query': '스테이크와 어울리는 와인 추천'},\n",
      "  'id': 'call_1I6oSWo8yZvQk9LrpDLWrMWu',\n",
      "  'name': 'search_web',\n",
      "  'type': 'tool_call'}]\n",
      "----------------------------------------------------------------------------------------------------\n"
     ]
    }
   ],
   "source": [
    "llm_with_tools = llm.bind_tools(tools=[search_web])\n",
    "query = \"스테이크와 어울리는 와인을 추천해주세요.\"\n",
    "ai_msg = llm_with_tools.invoke(query)\n",
    "\n",
    "# LLM의 전체 출력 결과 출력\n",
    "pprint(ai_msg)\n",
    "print(\"-\" * 100)\n",
    "\n",
    "# 메시지 content 속성 (텍스트 출력)\n",
    "pprint(ai_msg.content)\n",
    "print(\"-\" * 100)\n",
    "\n",
    "# LLM이 호출한 도구 정보 출력\n",
    "pprint(ai_msg.tool_calls)\n",
    "print(\"-\" * 100)\n"
   ]
  },
  {
   "cell_type": "code",
   "execution_count": 18,
   "id": "a7fb5c2d",
   "metadata": {},
   "outputs": [
    {
     "name": "stderr",
     "output_type": "stream",
     "text": [
      "C:\\Users\\12wkd\\AppData\\Local\\Temp\\ipykernel_38268\\1538975992.py:19: LangChainBetaWarning: This API is in beta and may change in the future.\n",
      "  wiki_search = runnable.as_tool(\n"
     ]
    }
   ],
   "source": [
    "from langchain_community.document_loaders import WikipediaLoader\n",
    "from langchain_core.documents import Document\n",
    "from langchain_core.runnables import RunnableLambda\n",
    "from pydantic import BaseModel, Field\n",
    "from typing import List\n",
    "\n",
    "def search_wiki(input_data: dict) -> List[Document]:\n",
    "    query = input_data[\"query\"]\n",
    "    k = input_data.get(\"k\", 2)\n",
    "    wiki_loader = WikipediaLoader(query=query, load_max_docs=k, lang=\"ko\")\n",
    "    wiki_docs = wiki_loader.load()\n",
    "    return wiki_docs\n",
    "\n",
    "class WikiSearchSchema(BaseModel):\n",
    "    query: str = Field(..., description=\"The query to search for in Wikipedia\")\n",
    "    k: int = Field(2, description=\"The number of documentts to return\")\n",
    "\n",
    "runnable = RunnableLambda(search_wiki)\n",
    "wiki_search = runnable.as_tool(\n",
    "    name=\"wiki_search\",\n",
    "    description=dedent(\"\"\"\n",
    "    Hello\n",
    "\"\"\"),  \n",
    "    args_schema=WikiSearchSchema\n",
    ")"
   ]
  },
  {
   "cell_type": "code",
   "execution_count": 19,
   "id": "3aaafe40",
   "metadata": {},
   "outputs": [
    {
     "name": "stdout",
     "output_type": "stream",
     "text": [
      "page_content='이탈리아 요리(Italia 料理, 이탈리아어: cucina italiana 쿠치나 이탈리아나[*])는 남유럽에 있는 이탈리아의 요리이다. 기원전 4세기부터 다양한 사회·정치 변화와 함께 발전해 왔다. 특히 유럽인들이 세계 각지로 진출한 이후 신대륙에서 감자, 토마토, 단고추, 옥수수 등의 다양한 식재료가 유입되면서 이탈리아 요리는 큰 변화를 겪었다. 이런 재료는 18세기 이전까지는 보급되지 않았다.\n",
      "이탈리아 요리는 각 지역마다 고유한 특색이 있고 다양하지만 크게 북부와 남부로 구분한다. 다른 나라와 국경을 맞대던 북부는 산업화하여 호황을 누리면서 농업이 발달한 덕분에 쌀이나 유제품이 사용되는 요리가 많지만 경제적으로 침체됐던 남부는 지역 특산물인 올리브와 토마토, 모짜렐라 치즈나 해산물을 활용한 요리가 많다.\n",
      "간결함으로 귀결되는 특징이 있어 많은 경우 4개~8개 정도의 재료로 조리되며 정교한 준비 과정보다는 재료의 질에 따라 맛이 좌우된다. 치즈와 포도주는 이탈리아 요리의 핵심을 차지하며 여러 종류가 존재하는데 식재료와 치즈의 차이는 파스타의 종류와 요리에 기본이 되는 수프, 소스의 차이를 뜻한다.\n",
      "2013년 CNN은 세계 최고의 요리로 이탈리아 요리를 선정했다.\n",
      "\n",
      "\n",
      "== 역사 ==\n",
      "대략 기원전 4세기부터 시작되었다고 여겨진다. 여러 세기 동안 주변 지역과 정복자, 유명한 요리사, 정치 변동 및 신대륙의 발견 등 매우 다양한 요소가 이탈리아 요리의 형성에 영향을 끼쳤다.\n",
      "\n",
      "\n",
      "=== 고대 ===\n",
      "이탈리아 요리에 대해 최초의 저술을 남긴 사람은 그리스계 시칠리아 사람인 아케스트라투스이다. 기원전 4세기에 지금의 시라쿠사 지역에 살던 그는 “계절에 맞는 최상의 재료”를 사용하는 것에 대한 시를 남겼다. 그는 또한 향신료나 허브, 양념 따위를 사용한 음식과 그 중요성, 생선 요리 등에 대해 서술했다. 특정 양념이나 향신료가 지나쳐서는 안 된다는 것 또한 집필 내용에 포함됐지만 470가지의 요리법을 담은 책인 《데 레 코퀴나리아》(De re coquinaria《요리에 관하여》)를 출판하면서 이런 형태의 요리는 역사 속으로 사라졌다. 이 책은 생선의 비린내나 특정 재료의 맛을 숨기면서 다른 맛을 낼 수 있는 소스에 대해서 서술해 놓았다. 로마 사람들은 그리스 최고의 제빵사를 고용해서 빵을 만들었고 가장 뛰어난 재료로 알려져 있던 페코리니(pecorini)를 시칠리아에서 수입해 왔다고 한다. 로마인은 염소를 사육해 육식을 함과 동시에 여러 가지 식물도 재배한 것으로 알려져 있다.\n",
      "\n",
      "\n",
      "=== 중세 ===\n",
      "시칠리아 지방으로 로마와 아테네의 요리 문화가 유입됐고 섬 지형에 맞게 변형되고 다시 새로운 요리로 탈바꿈하게 됐다. 이탈리아 요리의 뿌리가 시칠리아에 기원한다고 볼 수 있는 셈이다.\n",
      "\n",
      "무슬림이 9세기까지 시칠리아를 침략하여 다스렸고 그 뒤에는 바이킹 세력이 남하하여 지중해 일대는 상당한 혼란기를 겪었다. 아랍인들은 시금치, 아몬드, 쌀 등을 도입했으며, 이러한 재료의 출현은 12세기 노르웨이의 왕이 시칠리아에 왔을 때 사람들이 기다란 면발을 만들어 먹었다는 것을 보았다고 기록한 것을 토대로 알 수 있다. 이 요리를 일부에서는 파스타의 첫 출현이라고 보고 있다. 당시에는 면을 단순히 밀가루와 물로 만들었다고 하는데, 사람들이 “아트리야”(atriya)라고 불렀다가 나중에는 “트리”(trii)로 굳어졌다고 한다. 트리(Trii)라는 이 낱말은 남부 이탈리아에서 스파게티의 다른 이름으로 쓰이기도 했다. 노르만 족들은 청어나 대구 따위를 절여 먹는 법도 들여왔으며, 이 방법은 아직까지도 이탈리아에서 사용되고 있다.\n",
      "냉장고가 없던 시절에 음식 저장법은 매우 중요했으며, 그 방법은 물리적이면서 화학적이기도 했다. 육류나 생선은 훈제하거나 얼음 위에 보관했고 아니면 건조시켰다. 소금물이나 소금에 식재료를 절여 두는 것은 청어나 돼지고기, 피클 따위를 보관하는 방법으로 유용하게 쓰였으며, 식초나 기름 등을 함께 넣어 동물성 단백질이 변질되지 않도록 했는데, 이는 지금의 방부제와 유사한 효과를 냈다. 과일 보관에는 술이나 꿀, 설탕이 쓰였다.\n",
      "\n",
      "이탈리아 반도 북부 지방에서는 독일 요리의 특징과 고대 로마식 요리의 특징이 서로 겹치는 현상이 나타났으며, 남쪽에는 아랍 문화에 토대한 식사 형태가 뿌리내려 지중해 일대로 널리 퍼져 갔다. 가장 오래된 이탈리아의 요리책은 13세기 나폴리에서 집필됐다고 전해지는 《리베르 데 코퀴나》(Liber de Coquina)로서 한국어로는 말 그대로 《요리책》이다. 이 책에는 로마식 배추 요리나 작은 잎을 잘라서 요리한 음식인 라바냐 파이(Lavagna pie)를 비롯해서 지금도 볼 수 있는 생선 요리도 많이 소개되어 있다.\n",
      "15세기에는 바티칸의 요리사로 근무한 마르티노가 《리브로 데 아르테 코퀴나리아》(Libro de Arte Coquinaria, 《요리법》)라는 원고를 써서 그때까지 소개된 책과는 아주 다른 고품격 음식을 다루었다. 그 중 한 가지는 “마카로니 시칠리아니”(Maccaroni Siciliani, 시실리풍 마카로니)인데 얇은 철제 기구에 밀가루 반죽을 덮어서 햇빛에 말려 먹는 요리였다. 주재료인 마카로니는 갓 잡은 수탉과 함께 요리하였고 사프란을 첨가했다. 그는 이 요리가 아랍 문화의 영향을 받았다고 적어 놓았다. 로마인의 요리법으로 포함된 것 중에는 양배추로 요리한 음식과 “코피에테”(coppiette)가 있었다. 그가 선보인 피렌체 풍 음식으로는 달걀로 요리한 볼로네즈 토르타(Bolognese Torta, 볼로냐풍 케이크)와 시에니즈 토르타(Sienese torta, 시에나풍 케이크)가 있었는데 제노바 풍 마카로니 요리, 호박, 버섯, 시금치를 이용해 만들었던 파이 등도 함께 다뤘다.\n",
      "마르티노의 요리는 1475년 베네치아에서 바르톨로미오 플라티나가 출판한 《참된 즐거움과 건강에 대하여》(De honesta voluptate et valetudine)에도 소개되었다. 마르티노의 원고를 참고해서 지역에 따라 분류하고 정리했으며, 마조레 호수의 농어나 가르다 호수의 정어리 등 인근에서 가져다가 사용한 식재료와 해당 음식을 자세히 설명하였다.\n",
      "\n",
      "\n",
      "=== 근대 초 ===\n",
      "이탈리아의 정통 요리는 피렌체와 로마, 베네치아, 페라라의 궁중에서 요리 문화가 꽃피운 이후 본격화하였다. 그중에서도 페라라의 에스테 궁전이 요리 문화의 선두 주자가 됐다. 1549년 이폴리토 데스테의 집사였던 크리스토포로 메시스부고(Christoforo Messisbugo)가 《Banchetti Composizioni di Vivande》를 출판하면서 이탈리아의 파이나 타르트를 소개했다. 그 책에서는 동양이나 동부 지방에서 유입된 재료, 124종의 다양한 양념에 대해서도 설명해 놓았다.\n",
      "\n",
      "1570년 교황 비오 5세의 개인 요리사였던 바르톨미오 스카피가 책 《오페라》(Opera)를 써냈다. 다섯 권으로 구성된 이 책은 요리하는 방법을 천 가지 이상 설명해 놓았을 뿐만 아니라 정찬에서 어떤 형태로 음식이 나가고 식단이 결정됐는지, 조리 기구나 요리하는 모습도 상세히 다뤘다. 다른 궁중에서 전해졌던 책과 이 책이 특별히 다른 점은 가금류를 요리하는 법이다. 인근의 동물이나 새를 잡아서 어떤 식으로 다듬고 깨끗하게 잘라내는지가 나와 있다. 혀나 머리, 어깨뼈 부위를 손질하는 방법도 다뤘다. 제3권에서는 생선이나 사순절에 먹는 음식을 설명했다. 생선 요리는 구워 먹거나 탕류, 찜으로 먹었으므로 상당히 간단했다. 제5권에서는 나폴리풍 피자 요리법이 등장하는데 당시 이탈리아에는 토마토가 존재하지 않았으므로 피자가 지금의 맛이 아니라 달거나 짭짜름한 맛이었다. 옥수수나 칠면조 역시 없었으므로 현대인이 생각하는 음식 문화와는 상당히 달랐다. 이외에 타라트나 파이, 얇게 썬 과일 튀김에 대해서도 썼다.\n",
      "1600년대 잔자코모 카스텔베트로(Giangiacomo Castelvetro)는 《모든 종류의 채소와 허브, 과일》(Brieve Racconto di Tutte le Radici di Tutte l'Herbe et di Tutti i Frutti)이라는 책을 썼다. 모데나 태생인 카스텔베르트로는 개신교도였기에 영국으로 건너갔다. 이 책은 이탈리아의 채소와 과일,' metadata={'title': '이탈리아 요리', 'summary': '이탈리아 요리(Italia 料理, 이탈리아어: cucina italiana 쿠치나 이탈리아나[*])는 남유럽에 있는 이탈리아의 요리이다. 기원전 4세기부터 다양한 사회·정치 변화와 함께 발전해 왔다. 특히 유럽인들이 세계 각지로 진출한 이후 신대륙에서 감자, 토마토, 단고추, 옥수수 등의 다양한 식재료가 유입되면서 이탈리아 요리는 큰 변화를 겪었다. 이런 재료는 18세기 이전까지는 보급되지 않았다.\\n이탈리아 요리는 각 지역마다 고유한 특색이 있고 다양하지만 크게 북부와 남부로 구분한다. 다른 나라와 국경을 맞대던 북부는 산업화하여 호황을 누리면서 농업이 발달한 덕분에 쌀이나 유제품이 사용되는 요리가 많지만 경제적으로 침체됐던 남부는 지역 특산물인 올리브와 토마토, 모짜렐라 치즈나 해산물을 활용한 요리가 많다.\\n간결함으로 귀결되는 특징이 있어 많은 경우 4개~8개 정도의 재료로 조리되며 정교한 준비 과정보다는 재료의 질에 따라 맛이 좌우된다. 치즈와 포도주는 이탈리아 요리의 핵심을 차지하며 여러 종류가 존재하는데 식재료와 치즈의 차이는 파스타의 종류와 요리에 기본이 되는 수프, 소스의 차이를 뜻한다.\\n2013년 CNN은 세계 최고의 요리로 이탈리아 요리를 선정했다.\\n\\n', 'source': 'https://ko.wikipedia.org/wiki/%EC%9D%B4%ED%83%88%EB%A6%AC%EC%95%84_%EC%9A%94%EB%A6%AC'}\n",
      "----------------------------------------------------------------------------------------------------\n",
      "page_content='오르조(이탈리아어: orzo) 또는 리소니(이탈리아어: risoni, 단수: risone 리소네[*])는 이탈리아의 파스타이다. \"오르조\"는 라틴어:hordeum에서 유래했으며 \"보리\"를 뜻한다. \"리소니\"는 \"큰 쌀\"이라는 뜻이다. 파스타의 일종으로 큰 쌀알의 모양을 하고 있으며 솔방울이나 잣보다는 좀 더 작다. 보통 라구 등 수프와 함께 먹는다. 원래는 보리로 만들었지만 요즘에는 박력분으로 만드는 것이 흔해졌다. 다른 이름으로는 kritharáki (\"little barley\") 혹은 manéstra(그리스 요리)로 부르며, lisān al-`uṣfūr (\"명금의 혀\")라고 아랍 요리에서 불린다. 오르조를 두고 이탈리아의 쌀이라고 부르기도 한다.\n",
      "터키에서는 아르파 셰흐리예(arpa şehriye)로 불리며, 셰흐리예의 하나이다. 필라브를 만들거나 초르바(수프)에 넣어 먹는다.\n",
      "\n",
      "\n",
      "== 같이 보기 ==\n",
      "파스티나\n",
      "셰흐리예\n",
      "\n",
      "\n",
      "== 각주 ==' metadata={'title': '오르조', 'summary': '오르조(이탈리아어: orzo) 또는 리소니(이탈리아어: risoni, 단수: risone 리소네[*])는 이탈리아의 파스타이다. \"오르조\"는 라틴어:hordeum에서 유래했으며 \"보리\"를 뜻한다. \"리소니\"는 \"큰 쌀\"이라는 뜻이다. 파스타의 일종으로 큰 쌀알의 모양을 하고 있으며 솔방울이나 잣보다는 좀 더 작다. 보통 라구 등 수프와 함께 먹는다. 원래는 보리로 만들었지만 요즘에는 박력분으로 만드는 것이 흔해졌다. 다른 이름으로는 kritharáki (\"little barley\") 혹은 manéstra(그리스 요리)로 부르며, lisān al-`uṣfūr (\"명금의 혀\")라고 아랍 요리에서 불린다. 오르조를 두고 이탈리아의 쌀이라고 부르기도 한다.\\n터키에서는 아르파 셰흐리예(arpa şehriye)로 불리며, 셰흐리예의 하나이다. 필라브를 만들거나 초르바(수프)에 넣어 먹는다.\\n\\n', 'source': 'https://ko.wikipedia.org/wiki/%EC%98%A4%EB%A5%B4%EC%A1%B0'}\n",
      "----------------------------------------------------------------------------------------------------\n"
     ]
    }
   ],
   "source": [
    "query = \"파스타의 유래\"\n",
    "wiki_results = wiki_search.invoke({\"query\":query})\n",
    "\n",
    "for result in wiki_results:\n",
    "    print(result)\n",
    "    print(\"-\"*100)"
   ]
  },
  {
   "cell_type": "code",
   "execution_count": 20,
   "id": "043ed961",
   "metadata": {},
   "outputs": [
    {
     "name": "stdout",
     "output_type": "stream",
     "text": [
      "AIMessage(content='', additional_kwargs={'tool_calls': [{'id': 'call_TgNE1MWHDSi2TT2EJhnAGvYf', 'function': {'arguments': '{\"query\": \"서울 강남 파스타 맛집 추천\"}', 'name': 'search_web'}, 'type': 'function'}, {'id': 'call_bJs5yide2vmyGmeOmqhhcubY', 'function': {'arguments': '{\"query\": \"파스타\"}', 'name': 'wiki_search'}, 'type': 'function'}], 'refusal': None}, response_metadata={'token_usage': {'completion_tokens': 53, 'prompt_tokens': 112, 'total_tokens': 165, 'completion_tokens_details': {'accepted_prediction_tokens': 0, 'audio_tokens': 0, 'reasoning_tokens': 0, 'rejected_prediction_tokens': 0}, 'prompt_tokens_details': {'audio_tokens': 0, 'cached_tokens': 0}}, 'model_name': 'gpt-4o-mini-2024-07-18', 'system_fingerprint': 'fp_54eb4bd693', 'finish_reason': 'tool_calls', 'logprobs': None}, id='run--983e0bcd-e7d0-4a5e-b1ac-42af9f2e83ce-0', tool_calls=[{'name': 'search_web', 'args': {'query': '서울 강남 파스타 맛집 추천'}, 'id': 'call_TgNE1MWHDSi2TT2EJhnAGvYf', 'type': 'tool_call'}, {'name': 'wiki_search', 'args': {'query': '파스타'}, 'id': 'call_bJs5yide2vmyGmeOmqhhcubY', 'type': 'tool_call'}], usage_metadata={'input_tokens': 112, 'output_tokens': 53, 'total_tokens': 165})\n",
      "----------------------------------------------------------------------------------------------------\n",
      "''\n",
      "----------------------------------------------------------------------------------------------------\n",
      "[{'args': {'query': '서울 강남 파스타 맛집 추천'},\n",
      "  'id': 'call_TgNE1MWHDSi2TT2EJhnAGvYf',\n",
      "  'name': 'search_web',\n",
      "  'type': 'tool_call'},\n",
      " {'args': {'query': '파스타'},\n",
      "  'id': 'call_bJs5yide2vmyGmeOmqhhcubY',\n",
      "  'name': 'wiki_search',\n",
      "  'type': 'tool_call'}]\n",
      "----------------------------------------------------------------------------------------------------\n"
     ]
    }
   ],
   "source": [
    "llm_with_tools = llm.bind_tools(tools=[search_web, wiki_search])\n",
    "query = \"서울 강남의 유명한 파스타 맛집은 어디인가요? 그리고 파스타의 유래를 알려주세요. \"\n",
    "ai_msg = llm_with_tools.invoke(query)\n",
    "\n",
    "pprint(ai_msg)\n",
    "print(\"-\" * 100)\n",
    "\n",
    "pprint(ai_msg.content)\n",
    "print(\"-\" * 100)\n",
    "\n",
    "pprint(ai_msg.tool_calls)\n",
    "print(\"-\" * 100)"
   ]
  },
  {
   "cell_type": "code",
   "execution_count": 21,
   "id": "86044367",
   "metadata": {},
   "outputs": [
    {
     "name": "stdout",
     "output_type": "stream",
     "text": [
      "('이탈리아 요리(쿠치나 이탈리아나)는 기원전 4세기부터 발전해온 남유럽의 요리로, 지역마다 고유한 특색이 있으며 북부는 쌀과 유제품, '\n",
      " '남부는 올리브와 해산물을 주로 사용한다. 이 요리는 간결함을 특징으로 하며, 재료의 질이 맛에 큰 영향을 미친다. CNN은 2013년에 '\n",
      " '이탈리아 요리를 세계 최고의 요리로 선정했다. 역사적으로, 이탈리아 요리는 고대 그리스와 로마의 영향을 받았고, 중세에는 아랍 문화와의 '\n",
      " '접촉으로 변화가 있었다. 근대에는 궁중 요리 문화가 발전하며 다양한 요리책이 출판되었다. 오르조(리소니)는 이탈리아의 파스타로, 보리에서 '\n",
      " '유래했으며 수프와 함께 먹는다.')\n"
     ]
    }
   ],
   "source": [
    "from langchain_core.prompts import ChatPromptTemplate\n",
    "from langchain_core.output_parsers import StrOutputParser\n",
    "from langchain_core.runnables import RunnableLambda\n",
    "from langchain_community.document_loaders import WikipediaLoader\n",
    "from operator import itemgetter\n",
    "\n",
    "def wiki_search_and_summarize(input_data : dict):\n",
    "    wiki_loader = WikipediaLoader(query=input_data[\"query\"], load_max_docs=2, lang=\"ko\")\n",
    "    wiki_docs = wiki_loader.load()\n",
    "\n",
    "    formatted_docs = [\n",
    "        f'<Documnet source=\"{doc.metadata[\"source\"]}\"/>\\n{doc.page_content}\\n</Document>'\n",
    "        for doc in wiki_docs\n",
    "    ]\n",
    "\n",
    "    return formatted_docs\n",
    "\n",
    "summary_prompt = ChatPromptTemplate.from_template(\n",
    "    \"Summarize the following text in a concise manner:\\n\\n{context}\\n\\nSummary:\"\n",
    ")\n",
    "\n",
    "llm = ChatOpenAI(model=\"gpt-4o-mini\", temperature=0)\n",
    "summary_chain = (\n",
    "    {\"context\":RunnableLambda(wiki_search_and_summarize)}\n",
    "    | summary_prompt | llm | StrOutputParser()\n",
    ")\n",
    "\n",
    "summarize_text = summary_chain.invoke({\"query\":\"파스타의 유래\"})\n",
    "pprint(summarize_text)"
   ]
  },
  {
   "cell_type": "code",
   "execution_count": 22,
   "id": "5c9a9fef",
   "metadata": {},
   "outputs": [
    {
     "name": "stdout",
     "output_type": "stream",
     "text": [
      "자료형: \n",
      "<class 'langchain_core.tools.structured.StructuredTool'>\n",
      "----------------------------------------------------------------------------------------------------\n",
      "name: \n",
      "wiki_summary\n",
      "----------------------------------------------------------------------------------------------------\n",
      "description: \n",
      "('Use this tool when you need to search for information on Wikipedia.\\n'\n",
      " \"It searches for Wikipedia articles related to the user's query and returns\\n\"\n",
      " 'a summarized text. This tool is useful when general knowledge\\n'\n",
      " 'or background information is required.')\n",
      "----------------------------------------------------------------------------------------------------\n",
      "schema: \n",
      "{'properties': {'query': {'description': 'The query to search for in wikipedia',\n",
      "                          'title': 'Query',\n",
      "                          'type': 'string'}},\n",
      " 'required': ['query'],\n",
      " 'title': 'WikiSummarySchema',\n",
      " 'type': 'object'}\n",
      "----------------------------------------------------------------------------------------------------\n"
     ]
    }
   ],
   "source": [
    "class WikiSummarySchema(BaseModel):\n",
    "    query: str = Field(...,description=\"The query to search for in wikipedia\")\n",
    "\n",
    "wiki_summary = summary_chain.as_tool( \n",
    "    name=\"wiki_summary\",\n",
    "    description=dedent(\"\"\"\n",
    "        Use this tool when you need to search for information on Wikipedia.\n",
    "        It searches for Wikipedia articles related to the user's query and returns\n",
    "        a summarized text. This tool is useful when general knowledge\n",
    "        or background information is required.\n",
    "    \"\"\"),\n",
    "    args_schema=WikiSummarySchema\n",
    ")\n",
    "\n",
    "print(\"자료형: \")\n",
    "print(type(wiki_summary))\n",
    "print(\"-\" * 100)\n",
    "\n",
    "print(\"name: \")\n",
    "print(wiki_summary.name)\n",
    "print(\"-\"*100)\n",
    "\n",
    "print(\"description: \")\n",
    "pprint(wiki_summary.description)\n",
    "print(\"-\"*100)\n",
    "\n",
    "print(\"schema: \")\n",
    "pprint(wiki_summary.args_schema.schema())\n",
    "print(\"-\"*100)"
   ]
  },
  {
   "cell_type": "code",
   "execution_count": 23,
   "id": "0e1952fd",
   "metadata": {},
   "outputs": [
    {
     "name": "stdout",
     "output_type": "stream",
     "text": [
      "AIMessage(content='', additional_kwargs={'tool_calls': [{'id': 'call_4vUNoz8IPM8x6qGnag01qAOE', 'function': {'arguments': '{\"query\": \"서울 강남 파스타 맛집\"}', 'name': 'search_web'}, 'type': 'function'}, {'id': 'call_2Kz0ARld12xERaM6PHfyDZCK', 'function': {'arguments': '{\"query\": \"파스타\"}', 'name': 'wiki_summary'}, 'type': 'function'}], 'refusal': None}, response_metadata={'token_usage': {'completion_tokens': 52, 'prompt_tokens': 136, 'total_tokens': 188, 'completion_tokens_details': {'accepted_prediction_tokens': 0, 'audio_tokens': 0, 'reasoning_tokens': 0, 'rejected_prediction_tokens': 0}, 'prompt_tokens_details': {'audio_tokens': 0, 'cached_tokens': 0}}, 'model_name': 'gpt-4o-mini-2024-07-18', 'system_fingerprint': 'fp_54eb4bd693', 'finish_reason': 'tool_calls', 'logprobs': None}, id='run--31fbba3c-1868-4967-bd50-905cbd15b156-0', tool_calls=[{'name': 'search_web', 'args': {'query': '서울 강남 파스타 맛집'}, 'id': 'call_4vUNoz8IPM8x6qGnag01qAOE', 'type': 'tool_call'}, {'name': 'wiki_summary', 'args': {'query': '파스타'}, 'id': 'call_2Kz0ARld12xERaM6PHfyDZCK', 'type': 'tool_call'}], usage_metadata={'input_tokens': 136, 'output_tokens': 52, 'total_tokens': 188})\n",
      "----------------------------------------------------------------------------------------------------\n",
      "''\n",
      "----------------------------------------------------------------------------------------------------\n",
      "[{'args': {'query': '서울 강남 파스타 맛집'},\n",
      "  'id': 'call_4vUNoz8IPM8x6qGnag01qAOE',\n",
      "  'name': 'search_web',\n",
      "  'type': 'tool_call'},\n",
      " {'args': {'query': '파스타'},\n",
      "  'id': 'call_2Kz0ARld12xERaM6PHfyDZCK',\n",
      "  'name': 'wiki_summary',\n",
      "  'type': 'tool_call'}]\n",
      "----------------------------------------------------------------------------------------------------\n"
     ]
    }
   ],
   "source": [
    "llm_with_tools = llm.bind_tools(tools=[search_web, wiki_summary])\n",
    "query = \"서울 강남의 유명한 파스타 맛집은 어디인가요? 그리고 파스타의 유래를 알려주세요\"\n",
    "ai_msg = llm_with_tools.invoke(query)\n",
    "\n",
    "pprint(ai_msg)\n",
    "print(\"-\" * 100)\n",
    "\n",
    "pprint(ai_msg.content)\n",
    "print(\"-\" * 100)\n",
    "\n",
    "pprint(ai_msg.tool_calls)\n",
    "print(\"-\" * 100)"
   ]
  },
  {
   "cell_type": "code",
   "execution_count": 24,
   "id": "c35af457",
   "metadata": {},
   "outputs": [
    {
     "data": {
      "text/plain": [
       "{'name': 'wiki_summary',\n",
       " 'args': {'query': '파스타'},\n",
       " 'id': 'call_2Kz0ARld12xERaM6PHfyDZCK',\n",
       " 'type': 'tool_call'}"
      ]
     },
     "execution_count": 24,
     "metadata": {},
     "output_type": "execute_result"
    }
   ],
   "source": [
    "ai_msg.tool_calls[1]"
   ]
  },
  {
   "cell_type": "code",
   "execution_count": 25,
   "id": "40b09fef",
   "metadata": {},
   "outputs": [
    {
     "name": "stdout",
     "output_type": "stream",
     "text": [
      "content='파스타는 이탈리아의 주요 밀 식품으로, 듀럼밀 세몰라와 물 또는 밀가루와 달걀로 만들어지며, 삶거나 구워서 먹는다. 이탈리아의 국민 음식으로 여겨지며, 역사적으로 그리스와 아랍 문화의 영향을 받았다. 파스타는 건파스타와 생파스타로 나뉘며, 다양한 형태와 종류가 존재한다. 요리 방법으로는 삶거나 오븐에 구워내는 방식이 있다. 투움바 파스타는 미국의 아웃백 스테이크하우스에서 유래된 요리로, 매콤한 크림 소스를 사용하며 한국에서 인기를 끌고 있다.' name='wiki_summary' tool_call_id='call_2Kz0ARld12xERaM6PHfyDZCK'\n",
      "----------------------------------------------------------------------------------------------------\n",
      "('파스타는 이탈리아의 주요 밀 식품으로, 듀럼밀 세몰라와 물 또는 밀가루와 달걀로 만들어지며, 삶거나 구워서 먹는다. 이탈리아의 국민 '\n",
      " '음식으로 여겨지며, 역사적으로 그리스와 아랍 문화의 영향을 받았다. 파스타는 건파스타와 생파스타로 나뉘며, 다양한 형태와 종류가 '\n",
      " '존재한다. 요리 방법으로는 삶거나 오븐에 구워내는 방식이 있다. 투움바 파스타는 미국의 아웃백 스테이크하우스에서 유래된 요리로, 매콤한 '\n",
      " '크림 소스를 사용하며 한국에서 인기를 끌고 있다.')\n"
     ]
    }
   ],
   "source": [
    "tool_message = wiki_summary.invoke(ai_msg.tool_calls[1])\n",
    "\n",
    "print(tool_message)\n",
    "print(\"-\" * 100)\n",
    "pprint(tool_message.content)"
   ]
  },
  {
   "cell_type": "code",
   "execution_count": 26,
   "id": "c5826ecc",
   "metadata": {},
   "outputs": [
    {
     "name": "stdout",
     "output_type": "stream",
     "text": [
      "ai_msg: \n",
      " content='' additional_kwargs={'tool_calls': [{'id': 'call_jkjHMd7wZYrtHZxNWUJ2ehOn', 'function': {'arguments': '{\"query\":\"파스타의 유래\"}', 'name': 'wiki_summary'}, 'type': 'function'}], 'refusal': None} response_metadata={'token_usage': {'completion_tokens': 19, 'prompt_tokens': 119, 'total_tokens': 138, 'completion_tokens_details': {'accepted_prediction_tokens': 0, 'audio_tokens': 0, 'reasoning_tokens': 0, 'rejected_prediction_tokens': 0}, 'prompt_tokens_details': {'audio_tokens': 0, 'cached_tokens': 0}}, 'model_name': 'gpt-4o-mini-2024-07-18', 'system_fingerprint': 'fp_34a54ae93c', 'finish_reason': 'tool_calls', 'logprobs': None} id='run--12464b38-cf61-4fee-8235-3fd4b9c5cd9f-0' tool_calls=[{'name': 'wiki_summary', 'args': {'query': '파스타의 유래'}, 'id': 'call_jkjHMd7wZYrtHZxNWUJ2ehOn', 'type': 'tool_call'}] usage_metadata={'input_tokens': 119, 'output_tokens': 19, 'total_tokens': 138}\n",
      "----------------------------------------------------------------------------------------------------\n",
      "tool_msgs: \n",
      " [ToolMessage(content='이탈리아 요리(쿠치나 이탈리아나)는 기원전 4세기부터 발전해온 남유럽의 요리로, 지역마다 고유한 특색이 있으며 북부는 쌀과 유제품, 남부는 올리브와 해산물을 주로 사용한다. 이 요리는 간결함을 특징으로 하며, 재료의 질이 맛에 큰 영향을 미친다. CNN은 2013년에 이탈리아 요리를 세계 최고의 요리로 선정했다. 역사적으로, 이탈리아 요리는 고대 그리스와 로마의 영향을 받았고, 중세에는 아랍 문화와의 접촉으로 변화가 있었다. 근대에는 궁중 요리 문화가 발전하며 다양한 요리책이 출판되었다. 오르조(리소니)는 이탈리아의 파스타로, 보리에서 유래했으며 현재는 박력분으로 만들어진다.', name='wiki_summary', tool_call_id='call_jkjHMd7wZYrtHZxNWUJ2ehOn')]\n",
      "----------------------------------------------------------------------------------------------------\n",
      "('파스타는 이탈리아 요리의 중요한 요소로, 기원전 4세기부터 발전해온 남유럽의 요리 전통에 뿌리를 두고 있습니다. 이탈리아 요리는 지역마다 '\n",
      " '고유한 특색이 있으며, 북부는 주로 쌀과 유제품을, 남부는 올리브와 해산물을 주로 사용합니다. \\n'\n",
      " '\\n'\n",
      " '파스타의 유래는 고대 그리스와 로마의 영향을 받았으며, 중세에는 아랍 문화와의 접촉으로 변화가 있었습니다. 근대에는 궁중 요리 문화가 '\n",
      " '발전하면서 다양한 요리책이 출판되었고, 이로 인해 파스타의 조리법과 종류가 다양해졌습니다. \\n'\n",
      " '\\n'\n",
      " '특히, 오르조(리소니)와 같은 파스타는 보리에서 유래했지만 현재는 주로 박력분으로 만들어집니다. 이처럼 파스타는 이탈리아 요리의 간결함과 '\n",
      " '재료의 질을 중시하는 전통을 반영하고 있습니다.')\n"
     ]
    }
   ],
   "source": [
    "from datetime import datetime\n",
    "from langchain_core.prompts import ChatPromptTemplate\n",
    "from langchain_core.runnables import RunnableConfig, chain\n",
    "\n",
    "today = datetime.today().strftime(\"%Y-%m-%d\")\n",
    "\n",
    "prompt = ChatPromptTemplate([\n",
    "    (\"system\", f\"You are a helpful AI assistant. Today is {today}\"),\n",
    "    (\"human\", \"{user_input}\"),\n",
    "    (\"placeholder\", \"{messages}\"),\n",
    "])\n",
    "\n",
    "llm_with_tools = llm.bind_tools([wiki_summary])\n",
    "llm_chain = prompt | llm_with_tools\n",
    "\n",
    "@chain\n",
    "def wiki_summary_chain(user_input:str, config: RunnableConfig):\n",
    "    input_ = {\"user_input\": user_input}\n",
    "    ai_msg = llm_chain.invoke(input_, config=config)\n",
    "    print(\"ai_msg: \\n\", ai_msg)\n",
    "    print(\"-\" * 100)\n",
    "    tool_msgs = wiki_summary.batch(ai_msg.tool_calls, config=config)\n",
    "    print(\"tool_msgs: \\n\", tool_msgs)\n",
    "    print(\"-\" * 100)\n",
    "    return llm_chain.invoke({**input_, \"messages\": [ai_msg, *tool_msgs]}, config=config)\n",
    "\n",
    "response = wiki_summary_chain.invoke(\"파스타의 유래에 대해서 알려주세요.\")\n",
    "pprint(response.content)"
   ]
  },
  {
   "cell_type": "code",
   "execution_count": 27,
   "id": "dd8dee56",
   "metadata": {},
   "outputs": [
    {
     "name": "stdout",
     "output_type": "stream",
     "text": [
      "1\n"
     ]
    }
   ],
   "source": [
    "from langchain.document_loaders import TextLoader\n",
    "\n",
    "loader = TextLoader(\"./data/restaurant_menu.txt\", encoding=\"utf-8\")\n",
    "documents = loader.load()\n",
    "print(len(documents))"
   ]
  },
  {
   "cell_type": "code",
   "execution_count": 28,
   "id": "c495f75a",
   "metadata": {},
   "outputs": [
    {
     "name": "stdout",
     "output_type": "stream",
     "text": [
      "총 10개의 메뉴 항목이 처리되었습니다.\n"
     ]
    }
   ],
   "source": [
    "from langchain_core.documents import Document\n",
    "\n",
    "def split_menu_items(document):\n",
    "    pattern = r'(\\d+\\.\\s.*?)(?=\\n\\n\\d+\\.|$)'\n",
    "    menu_items = re.findall(pattern, document.page_content, re.DOTALL)\n",
    "\n",
    "    menu_documents = []\n",
    "    for i, item in enumerate(menu_items, 1):\n",
    "        menu_name = item.split('\\n')[0].split('.', 1)[1].strip()\n",
    "\n",
    "        menu_doc = Document(\n",
    "            page_content=item.strip(),\n",
    "            metadata={\n",
    "                \"source\": document.metadata['source'],\n",
    "                \"menu_number\": i,\n",
    "                \"menu_name\": menu_name\n",
    "            }\n",
    "        )\n",
    "        menu_documents.append(menu_doc)\n",
    "    return menu_documents\n",
    "\n",
    "menu_documents = []\n",
    "for doc in documents:\n",
    "    menu_documents += split_menu_items(doc)\n",
    "\n",
    "print(f\"총 {len(menu_documents)}개의 메뉴 항목이 처리되었습니다.\")"
   ]
  },
  {
   "cell_type": "code",
   "execution_count": 29,
   "id": "cc9c5db3",
   "metadata": {},
   "outputs": [
    {
     "name": "stdout",
     "output_type": "stream",
     "text": [
      "검색결과 : 2개\n",
      "메뉴 번호: 1\n",
      "메뉴 이름: 시그니처 스테이크\n",
      "\n",
      "메뉴 번호: 1\n",
      "메뉴 이름: 시그니처 스테이크\n",
      "\n"
     ]
    }
   ],
   "source": [
    "from langchain_chroma import Chroma\n",
    "from langchain_ollama import OllamaEmbeddings\n",
    "\n",
    "embeddings_model = OllamaEmbeddings(model=\"bge-m3\")\n",
    "\n",
    "menu_db = Chroma.from_documents(\n",
    "    documents=menu_documents,\n",
    "    embedding=embeddings_model,\n",
    "    collection_name=\"restaurant_menu\",\n",
    "    persist_directory=\"./chroma_db\",\n",
    ")\n",
    "\n",
    "menu_retriever = menu_db.as_retriever(\n",
    "    search_kwargs={'k':2},\n",
    ")\n",
    "\n",
    "query = \"시그니처 스테이크의 가격과 특징은 무엇인가요?\"\n",
    "docs = menu_retriever.invoke(query)\n",
    "print(f\"검색결과 : {len(docs)}개\")\n",
    "\n",
    "for doc in docs:\n",
    "    print(f\"메뉴 번호: {doc.metadata['menu_number']}\")\n",
    "    print(f\"메뉴 이름: {doc.metadata['menu_name']}\")\n",
    "    print()"
   ]
  },
  {
   "cell_type": "code",
   "execution_count": 30,
   "id": "9f2fc9a9",
   "metadata": {},
   "outputs": [
    {
     "name": "stdout",
     "output_type": "stream",
     "text": [
      "자료형: \n",
      "<class 'langchain_core.tools.structured.StructuredTool'>\n",
      "----------------------------------------------------------------------------------------------------\n",
      "name: \n",
      "search_menu\n",
      "----------------------------------------------------------------------------------------------------\n",
      "description: \n",
      "tool 데코 용도\n",
      "----------------------------------------------------------------------------------------------------\n",
      "schema: \n",
      "{'description': 'tool 데코 용도 ', 'properties': {'query': {'title': 'Query', 'type': 'string'}}, 'required': ['query'], 'title': 'search_menu', 'type': 'object'}\n",
      "----------------------------------------------------------------------------------------------------\n"
     ]
    }
   ],
   "source": [
    "menu_db = Chroma(\n",
    "    embedding_function=embeddings_model,\n",
    "    collection_name=\"restaurant_menu\",\n",
    "    persist_directory=\"./chroma_db\",\n",
    ")\n",
    "\n",
    "@tool\n",
    "def search_menu(query: str) -> List[Document]:\n",
    "    \"\"\" \n",
    "    tool 데코 용도 \n",
    "    \"\"\"\n",
    "    docs = menu_db.similarity_search(query, k=2)\n",
    "    if len(docs)>0:\n",
    "        return docs\n",
    "    \n",
    "    return [Document(page_content=\"관련 메뉴 정보를 찾을 수 없습니다.\")]\n",
    "\n",
    "print(\"자료형: \")\n",
    "print(type(search_menu))\n",
    "print(\"-\" * 100)\n",
    "\n",
    "print(\"name: \")\n",
    "print(search_menu.name)\n",
    "print(\"-\" * 100)\n",
    "\n",
    "print(\"description: \")\n",
    "print(search_menu.description)\n",
    "print(\"-\" * 100)\n",
    "\n",
    "print(\"schema: \")\n",
    "print(search_menu.args_schema.schema())\n",
    "print(\"-\" * 100)\n"
   ]
  },
  {
   "cell_type": "code",
   "execution_count": 31,
   "id": "3bf21be0",
   "metadata": {},
   "outputs": [
    {
     "name": "stdout",
     "output_type": "stream",
     "text": [
      "자료형: \n",
      "<class 'langchain_core.tools.structured.StructuredTool'>\n",
      "----------------------------------------------------------------------------------------------------\n",
      "name: \n",
      "search_wine\n",
      "----------------------------------------------------------------------------------------------------\n",
      "description: \n",
      "사용용도\n",
      "----------------------------------------------------------------------------------------------------\n",
      "schema: \n",
      "{'description': '사용용도', 'properties': {'query': {'title': 'Query', 'type': 'string'}}, 'required': ['query'], 'title': 'search_wine', 'type': 'object'}\n",
      "----------------------------------------------------------------------------------------------------\n"
     ]
    }
   ],
   "source": [
    "wine_db = Chroma(\n",
    "    embedding_function=embeddings_model,\n",
    "    collection_name=\"wine_menu\",\n",
    "    persist_directory=\"./chroma_db\"\n",
    ")\n",
    "\n",
    "@tool\n",
    "def search_wine(query:str) -> List[Document]:\n",
    "    \"\"\"\n",
    "    사용용도\n",
    "    \"\"\"\n",
    "    docs = wine_db.similarity_search(query, k=2)\n",
    "    if len(docs) > 0:\n",
    "        return docs\n",
    "    return [Document(page_content=\"관련 와인 정보를 찾을 수 없습니다습니다\")]\n",
    "\n",
    "print(\"자료형: \")\n",
    "print(type(search_wine))\n",
    "print(\"-\" * 100)\n",
    "\n",
    "print(\"name: \")\n",
    "print(search_wine.name)\n",
    "print(\"-\" * 100)\n",
    "\n",
    "print(\"description: \")\n",
    "print(search_wine.description)\n",
    "print(\"-\" * 100)\n",
    "\n",
    "print(\"schema: \")\n",
    "print(search_wine.args_schema.schema())\n",
    "print(\"-\" * 100)\n"
   ]
  },
  {
   "cell_type": "code",
   "execution_count": 32,
   "id": "de654867",
   "metadata": {},
   "outputs": [
    {
     "name": "stdout",
     "output_type": "stream",
     "text": [
      "AIMessage(content='', additional_kwargs={'tool_calls': [{'id': 'call_S189SH5aXj6ZtwB9s0oKd8hL', 'function': {'arguments': '{\"query\": \"시그니처 스테이크\"}', 'name': 'search_menu'}, 'type': 'function'}, {'id': 'call_VxqEbhg6ssRTAvtXsxa9tjzZ', 'function': {'arguments': '{\"query\": \"스테이크\"}', 'name': 'search_wine'}, 'type': 'function'}], 'refusal': None}, response_metadata={'token_usage': {'completion_tokens': 53, 'prompt_tokens': 93, 'total_tokens': 146, 'completion_tokens_details': {'accepted_prediction_tokens': 0, 'audio_tokens': 0, 'reasoning_tokens': 0, 'rejected_prediction_tokens': 0}, 'prompt_tokens_details': {'audio_tokens': 0, 'cached_tokens': 0}}, 'model_name': 'gpt-4o-mini-2024-07-18', 'system_fingerprint': 'fp_34a54ae93c', 'finish_reason': 'tool_calls', 'logprobs': None}, id='run--983e6860-82f7-4c16-91f4-ed1a197fa298-0', tool_calls=[{'name': 'search_menu', 'args': {'query': '시그니처 스테이크'}, 'id': 'call_S189SH5aXj6ZtwB9s0oKd8hL', 'type': 'tool_call'}, {'name': 'search_wine', 'args': {'query': '스테이크'}, 'id': 'call_VxqEbhg6ssRTAvtXsxa9tjzZ', 'type': 'tool_call'}], usage_metadata={'input_tokens': 93, 'output_tokens': 53, 'total_tokens': 146})\n",
      "----------------------------------------------------------------------------------------------------\n",
      "''\n",
      "----------------------------------------------------------------------------------------------------\n",
      "[{'args': {'query': '시그니처 스테이크'},\n",
      "  'id': 'call_S189SH5aXj6ZtwB9s0oKd8hL',\n",
      "  'name': 'search_menu',\n",
      "  'type': 'tool_call'},\n",
      " {'args': {'query': '스테이크'},\n",
      "  'id': 'call_VxqEbhg6ssRTAvtXsxa9tjzZ',\n",
      "  'name': 'search_wine',\n",
      "  'type': 'tool_call'}]\n",
      "----------------------------------------------------------------------------------------------------\n"
     ]
    }
   ],
   "source": [
    "llm_with_tools = llm.bind_tools(tools=[search_menu, search_wine])\n",
    "query = \"시그니처 스테이크의 가격과 특징은 무엇인가요? 그리고 스테이크와 어울리는 와인 추천도 해주세요.\"\n",
    "ai_msg = llm_with_tools.invoke(query)\n",
    "\n",
    "pprint(ai_msg)\n",
    "print(\"-\"*100)\n",
    "\n",
    "pprint(ai_msg.content)\n",
    "print(\"-\"*100)\n",
    "\n",
    "pprint(ai_msg.tool_calls)\n",
    "print(\"-\"*100)"
   ]
  },
  {
   "cell_type": "code",
   "execution_count": 33,
   "id": "a24ec261",
   "metadata": {},
   "outputs": [
    {
     "name": "stdout",
     "output_type": "stream",
     "text": [
      "search_web\n",
      "wiki_summary\n",
      "search_wine\n",
      "search_menu\n"
     ]
    }
   ],
   "source": [
    "tools = [search_web, wiki_summary, search_wine, search_menu]\n",
    "for tool in tools:\n",
    "    print(tool.name)"
   ]
  },
  {
   "cell_type": "code",
   "execution_count": 34,
   "id": "a5efc096",
   "metadata": {},
   "outputs": [
    {
     "name": "stdout",
     "output_type": "stream",
     "text": [
      "search_menu: \n",
      "{'name': 'search_menu', 'args': {'query': '시그니쳐 스테이크'}, 'id': 'call_uCS90oc1FVZHCkKjR3lJHwlQ', 'type': 'tool_call'}\n",
      "----------------------------------------------------------------------------------------------------\n",
      "search_wine: \n",
      "{'name': 'search_wine', 'args': {'query': '스테이크 와인 추천'}, 'id': 'call_ejhQizerPz8tOuzc3UJ67NhS', 'type': 'tool_call'}\n",
      "----------------------------------------------------------------------------------------------------\n",
      "tool_msgs: \n",
      " [ToolMessage(content=\"[Document(metadata={'menu_name': '시그니처 스테이크', 'menu_number': 1, 'source': './data/restaurant_menu.txt'}, page_content='1. 시그니처 스테이크\\\\n   • 가격: ₩35,000\\\\n   • 주요 식재료: 최상급 한우 등심, 로즈메리 감자, 그릴드 아스파라거스\\\\n   • 설명: 셰프의 특제 시그니처 메뉴로, 21일간 건조 숙성한 최상급 한우 등심을 사용합니다. 미디엄 레어로 조리하여 육즙을 최대한 보존하며, 로즈메리 향의 감자와 아삭한 그릴드 아스파라거스가 곁들여집니다. 레드와인 소스와 함께 제공되어 풍부한 맛을 더합니다.'), Document(metadata={'menu_name': '시그니처 스테이크', 'menu_number': 1, 'source': './data/restaurant_menu.txt'}, page_content='1. 시그니처 스테이크\\\\n   • 가격: ₩35,000\\\\n   • 주요 식재료: 최상급 한우 등심, 로즈메리 감자, 그릴드 아스파라거스\\\\n   • 설명: 셰프의 특제 시그니처 메뉴로, 21일간 건조 숙성한 최상급 한우 등심을 사용합니다. 미디엄 레어로 조리하여 육즙을 최대한 보존하며, 로즈메리 향의 감자와 아삭한 그릴드 아스파라거스가 곁들여집니다. 레드와인 소스와 함께 제공되어 풍부한 맛을 더합니다.')]\", name='search_menu', tool_call_id='call_uCS90oc1FVZHCkKjR3lJHwlQ'), ToolMessage(content=\"[Document(metadata={}, page_content='관련 와인 정보를 찾을 수 없습니다습니다')]\", name='search_wine', tool_call_id='call_ejhQizerPz8tOuzc3UJ67NhS')]\n",
      "----------------------------------------------------------------------------------------------------\n",
      "### 시그니쳐 스테이크의 가격과 특징\n",
      "\n",
      "- **가격**: 35,000원\n",
      "- **주요 재료**: \n",
      "  - 소고기: 한우 등급의 고급 소고기\n",
      "  - 사이드: 로스트 마늘, 버터, 각종 채소\n",
      "- **특징**: \n",
      "  - 시그니쳐 스테이크는 특별한 조리 방식으로 구워져 풍부한 맛을 제공합니다.\n",
      "  - 21일 동안 숙성된 소고기를 사용하여 부드럽고 진한 육즙을 자랑합니다.\n",
      "  - 각종 소스와 함께 제공되어 다양한 맛을 즐길 수 있습니다.\n",
      "\n",
      "---\n",
      "\n",
      "### 스테이크와 어울리는 와인 추천\n",
      "\n",
      "스테이크와 잘 어울리는 와인으로는 **레드 와인**이 일반적입니다. 특히, 다음과 같은 와인이 추천됩니다:\n",
      "\n",
      "- **카베르네 소비뇽 (Cabernet Sauvignon)**: 풀 바디의 와인으로, 스테이크의 풍미와 잘 어우러집니다.\n",
      "- **말벡 (Malbec)**: 과일향이 풍부하며, 고기의 기름진 맛을 중화시켜줍니다.\n",
      "- **시라 (Shiraz)**: 스파이시하고 강한 맛이 특징으로, 스테이크와의 조화가 뛰어납니다.\n",
      "\n",
      "이 외에도 개인의 취향에 따라 다양한 레드 와인을 선택할 수 있습니다.\n"
     ]
    }
   ],
   "source": [
    "from datetime import datetime\n",
    "from langchain_core.prompts import ChatPromptTemplate\n",
    "from langchain_core.runnables import RunnableConfig, chain\n",
    "\n",
    "today = datetime.today().strftime(\"%Y-%m-%d\")\n",
    "\n",
    "prompt = ChatPromptTemplate([\n",
    "    (\"system\", f\"You are a helpful AI assistant. Today's date is {today}\"),\n",
    "    (\"human\", \"{user_input}\"),\n",
    "    (\"placeholder\", \"{messages}\"),\n",
    "])\n",
    "\n",
    "llm = ChatOpenAI(model=\"gpt-4o-mini\")\n",
    "llm_with_tools = llm.bind_tools(tools=tools)\n",
    "llm_chain = prompt | llm_with_tools\n",
    "\n",
    "@chain\n",
    "def restaurant_menu_chain(user_input: str, config: RunnableConfig):\n",
    "    input_ = {\"user_input\": user_input}\n",
    "    ai_msg = llm_chain.invoke(input_, config=config)\n",
    "\n",
    "    tool_msgs = []\n",
    "    for tool_call in ai_msg.tool_calls:\n",
    "        print(f\"{tool_call['name']}: \\n{tool_call}\")\n",
    "        print(\"-\" * 100)\n",
    "\n",
    "        if tool_call[\"name\"] == \"search_web\":\n",
    "            tool_message = search_web.invoke(tool_call, config=config)\n",
    "            tool_msgs.append(tool_message)\n",
    "        \n",
    "        elif tool_call[\"name\"] == \"wiki_summary\":\n",
    "            tool_message = wiki_summary.invoke(tool_call, config=config)\n",
    "            tool_msgs.append(tool_message)\n",
    "\n",
    "        elif tool_call[\"name\"] == \"search_wine\":\n",
    "            tool_message = search_wine.invoke(tool_call, config=config)\n",
    "            tool_msgs.append(tool_message)\n",
    "\n",
    "        elif tool_call[\"name\"] == \"search_menu\":\n",
    "            tool_message = search_menu.invoke(tool_call, config=config)\n",
    "            tool_msgs.append(tool_message)\n",
    "\n",
    "    print(\"tool_msgs: \\n\", tool_msgs)\n",
    "    print(\"-\" * 100)\n",
    "    return llm_chain.invoke({**input_, \"messages\": [ai_msg, *tool_msgs]}, config=config)\n",
    "\n",
    "response = restaurant_menu_chain.invoke(\"시그니쳐 스테이크의 가격과 특징은 무엇인가요? 그리고 스테이크와 어울리는 와인을 추천해주세요\")\n",
    "print(response.content)"
   ]
  },
  {
   "cell_type": "code",
   "execution_count": 36,
   "id": "9289157b",
   "metadata": {},
   "outputs": [
    {
     "name": "stdout",
     "output_type": "stream",
     "text": [
      "search_menu: \n",
      "{'name': 'search_menu', 'args': {'query': '파스타'}, 'id': 'call_iG0Qc79mndkKtspyOLbDKrgR', 'type': 'tool_call'}\n",
      "----------------------------------------------------------------------------------------------------\n",
      "wiki_summary: \n",
      "{'name': 'wiki_summary', 'args': {'query': '파스타'}, 'id': 'call_TicBJJvKPEhwfV6yBOOu09dN', 'type': 'tool_call'}\n",
      "----------------------------------------------------------------------------------------------------\n",
      "tool_msgs: \n",
      " [ToolMessage(content=\"[Document(metadata={'menu_name': '해산물 파스타', 'menu_number': 6, 'source': './data/restaurant_menu.txt'}, page_content='6. 해산물 파스타\\\\n   • 가격: ₩24,000\\\\n   • 주요 식재료: 링귀네 파스타, 새우, 홍합, 오징어, 토마토 소스\\\\n   • 설명: 알 덴테로 삶은 링귀네 파스타에 신선한 해산물을 듬뿍 올린 메뉴입니다. 토마토 소스의 산미와 해산물의 감칠맛이 조화를 이루며, 마늘과 올리브 오일로 풍미를 더했습니다. 파슬리를 뿌려 향긋한 맛을 더합니다.'), Document(metadata={'menu_name': '해산물 파스타', 'menu_number': 6, 'source': './data/restaurant_menu.txt'}, page_content='6. 해산물 파스타\\\\n   • 가격: ₩24,000\\\\n   • 주요 식재료: 링귀네 파스타, 새우, 홍합, 오징어, 토마토 소스\\\\n   • 설명: 알 덴테로 삶은 링귀네 파스타에 신선한 해산물을 듬뿍 올린 메뉴입니다. 토마토 소스의 산미와 해산물의 감칠맛이 조화를 이루며, 마늘과 올리브 오일로 풍미를 더했습니다. 파슬리를 뿌려 향긋한 맛을 더합니다.')]\", name='search_menu', tool_call_id='call_iG0Qc79mndkKtspyOLbDKrgR'), ToolMessage(content='파스타는 이탈리아의 주요 밀 식품으로, 듀럼밀 세몰라와 물 또는 밀가루와 달걀로 만들어지며, 삶거나 구워서 먹는다. 이탈리아의 국민 음식으로 여겨지며, 역사적으로 그리스와 아랍 문화의 영향을 받았다. 파스타는 건파스타와 생파스타로 나뉘며, 다양한 형태와 종류가 존재한다. 요리 방법으로는 삶거나 오븐에 구워내는 방식이 있다. 투움바 파스타는 미국의 요리로, 오스트레일리아의 도시에서 유래되었으며, 매콤한 크림 소스를 사용한 두꺼운 파스타 요리로 한국에서 인기를 끌고 있다.', name='wiki_summary', tool_call_id='call_TicBJJvKPEhwfV6yBOOu09dN')]\n",
      "----------------------------------------------------------------------------------------------------\n",
      "### 파스타 메뉴\n",
      "- **메뉴명**: 해산물 파스타\n",
      "- **가격**: 24,000원\n",
      "- **주요 재료**: 링귀니 파스타, 새우, 조개, 오징어, 토마토 소스\n",
      "- **설명**: 신선한 해산물을 넉넉히 넣어 만든 파스타로, 토마토 소스의 상큼함과 해산물의 깊은 맛이 조화롭게 어우러집니다.\n",
      "\n",
      "---\n",
      "\n",
      "### 파스타의 역사\n",
      "파스타는 이탈리아의 전통 음식으로, 주로 밀가루와 물로 만든 반죽을 가늘고 긴 형태로 만들어 조리한 요리입니다. 파스타는 이탈리아뿐만 아니라 전 세계적으로 사랑받고 있으며, 다양한 형태와 소스로 제공됩니다.\n",
      "\n",
      "파스타의 기원은 고대부터 시작되며, 초기 형태는 고대 그리스와 로마에서 발견되었습니다. 그러나 현대적인 파스타는 중세 이탈리아에서 발전하였습니다. 12세기 이후 파스타 제조 기술이 발전하면서 이탈리아 각 지역에서 다양한 종류의 파스타가 만들어졌습니다.\n",
      "\n",
      "파스타는 이탈리아의 농업 사회와 밀접한 관계가 있으며, 쉽게 보관할 수 있는 재료로서 식량 부족 시기에도 유용하게 사용되었습니다. 이후 이탈리아 이민자들에 의해 전 세계로 퍼져나가면서 각 지역의 특색을 반영한 다양한 형태로 발전하였습니다.\n",
      "\n",
      "오늘날 파스타는 다양한 소스와 함께 조리되어 세계 각국에서 즐겨 먹는 인기 있는 요리가 되었습니다.\n"
     ]
    }
   ],
   "source": [
    "response = restaurant_menu_chain.invoke(\"파스타 메뉴가 있나요? 이 음식의 역사 또는 유래를 알려주세요\")\n",
    "print(response.content)"
   ]
  },
  {
   "cell_type": "code",
   "execution_count": null,
   "id": "cf4a0a4f",
   "metadata": {},
   "outputs": [],
   "source": []
  }
 ],
 "metadata": {
  "kernelspec": {
   "display_name": "langgraph-agent-_8d1f7Cp-py3.12",
   "language": "python",
   "name": "python3"
  },
  "language_info": {
   "codemirror_mode": {
    "name": "ipython",
    "version": 3
   },
   "file_extension": ".py",
   "mimetype": "text/x-python",
   "name": "python",
   "nbconvert_exporter": "python",
   "pygments_lexer": "ipython3",
   "version": "3.12.4"
  }
 },
 "nbformat": 4,
 "nbformat_minor": 5
}
