{
 "cells": [
  {
   "cell_type": "code",
   "execution_count": 1,
   "id": "145c3f78",
   "metadata": {},
   "outputs": [
    {
     "data": {
      "text/plain": [
       "True"
      ]
     },
     "execution_count": 1,
     "metadata": {},
     "output_type": "execute_result"
    }
   ],
   "source": [
    "from dotenv import load_dotenv\n",
    "load_dotenv()"
   ]
  },
  {
   "cell_type": "code",
   "execution_count": 2,
   "id": "a6fe3305",
   "metadata": {},
   "outputs": [],
   "source": [
    "import re\n",
    "import os, json\n",
    "\n",
    "from textwrap import dedent\n",
    "from pprint import pprint\n",
    "\n",
    "import warnings\n",
    "warnings.filterwarnings(\"ignore\")"
   ]
  },
  {
   "cell_type": "code",
   "execution_count": 3,
   "id": "15b4cef9",
   "metadata": {},
   "outputs": [
    {
     "name": "stdout",
     "output_type": "stream",
     "text": [
      "{'url': 'https://m.blog.naver.com/wineislikeacat/223096696241', 'content': '등심 스테이크, 채끝 스테이크와 어울리는 와인 품종은? 카베르네 소비뇽, 시라 등!\\n\\n등심은 소의 등뼈를 둘러싸고 있는 부위입니다.\\n육질이 연하고 지방이 많아서 두꺼운 스테이크 구이용으로 최적이죠.\\n채끝은 등뼈에서 허리를 감싸는 뼈로 내려오는 쪽의 살인데요,\\n마블링 러버들의 선택을 쉽사리 받는 부위입니다.\\n\\u200b\\n등심과 채끝 스테이크는 모두 풍미가 진하고 지방맛이 강하게 느껴지기에,\\n중간에서 높음 사이의 적당한 탄닌과 산도를 가진 와인을 선택하면\\n씹는 맛의 긴 여운 속 느끼함을 잡아줄 수 있습니다.\\n\\u200b\\n이에 맞는 레드와인으로는\\n카베르네 소비뇽(Carbernet Sauvignon), 시라(Syrah) 품종을 추천드려요!\\n\\u200b\\n\\n안심 스테이크와 어울리는 와인\\n\\n안심 스테이크와 어울리는 와인 품종은? 산지오베제!'}\n",
      "----------------------------------------------------------------------------------------------------\n",
      "{'url': 'https://mashija.com/%EC%8A%A4%ED%85%8C%EC%9D%B4%ED%81%AC%EC%99%80-%EC%96%B4%EC%9A%B8%EB%A6%AC%EB%8A%94-%EC%B5%9C%EA%B3%A0%EC%9D%98-%EC%99%80%EC%9D%B8-%EB%AC%B4%EC%97%87%EC%9D%84-%EA%B3%A0%EB%A5%BC-%EA%B2%83%EC%9D%B8/', 'content': 'Bora Kim 2022년 1월 27일\\n카베르네 소비뇽(Cabernet Sauvignon) 및 말벡(Malbec)과 같은 전형적인 선택부터 더 가벼운 레드 와인, 심지어 화이트 와인과 맛있는 스테이크를 페어링하는 방법까지, 우리의 아카이브에서 가져온 최고의 조언과 최근 디캔터 전문가가 추천한 와인을 소개한다.'}\n",
      "----------------------------------------------------------------------------------------------------\n"
     ]
    }
   ],
   "source": [
    "from langchain_community.tools import TavilySearchResults\n",
    "\n",
    "query = \"스테이크와 어울리는 와인을 추천해주세요\"\n",
    "web_search = TavilySearchResults(max_results=2)\n",
    "search_results = web_search.invoke(query)\n",
    "\n",
    "for result in search_results:\n",
    "    print(result)\n",
    "    print(\"-\" * 100)"
   ]
  },
  {
   "cell_type": "code",
   "execution_count": 4,
   "id": "54bdc091",
   "metadata": {},
   "outputs": [],
   "source": [
    "from langchain_openai import ChatOpenAI\n",
    "\n",
    "llm = ChatOpenAI(model=\"gpt-4o-mini\")\n",
    "llm_with_tools = llm.bind_tools(tools=[web_search])"
   ]
  },
  {
   "cell_type": "code",
   "execution_count": 5,
   "id": "c65d8138",
   "metadata": {},
   "outputs": [
    {
     "name": "stdout",
     "output_type": "stream",
     "text": [
      "AIMessage(content='안녕하세요! 어떻게 도와드릴까요?', additional_kwargs={'refusal': None}, response_metadata={'token_usage': {'completion_tokens': 11, 'prompt_tokens': 81, 'total_tokens': 92, 'completion_tokens_details': {'accepted_prediction_tokens': 0, 'audio_tokens': 0, 'reasoning_tokens': 0, 'rejected_prediction_tokens': 0}, 'prompt_tokens_details': {'audio_tokens': 0, 'cached_tokens': 0}}, 'model_name': 'gpt-4o-mini-2024-07-18', 'system_fingerprint': 'fp_54eb4bd693', 'finish_reason': 'stop', 'logprobs': None}, id='run--6a77c7c1-820d-4d15-9f64-364f34017925-0', usage_metadata={'input_tokens': 81, 'output_tokens': 11, 'total_tokens': 92})\n",
      "----------------------------------------------------------------------------------------------------\n",
      "'안녕하세요! 어떻게 도와드릴까요?'\n",
      "----------------------------------------------------------------------------------------------------\n",
      "[]\n",
      "----------------------------------------------------------------------------------------------------\n"
     ]
    }
   ],
   "source": [
    "query = \"안녕하세요\"\n",
    "ai_msg = llm_with_tools.invoke(query)\n",
    "\n",
    "pprint(ai_msg)\n",
    "print(\"-\" * 100)\n",
    "\n",
    "pprint(ai_msg.content)\n",
    "print(\"-\" * 100)\n",
    "\n",
    "pprint(ai_msg.tool_calls) # 사용할 tools 정보를 보여주는데 여기서는 query가 단순해서 빈리스트가 나옴\n",
    "print(\"-\" * 100)\n"
   ]
  },
  {
   "cell_type": "code",
   "execution_count": 6,
   "id": "7197a8f8",
   "metadata": {},
   "outputs": [
    {
     "name": "stdout",
     "output_type": "stream",
     "text": [
      "AIMessage(content='', additional_kwargs={'tool_calls': [{'id': 'call_wpB0NnWnMscMOxWLjaYxkXaN', 'function': {'arguments': '{\"query\":\"스테이크와 어울리는 와인 추천\"}', 'name': 'tavily_search_results_json'}, 'type': 'function'}], 'refusal': None}, response_metadata={'token_usage': {'completion_tokens': 27, 'prompt_tokens': 90, 'total_tokens': 117, 'completion_tokens_details': {'accepted_prediction_tokens': 0, 'audio_tokens': 0, 'reasoning_tokens': 0, 'rejected_prediction_tokens': 0}, 'prompt_tokens_details': {'audio_tokens': 0, 'cached_tokens': 0}}, 'model_name': 'gpt-4o-mini-2024-07-18', 'system_fingerprint': 'fp_54eb4bd693', 'finish_reason': 'tool_calls', 'logprobs': None}, id='run--312eaa0c-c3f1-4237-9712-84e45dd48bef-0', tool_calls=[{'name': 'tavily_search_results_json', 'args': {'query': '스테이크와 어울리는 와인 추천'}, 'id': 'call_wpB0NnWnMscMOxWLjaYxkXaN', 'type': 'tool_call'}], usage_metadata={'input_tokens': 90, 'output_tokens': 27, 'total_tokens': 117})\n",
      "----------------------------------------------------------------------------------------------------\n",
      "''\n",
      "----------------------------------------------------------------------------------------------------\n",
      "[{'args': {'query': '스테이크와 어울리는 와인 추천'},\n",
      "  'id': 'call_wpB0NnWnMscMOxWLjaYxkXaN',\n",
      "  'name': 'tavily_search_results_json',\n",
      "  'type': 'tool_call'}]\n",
      "----------------------------------------------------------------------------------------------------\n"
     ]
    }
   ],
   "source": [
    "query = \"스테이크와 어울리는 와인을 추천해주세요\"\n",
    "ai_msg = llm_with_tools.invoke(query)\n",
    "\n",
    "pprint(ai_msg)\n",
    "print(\"-\" * 100)\n",
    "\n",
    "pprint(ai_msg.content)\n",
    "print(\"-\" * 100)\n",
    "\n",
    "pprint(ai_msg.tool_calls) \n",
    "print(\"-\" * 100)\n"
   ]
  },
  {
   "cell_type": "code",
   "execution_count": 7,
   "id": "7ba787d8",
   "metadata": {},
   "outputs": [
    {
     "data": {
      "text/plain": [
       "{'name': 'tavily_search_results_json',\n",
       " 'args': {'query': '스테이크와 어울리는 와인 추천'},\n",
       " 'id': 'call_wpB0NnWnMscMOxWLjaYxkXaN',\n",
       " 'type': 'tool_call'}"
      ]
     },
     "execution_count": 7,
     "metadata": {},
     "output_type": "execute_result"
    }
   ],
   "source": [
    "tool_call = ai_msg.tool_calls[0]\n",
    "tool_call"
   ]
  },
  {
   "cell_type": "code",
   "execution_count": 8,
   "id": "b2f56e68",
   "metadata": {},
   "outputs": [
    {
     "name": "stdout",
     "output_type": "stream",
     "text": [
      "tavily_search_results_json 호출결과:\n",
      "----------------------------------------------------------------------------------------------------\n",
      "[{'url': 'https://alcohol.hobby-tech.com/entry/%EC%8A%A4%ED%85%8C%EC%9D%B4%ED%81%AC%EC%99%80-%EC%B0%B0%EB%96%A1%EA%B6%81%ED%95%A9-%EC%8A%A4%ED%85%8C%EC%9D%B4%ED%81%AC%EC%97%90-%EC%96%B4%EC%9A%B8%EB%A6%AC%EB%8A%94-%EC%99%80%EC%9D%B8-5%EA%B0%80%EC%A7%80', 'content': '리브아이 스테이크; 뉴욕 스트립; 티본 스테이크. 추천 와인: 나파 밸리 카베르네 소비뇽; 샤또 마고 (Château Margaux). 카베르네 소비뇽은 특히 마블링'}, {'url': 'https://m.blog.naver.com/wineislikeacat/223096696241', 'content': '등심 스테이크, 채끝 스테이크와 어울리는 와인 품종은? 카베르네 소비뇽, 시라 등!\\n\\n등심은 소의 등뼈를 둘러싸고 있는 부위입니다.\\n육질이 연하고 지방이 많아서 두꺼운 스테이크 구이용으로 최적이죠.\\n채끝은 등뼈에서 허리를 감싸는 뼈로 내려오는 쪽의 살인데요,\\n마블링 러버들의 선택을 쉽사리 받는 부위입니다.\\n\\u200b\\n등심과 채끝 스테이크는 모두 풍미가 진하고 지방맛이 강하게 느껴지기에,\\n중간에서 높음 사이의 적당한 탄닌과 산도를 가진 와인을 선택하면\\n씹는 맛의 긴 여운 속 느끼함을 잡아줄 수 있습니다.\\n\\u200b\\n이에 맞는 레드와인으로는\\n카베르네 소비뇽(Carbernet Sauvignon), 시라(Syrah) 품종을 추천드려요!\\n\\u200b\\n\\n안심 스테이크와 어울리는 와인\\n\\n안심 스테이크와 어울리는 와인 품종은? 산지오베제!'}]\n"
     ]
    }
   ],
   "source": [
    "tool_output = web_search.invoke(tool_call[\"args\"])\n",
    "print(f\"{tool_call['name']} 호출결과:\")\n",
    "print(\"-\" * 100)\n",
    "print(tool_output)"
   ]
  },
  {
   "cell_type": "code",
   "execution_count": 9,
   "id": "c353a314",
   "metadata": {},
   "outputs": [
    {
     "name": "stdout",
     "output_type": "stream",
     "text": [
      "content=[{'url': 'https://alcohol.hobby-tech.com/entry/%EC%8A%A4%ED%85%8C%EC%9D%B4%ED%81%AC%EC%99%80-%EC%B0%B0%EB%96%A1%EA%B6%81%ED%95%A9-%EC%8A%A4%ED%85%8C%EC%9D%B4%ED%81%AC%EC%97%90-%EC%96%B4%EC%9A%B8%EB%A6%AC%EB%8A%94-%EC%99%80%EC%9D%B8-5%EA%B0%80%EC%A7%80', 'content': '리브아이 스테이크; 뉴욕 스트립; 티본 스테이크. 추천 와인: 나파 밸리 카베르네 소비뇽; 샤또 마고 (Château Margaux). 카베르네 소비뇽은 특히 마블링'}, {'url': 'https://m.blog.naver.com/wineislikeacat/223096696241', 'content': '등심 스테이크, 채끝 스테이크와 어울리는 와인 품종은? 카베르네 소비뇽, 시라 등!\\n\\n등심은 소의 등뼈를 둘러싸고 있는 부위입니다.\\n육질이 연하고 지방이 많아서 두꺼운 스테이크 구이용으로 최적이죠.\\n채끝은 등뼈에서 허리를 감싸는 뼈로 내려오는 쪽의 살인데요,\\n마블링 러버들의 선택을 쉽사리 받는 부위입니다.\\n\\u200b\\n등심과 채끝 스테이크는 모두 풍미가 진하고 지방맛이 강하게 느껴지기에,\\n중간에서 높음 사이의 적당한 탄닌과 산도를 가진 와인을 선택하면\\n씹는 맛의 긴 여운 속 느끼함을 잡아줄 수 있습니다.\\n\\u200b\\n이에 맞는 레드와인으로는\\n카베르네 소비뇽(Carbernet Sauvignon), 시라(Syrah) 품종을 추천드려요!\\n\\u200b\\n\\n안심 스테이크와 어울리는 와인\\n\\n안심 스테이크와 어울리는 와인 품종은? 산지오베제!'}] name='tavily_search_results_json' tool_call_id='call_wpB0NnWnMscMOxWLjaYxkXaN'\n"
     ]
    }
   ],
   "source": [
    "from langchain_core.messages import ToolMessage\n",
    "tool_message = ToolMessage(\n",
    "    content=tool_output,\n",
    "    tool_call_id=tool_call[\"id\"],\n",
    "    name=tool_call[\"name\"]\n",
    ")\n",
    "\n",
    "print(tool_message)"
   ]
  },
  {
   "cell_type": "code",
   "execution_count": 10,
   "id": "e930bfaa",
   "metadata": {},
   "outputs": [
    {
     "name": "stdout",
     "output_type": "stream",
     "text": [
      "content='[{\"url\": \"https://alcohol.hobby-tech.com/entry/%EC%8A%A4%ED%85%8C%EC%9D%B4%ED%81%AC%EC%99%80-%EC%B0%B0%EB%96%A1%EA%B6%81%ED%95%A9-%EC%8A%A4%ED%85%8C%EC%9D%B4%ED%81%AC%EC%97%90-%EC%96%B4%EC%9A%B8%EB%A6%AC%EB%8A%94-%EC%99%80%EC%9D%B8-5%EA%B0%80%EC%A7%80\", \"content\": \"리브아이 스테이크; 뉴욕 스트립; 티본 스테이크. 추천 와인: 나파 밸리 카베르네 소비뇽; 샤또 마고 (Château Margaux). 카베르네 소비뇽은 특히 마블링\"}, {\"url\": \"https://m.blog.naver.com/wineislikeacat/223096696241\", \"content\": \"등심 스테이크, 채끝 스테이크와 어울리는 와인 품종은? 카베르네 소비뇽, 시라 등!\\\\n\\\\n등심은 소의 등뼈를 둘러싸고 있는 부위입니다.\\\\n육질이 연하고 지방이 많아서 두꺼운 스테이크 구이용으로 최적이죠.\\\\n채끝은 등뼈에서 허리를 감싸는 뼈로 내려오는 쪽의 살인데요,\\\\n마블링 러버들의 선택을 쉽사리 받는 부위입니다.\\\\n\\u200b\\\\n등심과 채끝 스테이크는 모두 풍미가 진하고 지방맛이 강하게 느껴지기에,\\\\n중간에서 높음 사이의 적당한 탄닌과 산도를 가진 와인을 선택하면\\\\n씹는 맛의 긴 여운 속 느끼함을 잡아줄 수 있습니다.\\\\n\\u200b\\\\n이에 맞는 레드와인으로는\\\\n카베르네 소비뇽(Carbernet Sauvignon), 시라(Syrah) 품종을 추천드려요!\\\\n\\u200b\\\\n\\\\n안심 스테이크와 어울리는 와인\\\\n\\\\n안심 스테이크와 어울리는 와인 품종은? 산지오베제!\"}]' name='tavily_search_results_json' tool_call_id='call_wpB0NnWnMscMOxWLjaYxkXaN' artifact={'query': '스테이크와 어울리는 와인 추천', 'follow_up_questions': None, 'answer': None, 'images': [], 'results': [{'url': 'https://alcohol.hobby-tech.com/entry/%EC%8A%A4%ED%85%8C%EC%9D%B4%ED%81%AC%EC%99%80-%EC%B0%B0%EB%96%A1%EA%B6%81%ED%95%A9-%EC%8A%A4%ED%85%8C%EC%9D%B4%ED%81%AC%EC%97%90-%EC%96%B4%EC%9A%B8%EB%A6%AC%EB%8A%94-%EC%99%80%EC%9D%B8-5%EA%B0%80%EC%A7%80', 'title': '스테이크와 찰떡궁합! 스테이크에 어울리는 와인 5가지 - 술의 모든 것', 'content': '리브아이 스테이크; 뉴욕 스트립; 티본 스테이크. 추천 와인: 나파 밸리 카베르네 소비뇽; 샤또 마고 (Château Margaux). 카베르네 소비뇽은 특히 마블링', 'score': 0.9152729, 'raw_content': None}, {'url': 'https://m.blog.naver.com/wineislikeacat/223096696241', 'title': '등심 스테이크에는 이 와인 드셔보세요! 소고기 부위별 레드와인 추천 ...', 'content': '등심 스테이크, 채끝 스테이크와 어울리는 와인 품종은? 카베르네 소비뇽, 시라 등!\\n\\n등심은 소의 등뼈를 둘러싸고 있는 부위입니다.\\n육질이 연하고 지방이 많아서 두꺼운 스테이크 구이용으로 최적이죠.\\n채끝은 등뼈에서 허리를 감싸는 뼈로 내려오는 쪽의 살인데요,\\n마블링 러버들의 선택을 쉽사리 받는 부위입니다.\\n\\u200b\\n등심과 채끝 스테이크는 모두 풍미가 진하고 지방맛이 강하게 느껴지기에,\\n중간에서 높음 사이의 적당한 탄닌과 산도를 가진 와인을 선택하면\\n씹는 맛의 긴 여운 속 느끼함을 잡아줄 수 있습니다.\\n\\u200b\\n이에 맞는 레드와인으로는\\n카베르네 소비뇽(Carbernet Sauvignon), 시라(Syrah) 품종을 추천드려요!\\n\\u200b\\n\\n안심 스테이크와 어울리는 와인\\n\\n안심 스테이크와 어울리는 와인 품종은? 산지오베제!', 'score': 0.90771407, 'raw_content': None}], 'response_time': 1.04}\n"
     ]
    }
   ],
   "source": [
    "tool_message = web_search.invoke(tool_call)\n",
    "print(tool_message)"
   ]
  },
  {
   "cell_type": "code",
   "execution_count": 11,
   "id": "07c534ea",
   "metadata": {},
   "outputs": [
    {
     "name": "stdout",
     "output_type": "stream",
     "text": [
      "('[{\"url\": '\n",
      " '\"https://alcohol.hobby-tech.com/entry/%EC%8A%A4%ED%85%8C%EC%9D%B4%ED%81%AC%EC%99%80-%EC%B0%B0%EB%96%A1%EA%B6%81%ED%95%A9-%EC%8A%A4%ED%85%8C%EC%9D%B4%ED%81%AC%EC%97%90-%EC%96%B4%EC%9A%B8%EB%A6%AC%EB%8A%94-%EC%99%80%EC%9D%B8-5%EA%B0%80%EC%A7%80\", '\n",
      " '\"content\": \"리브아이 스테이크; 뉴욕 스트립; 티본 스테이크. 추천 와인: 나파 밸리 카베르네 소비뇽; 샤또 마고 '\n",
      " '(Château Margaux). 카베르네 소비뇽은 특히 마블링\"}, {\"url\": '\n",
      " '\"https://m.blog.naver.com/wineislikeacat/223096696241\", \"content\": \"등심 스테이크, '\n",
      " '채끝 스테이크와 어울리는 와인 품종은? 카베르네 소비뇽, 시라 등!\\\\n\\\\n등심은 소의 등뼈를 둘러싸고 있는 부위입니다.\\\\n육질이 '\n",
      " '연하고 지방이 많아서 두꺼운 스테이크 구이용으로 최적이죠.\\\\n채끝은 등뼈에서 허리를 감싸는 뼈로 내려오는 쪽의 살인데요,\\\\n마블링 '\n",
      " '러버들의 선택을 쉽사리 받는 부위입니다.\\\\n\\u200b\\\\n등심과 채끝 스테이크는 모두 풍미가 진하고 지방맛이 강하게 '\n",
      " '느껴지기에,\\\\n중간에서 높음 사이의 적당한 탄닌과 산도를 가진 와인을 선택하면\\\\n씹는 맛의 긴 여운 속 느끼함을 잡아줄 수 '\n",
      " '있습니다.\\\\n\\u200b\\\\n이에 맞는 레드와인으로는\\\\n카베르네 소비뇽(Carbernet Sauvignon), 시라(Syrah) '\n",
      " '품종을 추천드려요!\\\\n\\u200b\\\\n\\\\n안심 스테이크와 어울리는 와인\\\\n\\\\n안심 스테이크와 어울리는 와인 품종은? '\n",
      " '산지오베제!\"}]')\n"
     ]
    }
   ],
   "source": [
    "pprint(tool_message.content)"
   ]
  },
  {
   "cell_type": "code",
   "execution_count": 12,
   "id": "d71b5051",
   "metadata": {},
   "outputs": [
    {
     "name": "stdout",
     "output_type": "stream",
     "text": [
      "[ToolMessage(content='[{\"url\": \"https://alcohol.hobby-tech.com/entry/%EC%8A%A4%ED%85%8C%EC%9D%B4%ED%81%AC%EC%99%80-%EC%B0%B0%EB%96%A1%EA%B6%81%ED%95%A9-%EC%8A%A4%ED%85%8C%EC%9D%B4%ED%81%AC%EC%97%90-%EC%96%B4%EC%9A%B8%EB%A6%AC%EB%8A%94-%EC%99%80%EC%9D%B8-5%EA%B0%80%EC%A7%80\", \"content\": \"리브아이 스테이크; 뉴욕 스트립; 티본 스테이크. 추천 와인: 나파 밸리 카베르네 소비뇽; 샤또 마고 (Château Margaux). 카베르네 소비뇽은 특히 마블링\"}, {\"url\": \"https://m.blog.naver.com/wineislikeacat/223096696241\", \"content\": \"등심 스테이크, 채끝 스테이크와 어울리는 와인 품종은? 카베르네 소비뇽, 시라 등!\\\\n\\\\n등심은 소의 등뼈를 둘러싸고 있는 부위입니다.\\\\n육질이 연하고 지방이 많아서 두꺼운 스테이크 구이용으로 최적이죠.\\\\n채끝은 등뼈에서 허리를 감싸는 뼈로 내려오는 쪽의 살인데요,\\\\n마블링 러버들의 선택을 쉽사리 받는 부위입니다.\\\\n\\u200b\\\\n등심과 채끝 스테이크는 모두 풍미가 진하고 지방맛이 강하게 느껴지기에,\\\\n중간에서 높음 사이의 적당한 탄닌과 산도를 가진 와인을 선택하면\\\\n씹는 맛의 긴 여운 속 느끼함을 잡아줄 수 있습니다.\\\\n\\u200b\\\\n이에 맞는 레드와인으로는\\\\n카베르네 소비뇽(Carbernet Sauvignon), 시라(Syrah) 품종을 추천드려요!\\\\n\\u200b\\\\n\\\\n안심 스테이크와 어울리는 와인\\\\n\\\\n안심 스테이크와 어울리는 와인 품종은? 산지오베제!\"}]', name='tavily_search_results_json', tool_call_id='call_wpB0NnWnMscMOxWLjaYxkXaN', artifact={'query': '스테이크와 어울리는 와인 추천', 'follow_up_questions': None, 'answer': None, 'images': [], 'results': [{'url': 'https://alcohol.hobby-tech.com/entry/%EC%8A%A4%ED%85%8C%EC%9D%B4%ED%81%AC%EC%99%80-%EC%B0%B0%EB%96%A1%EA%B6%81%ED%95%A9-%EC%8A%A4%ED%85%8C%EC%9D%B4%ED%81%AC%EC%97%90-%EC%96%B4%EC%9A%B8%EB%A6%AC%EB%8A%94-%EC%99%80%EC%9D%B8-5%EA%B0%80%EC%A7%80', 'title': '스테이크와 찰떡궁합! 스테이크에 어울리는 와인 5가지 - 술의 모든 것', 'content': '리브아이 스테이크; 뉴욕 스트립; 티본 스테이크. 추천 와인: 나파 밸리 카베르네 소비뇽; 샤또 마고 (Château Margaux). 카베르네 소비뇽은 특히 마블링', 'score': 0.9152729, 'raw_content': None}, {'url': 'https://m.blog.naver.com/wineislikeacat/223096696241', 'title': '등심 스테이크에는 이 와인 드셔보세요! 소고기 부위별 레드와인 추천 ...', 'content': '등심 스테이크, 채끝 스테이크와 어울리는 와인 품종은? 카베르네 소비뇽, 시라 등!\\n\\n등심은 소의 등뼈를 둘러싸고 있는 부위입니다.\\n육질이 연하고 지방이 많아서 두꺼운 스테이크 구이용으로 최적이죠.\\n채끝은 등뼈에서 허리를 감싸는 뼈로 내려오는 쪽의 살인데요,\\n마블링 러버들의 선택을 쉽사리 받는 부위입니다.\\n\\u200b\\n등심과 채끝 스테이크는 모두 풍미가 진하고 지방맛이 강하게 느껴지기에,\\n중간에서 높음 사이의 적당한 탄닌과 산도를 가진 와인을 선택하면\\n씹는 맛의 긴 여운 속 느끼함을 잡아줄 수 있습니다.\\n\\u200b\\n이에 맞는 레드와인으로는\\n카베르네 소비뇽(Carbernet Sauvignon), 시라(Syrah) 품종을 추천드려요!\\n\\u200b\\n\\n안심 스테이크와 어울리는 와인\\n\\n안심 스테이크와 어울리는 와인 품종은? 산지오베제!', 'score': 0.90771407, 'raw_content': None}], 'response_time': 0.71})]\n",
      "----------------------------------------------------------------------------------------------------\n",
      "('[{\"url\": '\n",
      " '\"https://alcohol.hobby-tech.com/entry/%EC%8A%A4%ED%85%8C%EC%9D%B4%ED%81%AC%EC%99%80-%EC%B0%B0%EB%96%A1%EA%B6%81%ED%95%A9-%EC%8A%A4%ED%85%8C%EC%9D%B4%ED%81%AC%EC%97%90-%EC%96%B4%EC%9A%B8%EB%A6%AC%EB%8A%94-%EC%99%80%EC%9D%B8-5%EA%B0%80%EC%A7%80\", '\n",
      " '\"content\": \"리브아이 스테이크; 뉴욕 스트립; 티본 스테이크. 추천 와인: 나파 밸리 카베르네 소비뇽; 샤또 마고 '\n",
      " '(Château Margaux). 카베르네 소비뇽은 특히 마블링\"}, {\"url\": '\n",
      " '\"https://m.blog.naver.com/wineislikeacat/223096696241\", \"content\": \"등심 스테이크, '\n",
      " '채끝 스테이크와 어울리는 와인 품종은? 카베르네 소비뇽, 시라 등!\\\\n\\\\n등심은 소의 등뼈를 둘러싸고 있는 부위입니다.\\\\n육질이 '\n",
      " '연하고 지방이 많아서 두꺼운 스테이크 구이용으로 최적이죠.\\\\n채끝은 등뼈에서 허리를 감싸는 뼈로 내려오는 쪽의 살인데요,\\\\n마블링 '\n",
      " '러버들의 선택을 쉽사리 받는 부위입니다.\\\\n\\u200b\\\\n등심과 채끝 스테이크는 모두 풍미가 진하고 지방맛이 강하게 '\n",
      " '느껴지기에,\\\\n중간에서 높음 사이의 적당한 탄닌과 산도를 가진 와인을 선택하면\\\\n씹는 맛의 긴 여운 속 느끼함을 잡아줄 수 '\n",
      " '있습니다.\\\\n\\u200b\\\\n이에 맞는 레드와인으로는\\\\n카베르네 소비뇽(Carbernet Sauvignon), 시라(Syrah) '\n",
      " '품종을 추천드려요!\\\\n\\u200b\\\\n\\\\n안심 스테이크와 어울리는 와인\\\\n\\\\n안심 스테이크와 어울리는 와인 품종은? '\n",
      " '산지오베제!\"}]')\n"
     ]
    }
   ],
   "source": [
    "tool_message = web_search.batch(ai_msg.tool_calls)\n",
    "pprint(tool_message)\n",
    "print(\"-\" * 100)\n",
    "pprint(tool_message[0].content)"
   ]
  },
  {
   "cell_type": "code",
   "execution_count": 13,
   "id": "fcb4b5d7",
   "metadata": {},
   "outputs": [
    {
     "name": "stdout",
     "output_type": "stream",
     "text": [
      "ai_msg: \n",
      " content='' additional_kwargs={'tool_calls': [{'id': 'call_d15baCX4PI9bP6Hc1ZH6ebFF', 'function': {'arguments': '{\"query\":\"모엣샹동 샴페인 가격 2025년 5월\"}', 'name': 'tavily_search_results_json'}, 'type': 'function'}], 'refusal': None} response_metadata={'token_usage': {'completion_tokens': 35, 'prompt_tokens': 114, 'total_tokens': 149, 'completion_tokens_details': {'accepted_prediction_tokens': 0, 'audio_tokens': 0, 'reasoning_tokens': 0, 'rejected_prediction_tokens': 0}, 'prompt_tokens_details': {'audio_tokens': 0, 'cached_tokens': 0}}, 'model_name': 'gpt-4o-mini-2024-07-18', 'system_fingerprint': 'fp_54eb4bd693', 'finish_reason': 'tool_calls', 'logprobs': None} id='run--528ca666-196a-4a25-aae9-5066245a5c65-0' tool_calls=[{'name': 'tavily_search_results_json', 'args': {'query': '모엣샹동 샴페인 가격 2025년 5월'}, 'id': 'call_d15baCX4PI9bP6Hc1ZH6ebFF', 'type': 'tool_call'}] usage_metadata={'input_tokens': 114, 'output_tokens': 35, 'total_tokens': 149}\n",
      "----------------------------------------------------------------------------------------------------\n",
      "tool_msgs: \n",
      " [ToolMessage(content='[{\"url\": \"https://www.instagram.com/p/DGFQwmMv_A4/?locale=zh-hans\", \"content\": \"프로모션가 3만원 아그와 바틀 프로모션가 11만원 모엣샹동 샴페인 프로모션가 13만9천원 -일요일은 데킬라가 프리!! 새벽 4시부터 5시까지 데킬라 마음껏\"}, {\"url\": \"https://www.sodivin.co.kr/137-moet-and-chandon\", \"content\": \"Champagne Moet Et Chandon (샴페인 모엣 에 샹동) ; 참고. 85-89 ; 가격. 300,000원 이상 ; 빈티지. 1966 ; 색상 / 유형. 샴페인 ; 포맷. 0.75 l\"}]', name='tavily_search_results_json', tool_call_id='call_d15baCX4PI9bP6Hc1ZH6ebFF', artifact={'query': '모엣샹동 샴페인 가격 2025년 5월', 'follow_up_questions': None, 'answer': None, 'images': [], 'results': [{'url': 'https://www.instagram.com/p/DGFQwmMv_A4/?locale=zh-hans', 'title': 'RUSH | #선데이러쉬시즌4 2025년에도 오직 일요일에만 ... - Instagram', 'content': '프로모션가 3만원 아그와 바틀 프로모션가 11만원 모엣샹동 샴페인 프로모션가 13만9천원 -일요일은 데킬라가 프리!! 새벽 4시부터 5시까지 데킬라 마음껏', 'score': 0.7178241, 'raw_content': None}, {'url': 'https://www.sodivin.co.kr/137-moet-and-chandon', 'title': 'Champagne Moet Et Chandon (샴페인 모엣 에 샹동) - SoDivin', 'content': 'Champagne Moet Et Chandon (샴페인 모엣 에 샹동) ; 참고. 85-89 ; 가격. 300,000원 이상 ; 빈티지. 1966 ; 색상 / 유형. 샴페인 ; 포맷. 0.75 l', 'score': 0.63179934, 'raw_content': None}], 'response_time': 3.44})]\n",
      "----------------------------------------------------------------------------------------------------\n",
      "('현재 모엣샹동 샴페인의 가격은 다음과 같습니다:\\n'\n",
      " '\\n'\n",
      " '1. 프로모션가: 약 139,000원\\n'\n",
      " '2. 일반적으로는 300,000원 이상의 가격대에서 판매되고 있습니다.\\n'\n",
      " '\\n'\n",
      " '자세한 내용은 [여기](https://www.sodivin.co.kr/137-moet-and-chandon)에서 확인하실 수 있습니다.')\n"
     ]
    }
   ],
   "source": [
    "from datetime import datetime\n",
    "from langchain_core.prompts import ChatPromptTemplate\n",
    "from langchain_core.runnables import RunnableConfig, chain\n",
    "\n",
    "today = datetime.today().strftime(\"%Y-%m-%d\")\n",
    "\n",
    "prompt = ChatPromptTemplate([\n",
    "    (\"system\", f\"You are a helpful AI assistant, Today's date is {today}\"),\n",
    "    (\"human\", \"{user_input}\"),\n",
    "    (\"placeholder\", \"{messages}\"),\n",
    "])\n",
    "\n",
    "llm = ChatOpenAI(model=\"gpt-4o-mini\")\n",
    "llm_with_tools = llm.bind_tools(tools=[web_search])\n",
    "\n",
    "llm_chain = prompt | llm_with_tools\n",
    "\n",
    "@chain\n",
    "def web_search_chain(user_input: str, config: RunnableConfig):\n",
    "    input_ = {\"user_input\": user_input}\n",
    "    ai_msg = llm_chain.invoke(input_, config=config)\n",
    "    print(\"ai_msg: \\n\", ai_msg)\n",
    "    print(\"-\" * 100)\n",
    "    tool_msgs = web_search.batch(ai_msg.tool_calls, config=config)\n",
    "    print(\"tool_msgs: \\n\", tool_msgs)\n",
    "    print(\"-\" * 100)\n",
    "    return llm_chain.invoke({**input_, \"messages\": [ai_msg, *tool_msgs]}, config=config)\n",
    "\n",
    "response = web_search_chain.invoke(\"오늘 모엣샹동 샴페인의 가격은 얼마인가요?\")\n",
    "\n",
    "pprint(response.content)\n"
   ]
  },
  {
   "cell_type": "code",
   "execution_count": 14,
   "id": "e798e667",
   "metadata": {},
   "outputs": [],
   "source": [
    "from langchain_community.tools import TavilySearchResults\n",
    "from langchain_core.tools import tool\n",
    "from typing import List\n",
    "\n",
    "@tool\n",
    "def search_web(query: str) -> List[str]:\n",
    "    \"\"\" tool 용도 기재 \"\"\"\n",
    "    tavily_search = TavilySearchResults(max_results=2)\n",
    "    docs = tavily_search.invoke(query)\n",
    "    formatted_docs = \"\\n---\\n\".join([\n",
    "        f'<Document href=\"{doc[\"url\"]}\"/>\\n{doc[\"content\"]}\\n</Document>'\n",
    "        for doc in docs\n",
    "    ])\n",
    "\n",
    "    if len(formatted_docs) > 0:\n",
    "        return formatted_docs\n",
    "    \n",
    "    return \"관련 정보를 찾을 수 없습니다.\""
   ]
  },
  {
   "cell_type": "code",
   "execution_count": 15,
   "id": "72dd8aa2",
   "metadata": {},
   "outputs": [
    {
     "name": "stdout",
     "output_type": "stream",
     "text": [
      "자료형: \n",
      "<class 'langchain_core.tools.structured.StructuredTool'>\n",
      "----------------------------------------------------------------------------------------------------\n",
      "name: \n",
      "search_web\n",
      "----------------------------------------------------------------------------------------------------\n",
      "description: \n",
      "'tool 용도 기재'\n",
      "----------------------------------------------------------------------------------------------------\n",
      "schema: \n",
      "{'description': 'tool 용도 기재 ',\n",
      " 'properties': {'query': {'title': 'Query', 'type': 'string'}},\n",
      " 'required': ['query'],\n",
      " 'title': 'search_web',\n",
      " 'type': 'object'}\n",
      "----------------------------------------------------------------------------------------------------\n"
     ]
    }
   ],
   "source": [
    "print# 도구 속성\n",
    "print(\"자료형: \")\n",
    "print(type(search_web))\n",
    "print(\"-\"*100)\n",
    "\n",
    "print(\"name: \")\n",
    "print(search_web.name)\n",
    "print(\"-\"*100)\n",
    "\n",
    "print(\"description: \")\n",
    "pprint(search_web.description)\n",
    "print(\"-\"*100)\n",
    "\n",
    "print(\"schema: \")\n",
    "pprint(search_web.args_schema.schema())\n",
    "print(\"-\"*100)"
   ]
  },
  {
   "cell_type": "code",
   "execution_count": 16,
   "id": "1500136d",
   "metadata": {},
   "outputs": [
    {
     "name": "stdout",
     "output_type": "stream",
     "text": [
      "<Document href=\"https://m.blog.naver.com/wineislikeacat/223096696241\"/>\n",
      "등심 스테이크, 채끝 스테이크와 어울리는 와인 품종은? 카베르네 소비뇽, 시라 등!\n",
      "\n",
      "등심은 소의 등뼈를 둘러싸고 있는 부위입니다.\n",
      "육질이 연하고 지방이 많아서 두꺼운 스테이크 구이용으로 최적이죠.\n",
      "채끝은 등뼈에서 허리를 감싸는 뼈로 내려오는 쪽의 살인데요,\n",
      "마블링 러버들의 선택을 쉽사리 받는 부위입니다.\n",
      "​\n",
      "등심과 채끝 스테이크는 모두 풍미가 진하고 지방맛이 강하게 느껴지기에,\n",
      "중간에서 높음 사이의 적당한 탄닌과 산도를 가진 와인을 선택하면\n",
      "씹는 맛의 긴 여운 속 느끼함을 잡아줄 수 있습니다.\n",
      "​\n",
      "이에 맞는 레드와인으로는\n",
      "카베르네 소비뇽(Carbernet Sauvignon), 시라(Syrah) 품종을 추천드려요!\n",
      "​\n",
      "\n",
      "안심 스테이크와 어울리는 와인\n",
      "\n",
      "안심 스테이크와 어울리는 와인 품종은? 산지오베제!\n",
      "</Document>\n",
      "---\n",
      "<Document href=\"https://mashija.com/%EC%8A%A4%ED%85%8C%EC%9D%B4%ED%81%AC%EC%99%80-%EC%96%B4%EC%9A%B8%EB%A6%AC%EB%8A%94-%EC%B5%9C%EA%B3%A0%EC%9D%98-%EC%99%80%EC%9D%B8-%EB%AC%B4%EC%97%87%EC%9D%84-%EA%B3%A0%EB%A5%BC-%EA%B2%83%EC%9D%B8/\"/>\n",
      "Bora Kim 2022년 1월 27일\n",
      "카베르네 소비뇽(Cabernet Sauvignon) 및 말벡(Malbec)과 같은 전형적인 선택부터 더 가벼운 레드 와인, 심지어 화이트 와인과 맛있는 스테이크를 페어링하는 방법까지, 우리의 아카이브에서 가져온 최고의 조언과 최근 디캔터 전문가가 추천한 와인을 소개한다.\n",
      "</Document>\n"
     ]
    }
   ],
   "source": [
    "query = \"스테이크와 어울리는 와인을 추천해주세요.\"\n",
    "search_results = search_web.invoke(query)\n",
    "\n",
    "print(search_results)"
   ]
  },
  {
   "cell_type": "code",
   "execution_count": 17,
   "id": "ef8515c0",
   "metadata": {},
   "outputs": [
    {
     "name": "stdout",
     "output_type": "stream",
     "text": [
      "AIMessage(content='', additional_kwargs={'tool_calls': [{'id': 'call_YhUvqqGs45vLZUSJx3b5lBj4', 'function': {'arguments': '{\"query\":\"스테이크와 어울리는 와인 추천\"}', 'name': 'search_web'}, 'type': 'function'}], 'refusal': None}, response_metadata={'token_usage': {'completion_tokens': 23, 'prompt_tokens': 55, 'total_tokens': 78, 'completion_tokens_details': {'accepted_prediction_tokens': 0, 'audio_tokens': 0, 'reasoning_tokens': 0, 'rejected_prediction_tokens': 0}, 'prompt_tokens_details': {'audio_tokens': 0, 'cached_tokens': 0}}, 'model_name': 'gpt-4o-mini-2024-07-18', 'system_fingerprint': 'fp_92e0377081', 'finish_reason': 'tool_calls', 'logprobs': None}, id='run--ad7bbf49-30f7-49bd-9627-fb66f344f4dd-0', tool_calls=[{'name': 'search_web', 'args': {'query': '스테이크와 어울리는 와인 추천'}, 'id': 'call_YhUvqqGs45vLZUSJx3b5lBj4', 'type': 'tool_call'}], usage_metadata={'input_tokens': 55, 'output_tokens': 23, 'total_tokens': 78})\n",
      "----------------------------------------------------------------------------------------------------\n",
      "''\n",
      "----------------------------------------------------------------------------------------------------\n",
      "[{'args': {'query': '스테이크와 어울리는 와인 추천'},\n",
      "  'id': 'call_YhUvqqGs45vLZUSJx3b5lBj4',\n",
      "  'name': 'search_web',\n",
      "  'type': 'tool_call'}]\n",
      "----------------------------------------------------------------------------------------------------\n"
     ]
    }
   ],
   "source": [
    "llm_with_tools = llm.bind_tools(tools=[search_web])\n",
    "query = \"스테이크와 어울리는 와인을 추천해주세요.\"\n",
    "ai_msg = llm_with_tools.invoke(query)\n",
    "\n",
    "# LLM의 전체 출력 결과 출력\n",
    "pprint(ai_msg)\n",
    "print(\"-\" * 100)\n",
    "\n",
    "# 메시지 content 속성 (텍스트 출력)\n",
    "pprint(ai_msg.content)\n",
    "print(\"-\" * 100)\n",
    "\n",
    "# LLM이 호출한 도구 정보 출력\n",
    "pprint(ai_msg.tool_calls)\n",
    "print(\"-\" * 100)\n"
   ]
  }
 ],
 "metadata": {
  "kernelspec": {
   "display_name": "langgraph-agent-_8d1f7Cp-py3.12",
   "language": "python",
   "name": "python3"
  },
  "language_info": {
   "codemirror_mode": {
    "name": "ipython",
    "version": 3
   },
   "file_extension": ".py",
   "mimetype": "text/x-python",
   "name": "python",
   "nbconvert_exporter": "python",
   "pygments_lexer": "ipython3",
   "version": "3.12.4"
  }
 },
 "nbformat": 4,
 "nbformat_minor": 5
}
